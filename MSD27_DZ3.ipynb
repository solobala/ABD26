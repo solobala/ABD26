{
  "nbformat": 4,
  "nbformat_minor": 0,
  "metadata": {
    "colab": {
      "provenance": [],
      "authorship_tag": "ABX9TyO2s7s/7luP23Bk8n+A5WEd",
      "include_colab_link": true
    },
    "kernelspec": {
      "name": "python3",
      "display_name": "Python 3"
    },
    "language_info": {
      "name": "python"
    }
  },
  "cells": [
    {
      "cell_type": "markdown",
      "metadata": {
        "id": "view-in-github",
        "colab_type": "text"
      },
      "source": [
        "<a href=\"https://colab.research.google.com/github/solobala/ABD26/blob/main/MSD27_DZ3.ipynb\" target=\"_parent\"><img src=\"https://colab.research.google.com/assets/colab-badge.svg\" alt=\"Open In Colab\"/></a>"
      ]
    },
    {
      "cell_type": "markdown",
      "source": [
        "### Домашнее задание \"Продвинутая линейная алгебра\"."
      ],
      "metadata": {
        "id": "kINo7yqYzpTr"
      }
    },
    {
      "cell_type": "markdown",
      "source": [
        "#### Уровень 0:\n",
        "Задание 1\n",
        "Дан объект в \n",
        " пространстве\n",
        " При помощи линейных отображений:\n",
        "\n",
        "Уменьшить объект в два раза\n",
        "Повернуть на 130 градусов\n",
        "Отразить объект относительно прямой y=x (поможет матрица [[0, 1, 0], [1, 0, 0], [0, 0, 1]])"
      ],
      "metadata": {
        "id": "SrLYIp9rzuf-"
      }
    },
    {
      "cell_type": "code",
      "source": [
        "import numpy as np\n",
        "import matplotlib.pyplot as plt\n",
        "A = np.array([])"
      ],
      "metadata": {
        "id": "i0wOcdXHQcjh"
      },
      "execution_count": 1,
      "outputs": []
    },
    {
      "cell_type": "code",
      "source": [
        "def init(A):\n",
        "  \"\"\"\n",
        "  Задаем исходную матрицу\n",
        "  \"\"\"\n",
        "  A = np.array([\n",
        "  [-100, -100, 1],\n",
        "  [-100, 100, 1],\n",
        "  [100, 100, 1],\n",
        "  [0, 0, 1],\n",
        "  [100, -100, 1],\n",
        "  [-100, -100, 1]\n",
        "  ])\n",
        "  return(A)"
      ],
      "metadata": {
        "id": "MHuzzhDOf9Bs"
      },
      "execution_count": 46,
      "outputs": []
    },
    {
      "cell_type": "code",
      "execution_count": 47,
      "metadata": {
        "id": "ZOaSTw-Gziu3"
      },
      "outputs": [],
      "source": [
        "def get_draw(A):\n",
        "  \"\"\"\n",
        "  Инициализирует исходную матрицу.\n",
        "  Выводит чертеж фигуры с вершинами,\n",
        "  кoординаты которых содержатся в строках матрицы А.\n",
        "  Возвращает матрицу\n",
        "  \"\"\"\n",
        "\n",
        "  x = A[:,0]\n",
        "  y = A[:,1]\n",
        "  plt.plot(x, y)\n",
        "  plt.ylim([-200, 200])\n",
        "  plt.xlim([-200, 200])\n",
        "  return(A) "
      ]
    },
    {
      "cell_type": "code",
      "source": [
        "def get_stretch(x,y,z,A):\n",
        "  \"\"\"\n",
        "  Выполняет растяжение - сжатие по осям x,y,z\n",
        "  в соответствии с передаваемыми коэффициентами\n",
        "  \"\"\"\n",
        "  B = np.array([[x,0,0],[0,y,0],[0,0,z]])\n",
        "  res = B @ A.transpose()\n",
        "  tt = res.transpose()\n",
        "  get_draw(tt)"
      ],
      "metadata": {
        "id": "Pw-_nU240IzC"
      },
      "execution_count": 49,
      "outputs": []
    },
    {
      "cell_type": "code",
      "source": [
        "def get_turn(alfa,beta,gamma,A, direction):\n",
        "  \"\"\"\n",
        "  Выполняет поворот матрицы A на заданный угол:\n",
        "  alfa - вокруг оси х,\n",
        "  beta - вокруг оси y,\n",
        "  gamma - вокруг оси z\n",
        "  direction -Направление вращения: True - по часовой стрелки, \n",
        "  False - против часовой стрелки\n",
        "  \"\"\"\n",
        "  a = np.deg2rad(alfa) # переводим углы из градусов в радианы\n",
        "  b = np.deg2rad(beta)\n",
        "  c = np.deg2rad(gamma)\n",
        "  a1 = np.cos(a)\n",
        "  a2 = np.sin(a)\n",
        "  b1 = np.cos(b)\n",
        "  b2 = np.sin(b)\n",
        "  c1 = np.cos(c)\n",
        "  c2 = np.sin(c)\n",
        "  if direction: # В зависимости от направления вращения, задаем матрицы поворота для каждой из осей\n",
        "    M_alfa = np.array([\n",
        "        [1, 0, 0],\n",
        "        [0, a1, a2],\n",
        "        [0, -a2, a1]\n",
        "        ])\n",
        "    M_beta = np.array([\n",
        "        [b1, 0, -b2],\n",
        "        [0, 1, 0],\n",
        "        [b2, 0, b1]\n",
        "        ]) \n",
        "    M_gamma = np.array([\n",
        "        [c1, c2, 0],\n",
        "        [-c2, c1, 0],\n",
        "        [0, 0, 1]\n",
        "        ]) \n",
        "  else:\n",
        "    M_alfa = np.array([\n",
        "        [1, 0, 0],\n",
        "        [0, a1, -a2],\n",
        "        [0, a2, a1]\n",
        "        ])\n",
        "    M_beta = np.array([\n",
        "        [b1, 0, b2],\n",
        "        [0, 1, 0],\n",
        "        [-b2, 0, b1]\n",
        "        ]) \n",
        "    M_gamma = np.array([\n",
        "        [c1, -c2, 0],\n",
        "        [c2, c1, 0],\n",
        "        [0, 0, 1]\n",
        "        ])\n",
        "     \n",
        "  B = M_alfa @ M_beta @ M_gamma   # считаем матрицу общую поворота  в 3-мерном пр-ве\n",
        " \n",
        "  res = B @ A.transpose()\n",
        "  tt = res.transpose() # результат поворота\n",
        "  get_draw(tt) #  визуализация\n"
      ],
      "metadata": {
        "id": "Wf0EaT_iUB5v"
      },
      "execution_count": 59,
      "outputs": []
    },
    {
      "cell_type": "code",
      "source": [
        "def get_reflect(A):\n",
        "  \"\"\"\n",
        "  Выполняет отражение матрицы А относительно оси y=x\n",
        "  \"\"\"\n",
        "  B = np.array([\n",
        "      [0, 1, 0],\n",
        "      [1, 0, 0],\n",
        "      [0, 0, 1]\n",
        "      \n",
        "  ])\n",
        "  res = B @ A.transpose()\n",
        "  tt = res.transpose() # результат поворота\n",
        "  get_draw(tt) #  визуализация"
      ],
      "metadata": {
        "id": "qNTKt__ZnYNq"
      },
      "execution_count": 86,
      "outputs": []
    },
    {
      "cell_type": "code",
      "source": [
        "# Исходный рисунок\n",
        "get_draw(init(A))"
      ],
      "metadata": {
        "colab": {
          "base_uri": "https://localhost:8080/",
          "height": 379
        },
        "id": "uQ2_vZoXRiiL",
        "outputId": "fb662fe6-382f-481a-a552-e38e9d2e0e59"
      },
      "execution_count": 48,
      "outputs": [
        {
          "output_type": "execute_result",
          "data": {
            "text/plain": [
              "array([[-100, -100,    1],\n",
              "       [-100,  100,    1],\n",
              "       [ 100,  100,    1],\n",
              "       [   0,    0,    1],\n",
              "       [ 100, -100,    1],\n",
              "       [-100, -100,    1]])"
            ]
          },
          "metadata": {},
          "execution_count": 48
        },
        {
          "output_type": "display_data",
          "data": {
            "text/plain": [
              "<Figure size 432x288 with 1 Axes>"
            ],
            "image/png": "[encoded data removed]"
          },
          "metadata": {
            "needs_background": "light"
          }
        }
      ]
    },
    {
      "cell_type": "code",
      "source": [
        "# уменьшим в 2 раза по оси х\n",
        "get_stretch(0.5,1,1,init(A))"
      ],
      "metadata": {
        "colab": {
          "base_uri": "https://localhost:8080/",
          "height": 269
        },
        "id": "psG94jKTOb2Q",
        "outputId": "5f820668-af2f-4c59-ab9c-4c3d1ca7cd1d"
      },
      "execution_count": 52,
      "outputs": [
        {
          "output_type": "display_data",
          "data": {
            "text/plain": [
              "<Figure size 432x288 with 1 Axes>"
            ],
            "image/png": "[encoded data removed]"
          },
          "metadata": {
            "needs_background": "light"
          }
        }
      ]
    },
    {
      "cell_type": "code",
      "source": [
        "# уменьшим в 2 раза по оси y:\n",
        "get_stretch(1,0.5,1,init(A))"
      ],
      "metadata": {
        "colab": {
          "base_uri": "https://localhost:8080/",
          "height": 269
        },
        "id": "K-ZR9nk0PgNq",
        "outputId": "5c07e19b-e6cd-4497-e281-48aefa391440"
      },
      "execution_count": 53,
      "outputs": [
        {
          "output_type": "display_data",
          "data": {
            "text/plain": [
              "<Figure size 432x288 with 1 Axes>"
            ],
            "image/png": "[encoded data removed]"
          },
          "metadata": {
            "needs_background": "light"
          }
        }
      ]
    },
    {
      "cell_type": "code",
      "source": [
        "# Повернем на 135 градусов по часовой стрелки вокруг оси z\n",
        "get_turn(0,0,135,init(A), True)"
      ],
      "metadata": {
        "colab": {
          "base_uri": "https://localhost:8080/",
          "height": 269
        },
        "id": "WLHlklv_Zwls",
        "outputId": "ba3d3a46-57bc-458e-c31c-c89e88123434"
      },
      "execution_count": 62,
      "outputs": [
        {
          "output_type": "display_data",
          "data": {
            "text/plain": [
              "<Figure size 432x288 with 1 Axes>"
            ],
            "image/png": "[encoded data removed]"
          },
          "metadata": {
            "needs_background": "light"
          }
        }
      ]
    },
    {
      "cell_type": "code",
      "source": [
        "# Повернем на 135 градусов против часовой стрелки вокруг оси z\n",
        "get_turn(0,0,135,init(A), False)"
      ],
      "metadata": {
        "colab": {
          "base_uri": "https://localhost:8080/",
          "height": 269
        },
        "id": "39dLtbk2kWlu",
        "outputId": "4dffdaed-969c-479c-d5a2-8de851b0925b"
      },
      "execution_count": 63,
      "outputs": [
        {
          "output_type": "display_data",
          "data": {
            "text/plain": [
              "<Figure size 432x288 with 1 Axes>"
            ],
            "image/png": "[encoded data removed]"
          },
          "metadata": {
            "needs_background": "light"
          }
        }
      ]
    },
    {
      "cell_type": "code",
      "source": [
        "# выполним отражение  относительно прямой y=x \n",
        "get_reflect(init(A))"
      ],
      "metadata": {
        "colab": {
          "base_uri": "https://localhost:8080/",
          "height": 269
        },
        "id": "t13sP7calDK-",
        "outputId": "3ed43df2-2b32-4aa6-88cb-21e7d6d0bc1b"
      },
      "execution_count": 87,
      "outputs": [
        {
          "output_type": "display_data",
          "data": {
            "text/plain": [
              "<Figure size 432x288 with 1 Axes>"
            ],
            "image/png": "[encoded data removed]"
          },
          "metadata": {
            "needs_background": "light"
          }
        }
      ]
    },
    {
      "cell_type": "markdown",
      "source": [
        "#### Уровень 1:\n",
        "Задание 2\n",
        "Найдите спектральное разложение матрицы:\n",
        "\n",
        "m = np.array([[1, 2],\n",
        "              [2, 3]])\n",
        "print(m)"
      ],
      "metadata": {
        "id": "BbrMC-Lw0JHr"
      }
    },
    {
      "cell_type": "code",
      "source": [
        "m = np.array([[1, 2], [2, 3]])"
      ],
      "metadata": {
        "id": "RGHsPYI9s0Q3"
      },
      "execution_count": 2,
      "outputs": []
    },
    {
      "cell_type": "code",
      "source": [
        "# находим собственные значения  и собственные вектора m\n",
        "znach, vektors = np.linalg.eig(m)\n",
        "znach, vektors"
      ],
      "metadata": {
        "colab": {
          "base_uri": "https://localhost:8080/"
        },
        "id": "UXYBHXzxxIMj",
        "outputId": "91959ba2-fca7-465b-c017-c9f3fcc22d18"
      },
      "execution_count": 16,
      "outputs": [
        {
          "output_type": "execute_result",
          "data": {
            "text/plain": [
              "(array([-0.23606798,  4.23606798]), array([[-0.85065081, -0.52573111],\n",
              "        [ 0.52573111, -0.85065081]]))"
            ]
          },
          "metadata": {},
          "execution_count": 16
        }
      ]
    },
    {
      "cell_type": "code",
      "source": [
        "D=np.diag(znach) # диагональная матрица с собственным значениями m на главной диагонали\n",
        "D"
      ],
      "metadata": {
        "colab": {
          "base_uri": "https://localhost:8080/"
        },
        "id": "gN4eLFUqyMi5",
        "outputId": "48e63176-764c-47b8-dd61-e57cb29d8fab"
      },
      "execution_count": 22,
      "outputs": [
        {
          "output_type": "execute_result",
          "data": {
            "text/plain": [
              "array([[-0.23606798,  0.        ],\n",
              "       [ 0.        ,  4.23606798]])"
            ]
          },
          "metadata": {},
          "execution_count": 22
        }
      ]
    },
    {
      "cell_type": "code",
      "source": [
        "St = vektors # Матрица, строки которой собственные вектора m\n",
        "St"
      ],
      "metadata": {
        "colab": {
          "base_uri": "https://localhost:8080/"
        },
        "id": "A_4tLZdD3eOi",
        "outputId": "2ac6f6ea-9dab-4b82-87c1-3ec3bd551218"
      },
      "execution_count": 23,
      "outputs": [
        {
          "output_type": "execute_result",
          "data": {
            "text/plain": [
              "array([[-0.85065081, -0.52573111],\n",
              "       [ 0.52573111, -0.85065081]])"
            ]
          },
          "metadata": {},
          "execution_count": 23
        }
      ]
    },
    {
      "cell_type": "code",
      "source": [
        "S = np.transpose(vektors) # матрица, столбцы которой - собственные вектора m\n",
        "S"
      ],
      "metadata": {
        "colab": {
          "base_uri": "https://localhost:8080/"
        },
        "id": "p76I36Dt3kyq",
        "outputId": "e53c8df4-6384-4104-af60-f8232d99ba2b"
      },
      "execution_count": 24,
      "outputs": [
        {
          "output_type": "execute_result",
          "data": {
            "text/plain": [
              "array([[-0.85065081,  0.52573111],\n",
              "       [-0.52573111, -0.85065081]])"
            ]
          },
          "metadata": {},
          "execution_count": 24
        }
      ]
    },
    {
      "cell_type": "code",
      "source": [
        "np.dot(np.dot(St,D),S) # получаем исходную матрицу m - проверка"
      ],
      "metadata": {
        "colab": {
          "base_uri": "https://localhost:8080/"
        },
        "id": "SDgWNdZb3pDG",
        "outputId": "fde320df-f0f3-4b69-a9cb-ae1fa3fb4879"
      },
      "execution_count": 25,
      "outputs": [
        {
          "output_type": "execute_result",
          "data": {
            "text/plain": [
              "array([[1., 2.],\n",
              "       [2., 3.]])"
            ]
          },
          "metadata": {},
          "execution_count": 25
        }
      ]
    }
  ]
}
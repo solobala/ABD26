{
  "nbformat": 4,
  "nbformat_minor": 0,
  "metadata": {
    "colab": {
      "provenance": [],
      "collapsed_sections": [
        "h11c78QYEg3U",
        "7O7zwFdGEoTT",
        "o_elLeltFCf1",
        "6AGDIpCfFPmW",
        "__ODaKzQFnHw"
      ],
      "authorship_tag": "ABX9TyOESvhxaz179uQHm8F9q2pO",
      "include_colab_link": true
    },
    "kernelspec": {
      "name": "python3",
      "display_name": "Python 3"
    },
    "language_info": {
      "name": "python"
    }
  },
  "cells": [
    {
      "cell_type": "markdown",
      "metadata": {
        "id": "view-in-github",
        "colab_type": "text"
      },
      "source": [
        "<a href=\"https://colab.research.google.com/github/solobala/ABD26/blob/main/ABD26_%D0%9B%D0%B0%D0%B1%D0%B0_PySpark.ipynb\" target=\"_parent\"><img src=\"https://colab.research.google.com/assets/colab-badge.svg\" alt=\"Open In Colab\"/></a>"
      ]
    },
    {
      "cell_type": "markdown",
      "source": [
        "Дан набор данных по оттоку клиентов. Набор данных содержит всего 5 000 записей (т.е. абонентов). Данные доступны тут - https://drive.google.com/open?id=1ArslqEEno2hrr5tAs25P0JN0P-coLcFD Перечень полей: state – штат; account length – абонентский стаж; area code – код региона; phone number – номер телефона; international plan – тарифный план для международных звонков; voice mail plan – тарифный план для голосовой почты; number vmail messages – количество сообщений голосовой почты; total day minutes – общая длительность звонков в дневное время (мин); total day calls – общее количество звонков в дневное время; total day charge – общая стоимость звонков в дневное время; total eve minutes – общая длительность звонков в вечернее время (мин); total eve calls – общее количество звонков в вечернее время; total eve charge – общая стоимость звонков в вечернее время; total night minutes – общая длительность звонков в ночное время (мин); total night calls – общее количество звонков в ночное время; total night charge – общая стоимость звонков в ночное время; total intl minutes – общая длительность международных звонков (мин); total intl calls – общее количество международных звонков; total intl charge – общая стоимость международных звонков; number customer service calls – количество звонков в службу поддержки. churned – покинул ли клиент компанию Google Docs churn.csv Ваша задача используя pandas или pyspark ответить на следующие вопросы:\n",
        "\n",
        "Построить гистограмму количества звонков в техническую поддержку Рассчитать и построить гистограмму общей длительности звонков клиента (дневных + ночных + вечерних + международны) Собственноручно (не используя встроенных функций) рассчитать линейный коэффициент корреляции (https://ru.wikipedia.org/wiki/Корреляция) общего количества минут и количества звонков в техподдержку Визуализировать точечный график по общему количеству минут / количеству звонков в поддержку, подкрасив точки в зависимости от оттока абонента Вывести top-5 самых много и самых мало говорящих клиентов Вывести долю оттока клиентов и среднюю стоимость минуты дневного времени разговора в зависимости от штата перевести штат в one-hot формат при помощи pandas-функции get_dummies или удалите колонку, если вы делаете решение на pyspark Разбить данные на множество для обучения и для проверки, отобрав признаки для обучения модели классификации (убрать номер телефона, код региона, признаки планов + все добавленные аттрибуты) Обучить какую-нибудь модель классификации и оценить качество (точность) на отложенной выборке %D0%9A%D0%BE%D1%80%D1%80%D0%B5%D0%BB%D1%8F%D1%86%D0%B8%D1%8F"
      ],
      "metadata": {
        "id": "AKS2N5VJK44d"
      }
    },
    {
      "cell_type": "markdown",
      "source": [
        "# Установка PySpark"
      ],
      "metadata": {
        "id": "h11c78QYEg3U"
      }
    },
    {
      "cell_type": "code",
      "execution_count": 1,
      "metadata": {
        "id": "JN3VQqXWK4Nc"
      },
      "outputs": [],
      "source": [
        "# Установка PySpark\n",
        "!apt-get update > /dev/null"
      ]
    },
    {
      "cell_type": "code",
      "source": [
        "!apt-get install openjdk-8-jdk-headless -qq > /dev/null"
      ],
      "metadata": {
        "id": "KICQxHPFLF7K"
      },
      "execution_count": 2,
      "outputs": []
    },
    {
      "cell_type": "code",
      "source": [
        "!wget -q https://dlcdn.apache.org/spark/spark-3.3.1/spark-3.3.1-bin-hadoop3.tgz"
      ],
      "metadata": {
        "id": "wTQxnOSHLJuS"
      },
      "execution_count": 3,
      "outputs": []
    },
    {
      "cell_type": "code",
      "source": [
        "!tar -xf spark-3.3.1-bin-hadoop3.tgz"
      ],
      "metadata": {
        "id": "6Fbgf7hdLKhi"
      },
      "execution_count": 4,
      "outputs": []
    },
    {
      "cell_type": "code",
      "source": [
        "import os\n",
        "os.environ[\"JAVA_HOME\"] = \"/usr/lib/jvm/java-8-openjdk-amd64\"\n",
        "os.environ[\"SPARK_HOME\"] = \"/content/spark-3.3.1-bin-hadoop3\""
      ],
      "metadata": {
        "id": "_f5R1SSnLQiS"
      },
      "execution_count": 5,
      "outputs": []
    },
    {
      "cell_type": "code",
      "source": [
        "!pip install -q findspark\n",
        "import findspark"
      ],
      "metadata": {
        "id": "sS1EVp25LTxS"
      },
      "execution_count": 6,
      "outputs": []
    },
    {
      "cell_type": "code",
      "source": [
        "findspark.init()\n",
        "from pyspark.sql import SparkSession"
      ],
      "metadata": {
        "id": "_0jDnlP9LXHi"
      },
      "execution_count": 7,
      "outputs": []
    },
    {
      "cell_type": "code",
      "source": [
        "spark = SparkSession.builder.master(\"local[*]\").getOrCreate()\n",
        "sc = spark.sparkContext"
      ],
      "metadata": {
        "id": "ggTnkNJiLagH"
      },
      "execution_count": 8,
      "outputs": []
    },
    {
      "cell_type": "markdown",
      "source": [
        "# Загрузка Датасета"
      ],
      "metadata": {
        "id": "7O7zwFdGEoTT"
      }
    },
    {
      "cell_type": "code",
      "source": [
        "# загрузка файла\n",
        "df = spark.read.csv('/content/churn.csv', inferSchema=True, header=True)"
      ],
      "metadata": {
        "id": "Cez2bZ_6Lcim"
      },
      "execution_count": 255,
      "outputs": []
    },
    {
      "cell_type": "code",
      "source": [
        "df.show()"
      ],
      "metadata": {
        "colab": {
          "base_uri": "https://localhost:8080/"
        },
        "id": "XRptGOq1R5j-",
        "outputId": "afc59aab-ff65-435b-f77f-89f437d003a7"
      },
      "execution_count": 256,
      "outputs": [
        {
          "output_type": "stream",
          "name": "stdout",
          "text": [
            "+-----+--------------+---------+------------+------------------+---------------+---------------------+-----------------+---------------+----------------+-----------------+---------------+----------------+-------------------+-----------------+------------------+------------------+----------------+-----------------+-----------------------------+-------+\n",
            "|state|account_length|area_code|phone_number|international_plan|voice_mail_plan|number_vmail_messages|total_day_minutes|total_day_calls|total_day_charge|total_eve_minutes|total_eve_calls|total_eve_charge|total_night_minutes|total_night_calls|total_night_charge|total_intl_minutes|total_intl_calls|total_intl_charge|number_customer_service_calls|churned|\n",
            "+-----+--------------+---------+------------+------------------+---------------+---------------------+-----------------+---------------+----------------+-----------------+---------------+----------------+-------------------+-----------------+------------------+------------------+----------------+-----------------+-----------------------------+-------+\n",
            "|   KS|           128|      415|    382-4657|                no|            yes|                   25|            265.1|            110|           45.07|            197.4|             99|           16.78|              244.7|               91|             11.01|              10.0|               3|              2.7|                            1|  false|\n",
            "|   OH|           107|      415|    371-7191|                no|            yes|                   26|            161.6|            123|           27.47|            195.5|            103|           16.62|              254.4|              103|             11.45|              13.7|               3|              3.7|                            1|  false|\n",
            "|   NJ|           137|      415|    358-1921|                no|             no|                    0|            243.4|            114|           41.38|            121.2|            110|            10.3|              162.6|              104|              7.32|              12.2|               5|             3.29|                            0|  false|\n",
            "|   OH|            84|      408|    375-9999|               yes|             no|                    0|            299.4|             71|            50.9|             61.9|             88|            5.26|              196.9|               89|              8.86|               6.6|               7|             1.78|                            2|  false|\n",
            "|   OK|            75|      415|    330-6626|               yes|             no|                    0|            166.7|            113|           28.34|            148.3|            122|           12.61|              186.9|              121|              8.41|              10.1|               3|             2.73|                            3|  false|\n",
            "|   AL|           118|      510|    391-8027|               yes|             no|                    0|            223.4|             98|           37.98|            220.6|            101|           18.75|              203.9|              118|              9.18|               6.3|               6|              1.7|                            0|  false|\n",
            "|   MA|           121|      510|    355-9993|                no|            yes|                   24|            218.2|             88|           37.09|            348.5|            108|           29.62|              212.6|              118|              9.57|               7.5|               7|             2.03|                            3|  false|\n",
            "|   MO|           147|      415|    329-9001|               yes|             no|                    0|            157.0|             79|           26.69|            103.1|             94|            8.76|              211.8|               96|              9.53|               7.1|               6|             1.92|                            0|  false|\n",
            "|   LA|           117|      408|    335-4719|                no|             no|                    0|            184.5|             97|           31.37|            351.6|             80|           29.89|              215.8|               90|              9.71|               8.7|               4|             2.35|                            1|  false|\n",
            "|   WV|           141|      415|    330-8173|               yes|            yes|                   37|            258.6|             84|           43.96|            222.0|            111|           18.87|              326.4|               97|             14.69|              11.2|               5|             3.02|                            0|  false|\n",
            "|   IN|            65|      415|    329-6603|                no|             no|                    0|            129.1|            137|           21.95|            228.5|             83|           19.42|              208.8|              111|               9.4|              12.7|               6|             3.43|                            4|   true|\n",
            "|   RI|            74|      415|    344-9403|                no|             no|                    0|            187.7|            127|           31.91|            163.4|            148|           13.89|              196.0|               94|              8.82|               9.1|               5|             2.46|                            0|  false|\n",
            "|   IA|           168|      408|    363-1107|                no|             no|                    0|            128.8|             96|            21.9|            104.9|             71|            8.92|              141.1|              128|              6.35|              11.2|               2|             3.02|                            1|  false|\n",
            "|   MT|            95|      510|    394-8006|                no|             no|                    0|            156.6|             88|           26.62|            247.6|             75|           21.05|              192.3|              115|              8.65|              12.3|               5|             3.32|                            3|  false|\n",
            "|   IA|            62|      415|    366-9238|                no|             no|                    0|            120.7|             70|           20.52|            307.2|             76|           26.11|              203.0|               99|              9.14|              13.1|               6|             3.54|                            4|  false|\n",
            "|   NY|           161|      415|    351-7269|                no|             no|                    0|            332.9|             67|           56.59|            317.8|             97|           27.01|              160.6|              128|              7.23|               5.4|               9|             1.46|                            4|   true|\n",
            "|   ID|            85|      408|    350-8884|                no|            yes|                   27|            196.4|            139|           33.39|            280.9|             90|           23.88|               89.3|               75|              4.02|              13.8|               4|             3.73|                            1|  false|\n",
            "|   VT|            93|      510|    386-2923|                no|             no|                    0|            190.7|            114|           32.42|            218.2|            111|           18.55|              129.6|              121|              5.83|               8.1|               3|             2.19|                            3|  false|\n",
            "|   VA|            76|      510|    356-2992|                no|            yes|                   33|            189.7|             66|           32.25|            212.8|             65|           18.09|              165.7|              108|              7.46|              10.0|               5|              2.7|                            1|  false|\n",
            "|   TX|            73|      415|    373-2782|                no|             no|                    0|            224.4|             90|           38.15|            159.5|             88|           13.56|              192.8|               74|              8.68|              13.0|               2|             3.51|                            1|  false|\n",
            "+-----+--------------+---------+------------+------------------+---------------+---------------------+-----------------+---------------+----------------+-----------------+---------------+----------------+-------------------+-----------------+------------------+------------------+----------------+-----------------+-----------------------------+-------+\n",
            "only showing top 20 rows\n",
            "\n"
          ]
        }
      ]
    },
    {
      "cell_type": "markdown",
      "source": [
        "# Визуализация и расчеты"
      ],
      "metadata": {
        "id": "OA1SxAY9Euz-"
      }
    },
    {
      "cell_type": "code",
      "source": [
        "# Построить гистограмму количества звонков в техническую поддержку\n",
        "import matplotlib.pyplot as plt\n",
        "number_of_calls = [v.number_customer_service_calls for v in df[['number_customer_service_calls']].collect()]\n",
        "plt.hist(number_of_calls)"
      ],
      "metadata": {
        "colab": {
          "base_uri": "https://localhost:8080/",
          "height": 339
        },
        "id": "qCmR6OaGLrdT",
        "outputId": "f4091574-5a24-4022-f87f-f49d93430a8d"
      },
      "execution_count": 197,
      "outputs": [
        {
          "output_type": "execute_result",
          "data": {
            "text/plain": [
              "(array([1023., 1786., 1127.,  665.,  252.,   96.,   34.,   13.,    2.,\n",
              "           2.]),\n",
              " array([0. , 0.9, 1.8, 2.7, 3.6, 4.5, 5.4, 6.3, 7.2, 8.1, 9. ]),\n",
              " <a list of 10 Patch objects>)"
            ]
          },
          "metadata": {},
          "execution_count": 197
        },
        {
          "output_type": "display_data",
          "data": {
            "text/plain": [
              "<Figure size 432x288 with 1 Axes>"
            ],
            "image/png": "[encoded data removed]"
          },
          "metadata": {
            "needs_background": "light"
          }
        }
      ]
    },
    {
      "cell_type": "code",
      "source": [
        "#Рассчитать и построить гистограмму общей длительности звонков клиента (дневных + ночных + вечерних + международны)\n",
        "total_time = [v.total_day_minutes + v.total_eve_minutes + v.total_night_minutes + v.total_intl_minutes for v in df[['total_day_minutes','total_eve_minutes', 'total_night_minutes', 'total_intl_minutes']].collect()]\n",
        "\n",
        "df = df.withColumn('total_time', df['total_day_minutes'] + df['total_eve_minutes'] + df['total_night_minutes'] + df['total_intl_minutes'])\n",
        "plt.hist(total_time)\n"
      ],
      "metadata": {
        "colab": {
          "base_uri": "https://localhost:8080/",
          "height": 357
        },
        "id": "RV3_2spoMonS",
        "outputId": "b2a2adfb-53b1-4d67-ef16-0b1fb231eb00"
      },
      "execution_count": 198,
      "outputs": [
        {
          "output_type": "execute_result",
          "data": {
            "text/plain": [
              "(array([  10.,   88.,  267.,  784., 1206., 1268.,  864.,  381.,  109.,\n",
              "          23.]),\n",
              " array([284.3 , 344.37, 404.44, 464.51, 524.58, 584.65, 644.72, 704.79,\n",
              "        764.86, 824.93, 885.  ]),\n",
              " <a list of 10 Patch objects>)"
            ]
          },
          "metadata": {},
          "execution_count": 198
        },
        {
          "output_type": "display_data",
          "data": {
            "text/plain": [
              "<Figure size 432x288 with 1 Axes>"
            ],
            "image/png": "[encoded data removed]"
          },
          "metadata": {
            "needs_background": "light"
          }
        }
      ]
    },
    {
      "cell_type": "code",
      "source": [
        "# Собственноручно (не используя встроенных функций) рассчитать линейный коэффициент корреляции (https://ru.wikipedia.org/wiki/Корреляция) общего количества минут и количества звонков в техподдержку\n",
        "delta_x = [x - sum(total_time)/len(total_time) for x in total_time] \n",
        "mean = sum([v.number_customer_service_calls for v in df[['number_customer_service_calls']].collect()])/len([v.number_customer_service_calls for v in df[['number_customer_service_calls']].collect()])\n",
        "delta_y =[v.number_customer_service_calls - mean for v in df[['number_customer_service_calls']].collect()] \n",
        "\n",
        "chisl = sum([x*y for x,y in zip(delta_x, delta_y)])\n",
        "from math import sqrt\n",
        "znam = sqrt(sum([x**2 for x in delta_x]) * sum([y**2 for y in delta_y]))\n",
        "pirson = chisl/ znam\n",
        "pirson"
      ],
      "metadata": {
        "colab": {
          "base_uri": "https://localhost:8080/"
        },
        "id": "kGjVIFsfO9_M",
        "outputId": "a4ae6251-651c-4163-9cc8-8d189023fd36"
      },
      "execution_count": 199,
      "outputs": [
        {
          "output_type": "execute_result",
          "data": {
            "text/plain": [
              "-0.01140791082744116"
            ]
          },
          "metadata": {},
          "execution_count": 199
        }
      ]
    },
    {
      "cell_type": "code",
      "source": [
        "# другой способ\n",
        "from pyspark.sql.functions import mean as _mean, stddev as _stddev, sum as _sum, sqrt as _sqrt, pow as _pow, col\n",
        "df_stats = df.select(\n",
        "    _mean(col('total_time')).alias('mean_calls'),\n",
        "    _mean(col('number_customer_service_calls')).alias('mean_service')\n",
        ").collect()\n",
        "\n",
        "df_stats[0]"
      ],
      "metadata": {
        "colab": {
          "base_uri": "https://localhost:8080/"
        },
        "id": "noCtz5xiT6Qc",
        "outputId": "d89a9a61-a008-47f8-c0b9-ca5b2fe48aff"
      },
      "execution_count": 200,
      "outputs": [
        {
          "output_type": "execute_result",
          "data": {
            "text/plain": [
              "Row(mean_calls=591.5788600000038, mean_service=1.5704)"
            ]
          },
          "metadata": {},
          "execution_count": 200
        }
      ]
    },
    {
      "cell_type": "code",
      "source": [
        "mean_calls = df_stats[0]['mean_calls']\n",
        "mean_service = df_stats[0]['mean_service']"
      ],
      "metadata": {
        "id": "A3M4pG76UqNa"
      },
      "execution_count": 201,
      "outputs": []
    },
    {
      "cell_type": "code",
      "source": [
        "df.select( (_sum( (col('total_time') - mean_calls) * (col('number_customer_service_calls') - mean_service ) ) /  _sqrt( _sum( _pow(col('total_time') - mean_calls, 2) ) * _sum( _pow(col('number_customer_service_calls') - mean_service, 2) ) )).alias('r')).collect()"
      ],
      "metadata": {
        "colab": {
          "base_uri": "https://localhost:8080/"
        },
        "id": "CEJ8waVxUNxI",
        "outputId": "a47ff25a-78de-47e7-c28c-63fd09ea5b2f"
      },
      "execution_count": 202,
      "outputs": [
        {
          "output_type": "execute_result",
          "data": {
            "text/plain": [
              "[Row(r=-0.01140791082744116)]"
            ]
          },
          "metadata": {},
          "execution_count": 202
        }
      ]
    },
    {
      "cell_type": "code",
      "source": [
        "# Визуализировать точечный график по общему количеству минут / количеству звонков в поддержку, подкрасив точки в зависимости от оттока абонента\n",
        "plt.scatter(total_time, df[['number_customer_service_calls']].collect(), c=df[['churned']].collect())"
      ],
      "metadata": {
        "colab": {
          "base_uri": "https://localhost:8080/",
          "height": 283
        },
        "id": "qJ4jiRGRST9J",
        "outputId": "c406fa75-b4cf-4d75-8749-1b1a00ad8e1a"
      },
      "execution_count": 203,
      "outputs": [
        {
          "output_type": "execute_result",
          "data": {
            "text/plain": [
              "<matplotlib.collections.PathCollection at 0x7fb51d2cb3a0>"
            ]
          },
          "metadata": {},
          "execution_count": 203
        },
        {
          "output_type": "display_data",
          "data": {
            "text/plain": [
              "<Figure size 432x288 with 1 Axes>"
            ],
            "image/png": "[encoded data removed]"
          },
          "metadata": {
            "needs_background": "light"
          }
        }
      ]
    },
    {
      "cell_type": "code",
      "source": [
        "# Вывести top-5 самых много и самых мало говорящих клиентов\n",
        "df.createOrReplaceTempView('power')\n",
        "spark.sql('SELECT * FROM power  order by total_time limit 5').show()\n"
      ],
      "metadata": {
        "colab": {
          "base_uri": "https://localhost:8080/"
        },
        "id": "X6C75n5zSwpf",
        "outputId": "9197e5cf-f100-4e12-8bdf-25473225d25e"
      },
      "execution_count": 204,
      "outputs": [
        {
          "output_type": "stream",
          "name": "stdout",
          "text": [
            "+-----+--------------+---------+------------+------------------+---------------+---------------------+-----------------+---------------+----------------+-----------------+---------------+----------------+-------------------+-----------------+------------------+------------------+----------------+-----------------+-----------------------------+-------+------------------+\n",
            "|state|account_length|area_code|phone_number|international_plan|voice_mail_plan|number_vmail_messages|total_day_minutes|total_day_calls|total_day_charge|total_eve_minutes|total_eve_calls|total_eve_charge|total_night_minutes|total_night_calls|total_night_charge|total_intl_minutes|total_intl_calls|total_intl_charge|number_customer_service_calls|churned|        total_time|\n",
            "+-----+--------------+---------+------------+------------------+---------------+---------------------+-----------------+---------------+----------------+-----------------+---------------+----------------+-------------------+-----------------+------------------+------------------+----------------+-----------------+-----------------------------+-------+------------------+\n",
            "|   WI|           131|      415|    331-3174|                no|            yes|                   39|             69.1|            122|           11.75|            101.3|            136|            8.61|              104.8|               94|              4.72|               9.1|               4|             2.46|                            0|  false|             284.3|\n",
            "|   IL|            48|      510|    380-5246|                no|             no|                    0|            128.2|             71|           21.79|             48.1|             78|            4.09|              116.3|               80|              5.23|               8.9|               3|              2.4|                            0|  false|301.49999999999994|\n",
            "|   MN|           141|      408|    362-8044|                no|             no|                    0|             77.8|            123|           13.23|            144.4|            119|           12.27|               75.3|               65|              3.39|               5.7|               7|             1.54|                            1|  false|             303.2|\n",
            "|   WI|            70|      415|    405-9233|                no|             no|                    0|              7.9|            100|            1.34|            136.4|             83|           11.59|              156.6|               89|              7.05|              12.1|               1|             3.27|                            0|  false|             313.0|\n",
            "|   MI|            45|      510|    375-8934|                no|            yes|                   26|             91.7|            104|           15.59|            150.6|            119|            12.8|               63.3|              103|              2.85|               7.7|               5|             2.08|                            1|  false|             313.3|\n",
            "+-----+--------------+---------+------------+------------------+---------------+---------------------+-----------------+---------------+----------------+-----------------+---------------+----------------+-------------------+-----------------+------------------+------------------+----------------+-----------------+-----------------------------+-------+------------------+\n",
            "\n"
          ]
        }
      ]
    },
    {
      "cell_type": "code",
      "source": [
        "spark.sql('SELECT phone_number, total_time FROM power group by phone_number, total_time order by total_time DESC limit 5').show()"
      ],
      "metadata": {
        "colab": {
          "base_uri": "https://localhost:8080/"
        },
        "id": "j9NbEnxqW1xh",
        "outputId": "52944050-ca10-44de-f442-d475a159cefe"
      },
      "execution_count": 205,
      "outputs": [
        {
          "output_type": "stream",
          "name": "stdout",
          "text": [
            "+------------+-----------------+\n",
            "|phone_number|       total_time|\n",
            "+------------+-----------------+\n",
            "|    345-9140|884.9999999999999|\n",
            "|    352-6976|882.1999999999999|\n",
            "|    345-3787|860.1999999999999|\n",
            "|    410-3888|858.1999999999999|\n",
            "|    370-4667|857.3999999999999|\n",
            "+------------+-----------------+\n",
            "\n"
          ]
        }
      ]
    },
    {
      "cell_type": "code",
      "source": [
        "# Другой способ\n",
        "df.orderBy('total_time', ascending=False).show(5)"
      ],
      "metadata": {
        "colab": {
          "base_uri": "https://localhost:8080/"
        },
        "id": "cYWOMb44XBUs",
        "outputId": "b31ec93f-a1fa-45ab-bc4f-05fb1c8efeb3"
      },
      "execution_count": 206,
      "outputs": [
        {
          "output_type": "stream",
          "name": "stdout",
          "text": [
            "+-----+--------------+---------+------------+------------------+---------------+---------------------+-----------------+---------------+----------------+-----------------+---------------+----------------+-------------------+-----------------+------------------+------------------+----------------+-----------------+-----------------------------+-------+-----------------+\n",
            "|state|account_length|area_code|phone_number|international_plan|voice_mail_plan|number_vmail_messages|total_day_minutes|total_day_calls|total_day_charge|total_eve_minutes|total_eve_calls|total_eve_charge|total_night_minutes|total_night_calls|total_night_charge|total_intl_minutes|total_intl_calls|total_intl_charge|number_customer_service_calls|churned|       total_time|\n",
            "+-----+--------------+---------+------------+------------------+---------------+---------------------+-----------------+---------------+----------------+-----------------+---------------+----------------+-------------------+-----------------+------------------+------------------+----------------+-----------------+-----------------------------+-------+-----------------+\n",
            "|   NY|            64|      415|    345-9140|               yes|             no|                    0|            346.8|             55|           58.96|            249.5|             79|           21.21|              275.4|              102|             12.39|              13.3|               9|             3.59|                            1|   true|884.9999999999999|\n",
            "|   OK|            89|      510|    352-6976|                no|             no|                    0|            303.9|             95|           51.66|            260.9|            114|           22.18|              312.1|               89|             14.04|               5.3|               3|             1.43|                            1|   true|882.1999999999999|\n",
            "|   MS|           111|      408|    345-3787|                no|             no|                    0|            294.7|             90|            50.1|            294.6|             72|           25.04|              260.1|              121|              11.7|              10.8|               3|             2.92|                            1|   true|860.1999999999999|\n",
            "|   AZ|            97|      510|    410-3888|                no|             no|                    0|            252.6|             89|           42.94|            340.3|             91|           28.93|              256.5|               67|             11.54|               8.8|               5|             2.38|                            1|   true|858.1999999999999|\n",
            "|   MO|           103|      415|    370-4667|                no|            yes|                   37|            230.7|            112|           39.22|            319.4|            116|           27.15|              299.4|               77|             13.47|               7.9|               3|             2.13|                            2|  false|857.3999999999999|\n",
            "+-----+--------------+---------+------------+------------------+---------------+---------------------+-----------------+---------------+----------------+-----------------+---------------+----------------+-------------------+-----------------+------------------+------------------+----------------+-----------------+-----------------------------+-------+-----------------+\n",
            "only showing top 5 rows\n",
            "\n"
          ]
        }
      ]
    },
    {
      "cell_type": "code",
      "source": [
        "df.orderBy('total_time').show(5)"
      ],
      "metadata": {
        "colab": {
          "base_uri": "https://localhost:8080/"
        },
        "id": "UZJdvKDqXUM_",
        "outputId": "58fc079a-7186-4feb-c14f-a7137df1248a"
      },
      "execution_count": 207,
      "outputs": [
        {
          "output_type": "stream",
          "name": "stdout",
          "text": [
            "+-----+--------------+---------+------------+------------------+---------------+---------------------+-----------------+---------------+----------------+-----------------+---------------+----------------+-------------------+-----------------+------------------+------------------+----------------+-----------------+-----------------------------+-------+------------------+\n",
            "|state|account_length|area_code|phone_number|international_plan|voice_mail_plan|number_vmail_messages|total_day_minutes|total_day_calls|total_day_charge|total_eve_minutes|total_eve_calls|total_eve_charge|total_night_minutes|total_night_calls|total_night_charge|total_intl_minutes|total_intl_calls|total_intl_charge|number_customer_service_calls|churned|        total_time|\n",
            "+-----+--------------+---------+------------+------------------+---------------+---------------------+-----------------+---------------+----------------+-----------------+---------------+----------------+-------------------+-----------------+------------------+------------------+----------------+-----------------+-----------------------------+-------+------------------+\n",
            "|   WI|           131|      415|    331-3174|                no|            yes|                   39|             69.1|            122|           11.75|            101.3|            136|            8.61|              104.8|               94|              4.72|               9.1|               4|             2.46|                            0|  false|             284.3|\n",
            "|   IL|            48|      510|    380-5246|                no|             no|                    0|            128.2|             71|           21.79|             48.1|             78|            4.09|              116.3|               80|              5.23|               8.9|               3|              2.4|                            0|  false|301.49999999999994|\n",
            "|   MN|           141|      408|    362-8044|                no|             no|                    0|             77.8|            123|           13.23|            144.4|            119|           12.27|               75.3|               65|              3.39|               5.7|               7|             1.54|                            1|  false|             303.2|\n",
            "|   WI|            70|      415|    405-9233|                no|             no|                    0|              7.9|            100|            1.34|            136.4|             83|           11.59|              156.6|               89|              7.05|              12.1|               1|             3.27|                            0|  false|             313.0|\n",
            "|   MI|            45|      510|    375-8934|                no|            yes|                   26|             91.7|            104|           15.59|            150.6|            119|            12.8|               63.3|              103|              2.85|               7.7|               5|             2.08|                            1|  false|             313.3|\n",
            "+-----+--------------+---------+------------+------------------+---------------+---------------------+-----------------+---------------+----------------+-----------------+---------------+----------------+-------------------+-----------------+------------------+------------------+----------------+-----------------+-----------------------------+-------+------------------+\n",
            "only showing top 5 rows\n",
            "\n"
          ]
        }
      ]
    },
    {
      "cell_type": "code",
      "source": [
        "# Вывести долю оттока клиентов и среднюю стоимость минуты дневного времени разговора в зависимости от штата\n",
        "from pyspark.sql import functions as F\n",
        "df = df.withColumn('churned_int', col('churned').cast('int')) # добавляем колонку чтобы сохранить boolean знаяения Churned как целые\n",
        "df.groupBy('state').agg(F.avg(df.total_day_charge/df.total_day_minutes).alias('avg'), F.avg(df.churned_int)).orderBy('state').show()\n"
      ],
      "metadata": {
        "colab": {
          "base_uri": "https://localhost:8080/"
        },
        "id": "2t2XurwZXbwj",
        "outputId": "1c9bb7d0-7199-40ff-c0c7-f0b833f7c84b"
      },
      "execution_count": 258,
      "outputs": [
        {
          "output_type": "stream",
          "name": "stdout",
          "text": [
            "+-----+-------------------+-------------------+\n",
            "|state|                avg|   avg(churned_int)|\n",
            "+-----+-------------------+-------------------+\n",
            "|   AK| 0.1700015214047099|0.06944444444444445|\n",
            "|   AL| 0.1700013329716803|0.10483870967741936|\n",
            "|   AR| 0.1700026921458431|0.17391304347826086|\n",
            "|   AZ|0.17000187550447118|0.10112359550561797|\n",
            "|   CA|0.17000349532173592| 0.2692307692307692|\n",
            "|   CO|0.17000249581284835|0.11458333333333333|\n",
            "|   CT| 0.1700016593171857|0.16161616161616163|\n",
            "|   DC|0.17000856850114776|0.10227272727272728|\n",
            "|   DE|0.17000515533395988| 0.1595744680851064|\n",
            "|   FL|0.17000128818261162|0.13333333333333333|\n",
            "|   GA|0.17000285296030704|0.12048192771084337|\n",
            "|   HI|0.16999966083809578|0.05813953488372093|\n",
            "|   IA|0.17000844477675295|0.11594202898550725|\n",
            "|   ID|0.17000328448548618|0.11764705882352941|\n",
            "|   IL| 0.1700037716584672|0.07954545454545454|\n",
            "|   IN|0.16999955151681176|0.14285714285714285|\n",
            "|   KS| 0.1700027862649722|0.18181818181818182|\n",
            "|   KY|0.17000800973759486|0.15151515151515152|\n",
            "|   LA|0.17000424778238132|0.08536585365853659|\n",
            "|   MA| 0.1699996584851606| 0.1650485436893204|\n",
            "+-----+-------------------+-------------------+\n",
            "only showing top 20 rows\n",
            "\n"
          ]
        }
      ]
    },
    {
      "cell_type": "markdown",
      "source": [
        "# Сохранение датасета с добавленной колонкой churned_int для обработки в pipeline"
      ],
      "metadata": {
        "id": "o_elLeltFCf1"
      }
    },
    {
      "cell_type": "code",
      "source": [
        "df_for_pipeline = df"
      ],
      "metadata": {
        "id": "aF7cwHuW_RyQ"
      },
      "execution_count": 259,
      "outputs": []
    },
    {
      "cell_type": "markdown",
      "source": [
        "# Обработка датасета (подготовка признаков) вручную"
      ],
      "metadata": {
        "id": "6AGDIpCfFPmW"
      }
    },
    {
      "cell_type": "code",
      "source": [
        "# перевести признак ухода клиента и штат в one-hot формат \n",
        "from pyspark.ml.feature import StringIndexer, OneHotEncoder\n",
        "# label_indexer = StringIndexer(inputCol='churned', outputCol='label') Разве StringIndexer работает с boolean?\n",
        "indexer = StringIndexer(inputCol='state', outputCol='stateInd')\n",
        "indexerTrained = indexer.fit(df)\n",
        "df = indexerTrained.transform(df)\n",
        "df.show()"
      ],
      "metadata": {
        "colab": {
          "base_uri": "https://localhost:8080/"
        },
        "id": "f0Rbd18kVYen",
        "outputId": "103fce73-0392-4708-bcd4-07d0e9826156"
      },
      "execution_count": 260,
      "outputs": [
        {
          "output_type": "stream",
          "name": "stdout",
          "text": [
            "+-----+--------------+---------+------------+------------------+---------------+---------------------+-----------------+---------------+----------------+-----------------+---------------+----------------+-------------------+-----------------+------------------+------------------+----------------+-----------------+-----------------------------+-------+-----------+--------+\n",
            "|state|account_length|area_code|phone_number|international_plan|voice_mail_plan|number_vmail_messages|total_day_minutes|total_day_calls|total_day_charge|total_eve_minutes|total_eve_calls|total_eve_charge|total_night_minutes|total_night_calls|total_night_charge|total_intl_minutes|total_intl_calls|total_intl_charge|number_customer_service_calls|churned|churned_int|stateInd|\n",
            "+-----+--------------+---------+------------+------------------+---------------+---------------------+-----------------+---------------+----------------+-----------------+---------------+----------------+-------------------+-----------------+------------------+------------------+----------------+-----------------+-----------------------------+-------+-----------+--------+\n",
            "|   KS|           128|      415|    382-4657|                no|            yes|                   25|            265.1|            110|           45.07|            197.4|             99|           16.78|              244.7|               91|             11.01|              10.0|               3|              2.7|                            1|  false|          0|    19.0|\n",
            "|   OH|           107|      415|    371-7191|                no|            yes|                   26|            161.6|            123|           27.47|            195.5|            103|           16.62|              254.4|              103|             11.45|              13.7|               3|              3.7|                            1|  false|          0|     5.0|\n",
            "|   NJ|           137|      415|    358-1921|                no|             no|                    0|            243.4|            114|           41.38|            121.2|            110|            10.3|              162.6|              104|              7.32|              12.2|               5|             3.29|                            0|  false|          0|    10.0|\n",
            "|   OH|            84|      408|    375-9999|               yes|             no|                    0|            299.4|             71|            50.9|             61.9|             88|            5.26|              196.9|               89|              8.86|               6.6|               7|             1.78|                            2|  false|          0|     5.0|\n",
            "|   OK|            75|      415|    330-6626|               yes|             no|                    0|            166.7|            113|           28.34|            148.3|            122|           12.61|              186.9|              121|              8.41|              10.1|               3|             2.73|                            3|  false|          0|    36.0|\n",
            "|   AL|           118|      510|    391-8027|               yes|             no|                    0|            223.4|             98|           37.98|            220.6|            101|           18.75|              203.9|              118|              9.18|               6.3|               6|              1.7|                            0|  false|          0|     2.0|\n",
            "|   MA|           121|      510|    355-9993|                no|            yes|                   24|            218.2|             88|           37.09|            348.5|            108|           29.62|              212.6|              118|              9.57|               7.5|               7|             2.03|                            3|  false|          0|    13.0|\n",
            "|   MO|           147|      415|    329-9001|               yes|             no|                    0|            157.0|             79|           26.69|            103.1|             94|            8.76|              211.8|               96|              9.53|               7.1|               6|             1.92|                            0|  false|          0|    29.0|\n",
            "|   LA|           117|      408|    335-4719|                no|             no|                    0|            184.5|             97|           31.37|            351.6|             80|           29.89|              215.8|               90|              9.71|               8.7|               4|             2.35|                            1|  false|          0|    46.0|\n",
            "|   WV|           141|      415|    330-8173|               yes|            yes|                   37|            258.6|             84|           43.96|            222.0|            111|           18.87|              326.4|               97|             14.69|              11.2|               5|             3.02|                            0|  false|          0|     0.0|\n",
            "|   IN|            65|      415|    329-6603|                no|             no|                    0|            129.1|            137|           21.95|            228.5|             83|           19.42|              208.8|              111|               9.4|              12.7|               6|             3.43|                            4|   true|          1|    24.0|\n",
            "|   RI|            74|      415|    344-9403|                no|             no|                    0|            187.7|            127|           31.91|            163.4|            148|           13.89|              196.0|               94|              8.82|               9.1|               5|             2.46|                            0|  false|          0|    23.0|\n",
            "|   IA|           168|      408|    363-1107|                no|             no|                    0|            128.8|             96|            21.9|            104.9|             71|            8.92|              141.1|              128|              6.35|              11.2|               2|             3.02|                            1|  false|          0|    49.0|\n",
            "|   MT|            95|      510|    394-8006|                no|             no|                    0|            156.6|             88|           26.62|            247.6|             75|           21.05|              192.3|              115|              8.65|              12.3|               5|             3.32|                            3|  false|          0|    22.0|\n",
            "|   IA|            62|      415|    366-9238|                no|             no|                    0|            120.7|             70|           20.52|            307.2|             76|           26.11|              203.0|               99|              9.14|              13.1|               6|             3.54|                            4|  false|          0|    49.0|\n",
            "|   NY|           161|      415|    351-7269|                no|             no|                    0|            332.9|             67|           56.59|            317.8|             97|           27.01|              160.6|              128|              7.23|               5.4|               9|             1.46|                            4|   true|          1|     8.0|\n",
            "|   ID|            85|      408|    350-8884|                no|            yes|                   27|            196.4|            139|           33.39|            280.9|             90|           23.88|               89.3|               75|              4.02|              13.8|               4|             3.73|                            1|  false|          0|     3.0|\n",
            "|   VT|            93|      510|    386-2923|                no|             no|                    0|            190.7|            114|           32.42|            218.2|            111|           18.55|              129.6|              121|              5.83|               8.1|               3|             2.19|                            3|  false|          0|    17.0|\n",
            "|   VA|            76|      510|    356-2992|                no|            yes|                   33|            189.7|             66|           32.25|            212.8|             65|           18.09|              165.7|              108|              7.46|              10.0|               5|              2.7|                            1|  false|          0|     4.0|\n",
            "|   TX|            73|      415|    373-2782|                no|             no|                    0|            224.4|             90|           38.15|            159.5|             88|           13.56|              192.8|               74|              8.68|              13.0|               2|             3.51|                            1|  false|          0|     6.0|\n",
            "+-----+--------------+---------+------------+------------------+---------------+---------------------+-----------------+---------------+----------------+-----------------+---------------+----------------+-------------------+-----------------+------------------+------------------+----------------+-----------------+-----------------------------+-------+-----------+--------+\n",
            "only showing top 20 rows\n",
            "\n"
          ]
        }
      ]
    },
    {
      "cell_type": "code",
      "source": [
        "ohe = OneHotEncoder(inputCol='stateInd', outputCol='state_Ohe')\n",
        "ohe = ohe.fit(df) # Все-таки нужен Fit\n",
        "df = ohe.transform(df)\n",
        "df.show() # в state_Ohe 1 число - обьщее к-во колонок=к-во штатов -1, 2-е - номер колонки, где 1, 3 -е - непорседствееео 1"
      ],
      "metadata": {
        "colab": {
          "base_uri": "https://localhost:8080/"
        },
        "id": "P7CqLvi4bquI",
        "outputId": "3b41745c-8704-4708-b55c-64c609eaffea"
      },
      "execution_count": 261,
      "outputs": [
        {
          "output_type": "stream",
          "name": "stdout",
          "text": [
            "+-----+--------------+---------+------------+------------------+---------------+---------------------+-----------------+---------------+----------------+-----------------+---------------+----------------+-------------------+-----------------+------------------+------------------+----------------+-----------------+-----------------------------+-------+-----------+--------+---------------+\n",
            "|state|account_length|area_code|phone_number|international_plan|voice_mail_plan|number_vmail_messages|total_day_minutes|total_day_calls|total_day_charge|total_eve_minutes|total_eve_calls|total_eve_charge|total_night_minutes|total_night_calls|total_night_charge|total_intl_minutes|total_intl_calls|total_intl_charge|number_customer_service_calls|churned|churned_int|stateInd|      state_Ohe|\n",
            "+-----+--------------+---------+------------+------------------+---------------+---------------------+-----------------+---------------+----------------+-----------------+---------------+----------------+-------------------+-----------------+------------------+------------------+----------------+-----------------+-----------------------------+-------+-----------+--------+---------------+\n",
            "|   KS|           128|      415|    382-4657|                no|            yes|                   25|            265.1|            110|           45.07|            197.4|             99|           16.78|              244.7|               91|             11.01|              10.0|               3|              2.7|                            1|  false|          0|    19.0|(50,[19],[1.0])|\n",
            "|   OH|           107|      415|    371-7191|                no|            yes|                   26|            161.6|            123|           27.47|            195.5|            103|           16.62|              254.4|              103|             11.45|              13.7|               3|              3.7|                            1|  false|          0|     5.0| (50,[5],[1.0])|\n",
            "|   NJ|           137|      415|    358-1921|                no|             no|                    0|            243.4|            114|           41.38|            121.2|            110|            10.3|              162.6|              104|              7.32|              12.2|               5|             3.29|                            0|  false|          0|    10.0|(50,[10],[1.0])|\n",
            "|   OH|            84|      408|    375-9999|               yes|             no|                    0|            299.4|             71|            50.9|             61.9|             88|            5.26|              196.9|               89|              8.86|               6.6|               7|             1.78|                            2|  false|          0|     5.0| (50,[5],[1.0])|\n",
            "|   OK|            75|      415|    330-6626|               yes|             no|                    0|            166.7|            113|           28.34|            148.3|            122|           12.61|              186.9|              121|              8.41|              10.1|               3|             2.73|                            3|  false|          0|    36.0|(50,[36],[1.0])|\n",
            "|   AL|           118|      510|    391-8027|               yes|             no|                    0|            223.4|             98|           37.98|            220.6|            101|           18.75|              203.9|              118|              9.18|               6.3|               6|              1.7|                            0|  false|          0|     2.0| (50,[2],[1.0])|\n",
            "|   MA|           121|      510|    355-9993|                no|            yes|                   24|            218.2|             88|           37.09|            348.5|            108|           29.62|              212.6|              118|              9.57|               7.5|               7|             2.03|                            3|  false|          0|    13.0|(50,[13],[1.0])|\n",
            "|   MO|           147|      415|    329-9001|               yes|             no|                    0|            157.0|             79|           26.69|            103.1|             94|            8.76|              211.8|               96|              9.53|               7.1|               6|             1.92|                            0|  false|          0|    29.0|(50,[29],[1.0])|\n",
            "|   LA|           117|      408|    335-4719|                no|             no|                    0|            184.5|             97|           31.37|            351.6|             80|           29.89|              215.8|               90|              9.71|               8.7|               4|             2.35|                            1|  false|          0|    46.0|(50,[46],[1.0])|\n",
            "|   WV|           141|      415|    330-8173|               yes|            yes|                   37|            258.6|             84|           43.96|            222.0|            111|           18.87|              326.4|               97|             14.69|              11.2|               5|             3.02|                            0|  false|          0|     0.0| (50,[0],[1.0])|\n",
            "|   IN|            65|      415|    329-6603|                no|             no|                    0|            129.1|            137|           21.95|            228.5|             83|           19.42|              208.8|              111|               9.4|              12.7|               6|             3.43|                            4|   true|          1|    24.0|(50,[24],[1.0])|\n",
            "|   RI|            74|      415|    344-9403|                no|             no|                    0|            187.7|            127|           31.91|            163.4|            148|           13.89|              196.0|               94|              8.82|               9.1|               5|             2.46|                            0|  false|          0|    23.0|(50,[23],[1.0])|\n",
            "|   IA|           168|      408|    363-1107|                no|             no|                    0|            128.8|             96|            21.9|            104.9|             71|            8.92|              141.1|              128|              6.35|              11.2|               2|             3.02|                            1|  false|          0|    49.0|(50,[49],[1.0])|\n",
            "|   MT|            95|      510|    394-8006|                no|             no|                    0|            156.6|             88|           26.62|            247.6|             75|           21.05|              192.3|              115|              8.65|              12.3|               5|             3.32|                            3|  false|          0|    22.0|(50,[22],[1.0])|\n",
            "|   IA|            62|      415|    366-9238|                no|             no|                    0|            120.7|             70|           20.52|            307.2|             76|           26.11|              203.0|               99|              9.14|              13.1|               6|             3.54|                            4|  false|          0|    49.0|(50,[49],[1.0])|\n",
            "|   NY|           161|      415|    351-7269|                no|             no|                    0|            332.9|             67|           56.59|            317.8|             97|           27.01|              160.6|              128|              7.23|               5.4|               9|             1.46|                            4|   true|          1|     8.0| (50,[8],[1.0])|\n",
            "|   ID|            85|      408|    350-8884|                no|            yes|                   27|            196.4|            139|           33.39|            280.9|             90|           23.88|               89.3|               75|              4.02|              13.8|               4|             3.73|                            1|  false|          0|     3.0| (50,[3],[1.0])|\n",
            "|   VT|            93|      510|    386-2923|                no|             no|                    0|            190.7|            114|           32.42|            218.2|            111|           18.55|              129.6|              121|              5.83|               8.1|               3|             2.19|                            3|  false|          0|    17.0|(50,[17],[1.0])|\n",
            "|   VA|            76|      510|    356-2992|                no|            yes|                   33|            189.7|             66|           32.25|            212.8|             65|           18.09|              165.7|              108|              7.46|              10.0|               5|              2.7|                            1|  false|          0|     4.0| (50,[4],[1.0])|\n",
            "|   TX|            73|      415|    373-2782|                no|             no|                    0|            224.4|             90|           38.15|            159.5|             88|           13.56|              192.8|               74|              8.68|              13.0|               2|             3.51|                            1|  false|          0|     6.0| (50,[6],[1.0])|\n",
            "+-----+--------------+---------+------------+------------------+---------------+---------------------+-----------------+---------------+----------------+-----------------+---------------+----------------+-------------------+-----------------+------------------+------------------+----------------+-----------------+-----------------------------+-------+-----------+--------+---------------+\n",
            "only showing top 20 rows\n",
            "\n"
          ]
        }
      ]
    },
    {
      "cell_type": "code",
      "source": [
        "# теперь все признаки для построения модели соберем в вектор features\n",
        "from pyspark.ml.linalg import Vectors\n",
        "from pyspark.ml.feature import VectorAssembler\n",
        "cols=['account_length', 'number_vmail_messages', 'total_day_minutes',\n",
        "       'total_day_calls', 'total_day_charge', 'total_eve_minutes',\n",
        "       'total_eve_calls', 'total_eve_charge', 'total_night_minutes',\n",
        "       'total_night_calls', 'total_night_charge', 'total_intl_minutes',\n",
        "       'total_intl_calls', 'total_intl_charge',\n",
        "       'number_customer_service_calls', 'state_Ohe']\n",
        "assembler = VectorAssembler(inputCols = cols, outputCol = 'features')\n",
        "\n",
        "df_features = assembler.transform(df)\n"
      ],
      "metadata": {
        "id": "v0yuoolafK5p"
      },
      "execution_count": 262,
      "outputs": []
    },
    {
      "cell_type": "code",
      "source": [
        "df_features.show()"
      ],
      "metadata": {
        "colab": {
          "base_uri": "https://localhost:8080/"
        },
        "id": "zxsn3QPe0Si3",
        "outputId": "13953cc4-e92f-40ef-fff5-5c7ffbcb500c"
      },
      "execution_count": 263,
      "outputs": [
        {
          "output_type": "stream",
          "name": "stdout",
          "text": [
            "+-----+--------------+---------+------------+------------------+---------------+---------------------+-----------------+---------------+----------------+-----------------+---------------+----------------+-------------------+-----------------+------------------+------------------+----------------+-----------------+-----------------------------+-------+-----------+--------+---------------+--------------------+\n",
            "|state|account_length|area_code|phone_number|international_plan|voice_mail_plan|number_vmail_messages|total_day_minutes|total_day_calls|total_day_charge|total_eve_minutes|total_eve_calls|total_eve_charge|total_night_minutes|total_night_calls|total_night_charge|total_intl_minutes|total_intl_calls|total_intl_charge|number_customer_service_calls|churned|churned_int|stateInd|      state_Ohe|            features|\n",
            "+-----+--------------+---------+------------+------------------+---------------+---------------------+-----------------+---------------+----------------+-----------------+---------------+----------------+-------------------+-----------------+------------------+------------------+----------------+-----------------+-----------------------------+-------+-----------+--------+---------------+--------------------+\n",
            "|   KS|           128|      415|    382-4657|                no|            yes|                   25|            265.1|            110|           45.07|            197.4|             99|           16.78|              244.7|               91|             11.01|              10.0|               3|              2.7|                            1|  false|          0|    19.0|(50,[19],[1.0])|(65,[0,1,2,3,4,5,...|\n",
            "|   OH|           107|      415|    371-7191|                no|            yes|                   26|            161.6|            123|           27.47|            195.5|            103|           16.62|              254.4|              103|             11.45|              13.7|               3|              3.7|                            1|  false|          0|     5.0| (50,[5],[1.0])|(65,[0,1,2,3,4,5,...|\n",
            "|   NJ|           137|      415|    358-1921|                no|             no|                    0|            243.4|            114|           41.38|            121.2|            110|            10.3|              162.6|              104|              7.32|              12.2|               5|             3.29|                            0|  false|          0|    10.0|(50,[10],[1.0])|(65,[0,2,3,4,5,6,...|\n",
            "|   OH|            84|      408|    375-9999|               yes|             no|                    0|            299.4|             71|            50.9|             61.9|             88|            5.26|              196.9|               89|              8.86|               6.6|               7|             1.78|                            2|  false|          0|     5.0| (50,[5],[1.0])|(65,[0,2,3,4,5,6,...|\n",
            "|   OK|            75|      415|    330-6626|               yes|             no|                    0|            166.7|            113|           28.34|            148.3|            122|           12.61|              186.9|              121|              8.41|              10.1|               3|             2.73|                            3|  false|          0|    36.0|(50,[36],[1.0])|(65,[0,2,3,4,5,6,...|\n",
            "|   AL|           118|      510|    391-8027|               yes|             no|                    0|            223.4|             98|           37.98|            220.6|            101|           18.75|              203.9|              118|              9.18|               6.3|               6|              1.7|                            0|  false|          0|     2.0| (50,[2],[1.0])|(65,[0,2,3,4,5,6,...|\n",
            "|   MA|           121|      510|    355-9993|                no|            yes|                   24|            218.2|             88|           37.09|            348.5|            108|           29.62|              212.6|              118|              9.57|               7.5|               7|             2.03|                            3|  false|          0|    13.0|(50,[13],[1.0])|(65,[0,1,2,3,4,5,...|\n",
            "|   MO|           147|      415|    329-9001|               yes|             no|                    0|            157.0|             79|           26.69|            103.1|             94|            8.76|              211.8|               96|              9.53|               7.1|               6|             1.92|                            0|  false|          0|    29.0|(50,[29],[1.0])|(65,[0,2,3,4,5,6,...|\n",
            "|   LA|           117|      408|    335-4719|                no|             no|                    0|            184.5|             97|           31.37|            351.6|             80|           29.89|              215.8|               90|              9.71|               8.7|               4|             2.35|                            1|  false|          0|    46.0|(50,[46],[1.0])|(65,[0,2,3,4,5,6,...|\n",
            "|   WV|           141|      415|    330-8173|               yes|            yes|                   37|            258.6|             84|           43.96|            222.0|            111|           18.87|              326.4|               97|             14.69|              11.2|               5|             3.02|                            0|  false|          0|     0.0| (50,[0],[1.0])|(65,[0,1,2,3,4,5,...|\n",
            "|   IN|            65|      415|    329-6603|                no|             no|                    0|            129.1|            137|           21.95|            228.5|             83|           19.42|              208.8|              111|               9.4|              12.7|               6|             3.43|                            4|   true|          1|    24.0|(50,[24],[1.0])|(65,[0,2,3,4,5,6,...|\n",
            "|   RI|            74|      415|    344-9403|                no|             no|                    0|            187.7|            127|           31.91|            163.4|            148|           13.89|              196.0|               94|              8.82|               9.1|               5|             2.46|                            0|  false|          0|    23.0|(50,[23],[1.0])|(65,[0,2,3,4,5,6,...|\n",
            "|   IA|           168|      408|    363-1107|                no|             no|                    0|            128.8|             96|            21.9|            104.9|             71|            8.92|              141.1|              128|              6.35|              11.2|               2|             3.02|                            1|  false|          0|    49.0|(50,[49],[1.0])|(65,[0,2,3,4,5,6,...|\n",
            "|   MT|            95|      510|    394-8006|                no|             no|                    0|            156.6|             88|           26.62|            247.6|             75|           21.05|              192.3|              115|              8.65|              12.3|               5|             3.32|                            3|  false|          0|    22.0|(50,[22],[1.0])|(65,[0,2,3,4,5,6,...|\n",
            "|   IA|            62|      415|    366-9238|                no|             no|                    0|            120.7|             70|           20.52|            307.2|             76|           26.11|              203.0|               99|              9.14|              13.1|               6|             3.54|                            4|  false|          0|    49.0|(50,[49],[1.0])|(65,[0,2,3,4,5,6,...|\n",
            "|   NY|           161|      415|    351-7269|                no|             no|                    0|            332.9|             67|           56.59|            317.8|             97|           27.01|              160.6|              128|              7.23|               5.4|               9|             1.46|                            4|   true|          1|     8.0| (50,[8],[1.0])|(65,[0,2,3,4,5,6,...|\n",
            "|   ID|            85|      408|    350-8884|                no|            yes|                   27|            196.4|            139|           33.39|            280.9|             90|           23.88|               89.3|               75|              4.02|              13.8|               4|             3.73|                            1|  false|          0|     3.0| (50,[3],[1.0])|(65,[0,1,2,3,4,5,...|\n",
            "|   VT|            93|      510|    386-2923|                no|             no|                    0|            190.7|            114|           32.42|            218.2|            111|           18.55|              129.6|              121|              5.83|               8.1|               3|             2.19|                            3|  false|          0|    17.0|(50,[17],[1.0])|(65,[0,2,3,4,5,6,...|\n",
            "|   VA|            76|      510|    356-2992|                no|            yes|                   33|            189.7|             66|           32.25|            212.8|             65|           18.09|              165.7|              108|              7.46|              10.0|               5|              2.7|                            1|  false|          0|     4.0| (50,[4],[1.0])|(65,[0,1,2,3,4,5,...|\n",
            "|   TX|            73|      415|    373-2782|                no|             no|                    0|            224.4|             90|           38.15|            159.5|             88|           13.56|              192.8|               74|              8.68|              13.0|               2|             3.51|                            1|  false|          0|     6.0| (50,[6],[1.0])|(65,[0,2,3,4,5,6,...|\n",
            "+-----+--------------+---------+------------+------------------+---------------+---------------------+-----------------+---------------+----------------+-----------------+---------------+----------------+-------------------+-----------------+------------------+------------------+----------------+-----------------+-----------------------------+-------+-----------+--------+---------------+--------------------+\n",
            "only showing top 20 rows\n",
            "\n"
          ]
        }
      ]
    },
    {
      "cell_type": "code",
      "source": [
        "# Уберем лишние колонки, которые не используются как признаки. в начало добавим churned_int, т.к. с boolean churned модель не работает. Это делать не обязательно\n",
        "df_features = df_features.select('churned_int', 'features')"
      ],
      "metadata": {
        "id": "ys0nSlaX1vTB"
      },
      "execution_count": 264,
      "outputs": []
    },
    {
      "cell_type": "code",
      "source": [
        "df_features.show() # и это тоже"
      ],
      "metadata": {
        "colab": {
          "base_uri": "https://localhost:8080/"
        },
        "id": "KMlv1PWL2lXz",
        "outputId": "427a39bf-29cd-43ba-ceb8-af90732aa4a7"
      },
      "execution_count": 265,
      "outputs": [
        {
          "output_type": "stream",
          "name": "stdout",
          "text": [
            "+-----------+--------------------+\n",
            "|churned_int|            features|\n",
            "+-----------+--------------------+\n",
            "|          0|(65,[0,1,2,3,4,5,...|\n",
            "|          0|(65,[0,1,2,3,4,5,...|\n",
            "|          0|(65,[0,2,3,4,5,6,...|\n",
            "|          0|(65,[0,2,3,4,5,6,...|\n",
            "|          0|(65,[0,2,3,4,5,6,...|\n",
            "|          0|(65,[0,2,3,4,5,6,...|\n",
            "|          0|(65,[0,1,2,3,4,5,...|\n",
            "|          0|(65,[0,2,3,4,5,6,...|\n",
            "|          0|(65,[0,2,3,4,5,6,...|\n",
            "|          0|(65,[0,1,2,3,4,5,...|\n",
            "|          1|(65,[0,2,3,4,5,6,...|\n",
            "|          0|(65,[0,2,3,4,5,6,...|\n",
            "|          0|(65,[0,2,3,4,5,6,...|\n",
            "|          0|(65,[0,2,3,4,5,6,...|\n",
            "|          0|(65,[0,2,3,4,5,6,...|\n",
            "|          1|(65,[0,2,3,4,5,6,...|\n",
            "|          0|(65,[0,1,2,3,4,5,...|\n",
            "|          0|(65,[0,2,3,4,5,6,...|\n",
            "|          0|(65,[0,1,2,3,4,5,...|\n",
            "|          0|(65,[0,2,3,4,5,6,...|\n",
            "+-----------+--------------------+\n",
            "only showing top 20 rows\n",
            "\n"
          ]
        }
      ]
    },
    {
      "cell_type": "markdown",
      "source": [
        "# Машинное обучение"
      ],
      "metadata": {
        "id": "__ODaKzQFnHw"
      }
    },
    {
      "cell_type": "code",
      "source": [
        "train, test = df_features.randomSplit([0.8, 0.2], seed=12345)"
      ],
      "metadata": {
        "id": "VOBVHjf52puH"
      },
      "execution_count": 266,
      "outputs": []
    },
    {
      "cell_type": "code",
      "source": [
        "train.show()"
      ],
      "metadata": {
        "colab": {
          "base_uri": "https://localhost:8080/"
        },
        "id": "HTkc8uYh3jD8",
        "outputId": "2e641624-f4c1-46c5-f312-7de7b3b8b2ad"
      },
      "execution_count": 267,
      "outputs": [
        {
          "output_type": "stream",
          "name": "stdout",
          "text": [
            "+-----------+--------------------+\n",
            "|churned_int|            features|\n",
            "+-----------+--------------------+\n",
            "|          0|(65,[0,1,2,3,4,5,...|\n",
            "|          0|(65,[0,1,2,3,4,5,...|\n",
            "|          0|(65,[0,1,2,3,4,5,...|\n",
            "|          0|(65,[0,1,2,3,4,5,...|\n",
            "|          0|(65,[0,1,2,3,4,5,...|\n",
            "|          0|(65,[0,1,2,3,4,5,...|\n",
            "|          0|(65,[0,1,2,3,4,5,...|\n",
            "|          0|(65,[0,1,2,3,4,5,...|\n",
            "|          0|(65,[0,1,2,3,4,5,...|\n",
            "|          0|(65,[0,1,2,3,4,5,...|\n",
            "|          0|(65,[0,1,2,3,4,5,...|\n",
            "|          0|(65,[0,1,2,3,4,5,...|\n",
            "|          0|(65,[0,1,2,3,4,5,...|\n",
            "|          0|(65,[0,1,2,3,4,5,...|\n",
            "|          0|(65,[0,1,2,3,4,5,...|\n",
            "|          0|(65,[0,1,2,3,4,5,...|\n",
            "|          0|(65,[0,1,2,3,4,5,...|\n",
            "|          0|(65,[0,1,2,3,4,5,...|\n",
            "|          0|(65,[0,1,2,3,4,5,...|\n",
            "|          0|(65,[0,1,2,3,4,5,...|\n",
            "+-----------+--------------------+\n",
            "only showing top 20 rows\n",
            "\n"
          ]
        }
      ]
    },
    {
      "cell_type": "code",
      "source": [
        "from pyspark.ml.classification import LogisticRegression"
      ],
      "metadata": {
        "id": "gAlyIos_3rWg"
      },
      "execution_count": 268,
      "outputs": []
    },
    {
      "cell_type": "code",
      "source": [
        "lr = LogisticRegression(featuresCol = 'features', labelCol = 'churned_int')\n",
        "lrModel = lr.fit(train)"
      ],
      "metadata": {
        "id": "aondYL6C3uyP"
      },
      "execution_count": 287,
      "outputs": []
    },
    {
      "cell_type": "code",
      "source": [
        "train_res = lrModel.transform(train)\n",
        "test_res = lrModel.transform(test)"
      ],
      "metadata": {
        "id": "_L2NO-lY3_wA"
      },
      "execution_count": 288,
      "outputs": []
    },
    {
      "cell_type": "code",
      "source": [
        "train_res.show()"
      ],
      "metadata": {
        "colab": {
          "base_uri": "https://localhost:8080/"
        },
        "id": "7RtPCRgf4DE5",
        "outputId": "19aed54f-02bd-4468-9128-8688187bdfc2"
      },
      "execution_count": 271,
      "outputs": [
        {
          "output_type": "stream",
          "name": "stdout",
          "text": [
            "+-----------+--------------------+--------------------+--------------------+----------+\n",
            "|churned_int|            features|       rawPrediction|         probability|prediction|\n",
            "+-----------+--------------------+--------------------+--------------------+----------+\n",
            "|          0|(65,[0,1,2,3,4,5,...|[3.46863975271165...|[0.96978218233609...|       0.0|\n",
            "|          0|(65,[0,1,2,3,4,5,...|[-1.0164434650470...|[0.26572074912064...|       1.0|\n",
            "|          0|(65,[0,1,2,3,4,5,...|[0.77272474834939...|[0.68411001656716...|       0.0|\n",
            "|          0|(65,[0,1,2,3,4,5,...|[0.65993849895258...|[0.65924657295887...|       0.0|\n",
            "|          0|(65,[0,1,2,3,4,5,...|[1.74190558461499...|[0.85092894841022...|       0.0|\n",
            "|          0|(65,[0,1,2,3,4,5,...|[1.98489332363255...|[0.87920182739657...|       0.0|\n",
            "|          0|(65,[0,1,2,3,4,5,...|[0.49166936091667...|[0.62049961219013...|       0.0|\n",
            "|          0|(65,[0,1,2,3,4,5,...|[1.34948388394276...|[0.79404523673084...|       0.0|\n",
            "|          0|(65,[0,1,2,3,4,5,...|[3.49632353233491...|[0.97058298141237...|       0.0|\n",
            "|          0|(65,[0,1,2,3,4,5,...|[3.87526735482099...|[0.97967297140143...|       0.0|\n",
            "|          0|(65,[0,1,2,3,4,5,...|[1.27038128527975...|[0.78080801067771...|       0.0|\n",
            "|          0|(65,[0,1,2,3,4,5,...|[2.58855459449418...|[0.93012133045159...|       0.0|\n",
            "|          0|(65,[0,1,2,3,4,5,...|[3.06017648138857...|[0.95521984652892...|       0.0|\n",
            "|          0|(65,[0,1,2,3,4,5,...|[3.44537289073185...|[0.96909285035105...|       0.0|\n",
            "|          0|(65,[0,1,2,3,4,5,...|[3.84621649051584...|[0.97908632349269...|       0.0|\n",
            "|          0|(65,[0,1,2,3,4,5,...|[1.62019067824358...|[0.83482142499074...|       0.0|\n",
            "|          0|(65,[0,1,2,3,4,5,...|[3.21993337123109...|[0.96157755289680...|       0.0|\n",
            "|          0|(65,[0,1,2,3,4,5,...|[3.36526643650557...|[0.96660121313362...|       0.0|\n",
            "|          0|(65,[0,1,2,3,4,5,...|[3.00180008701109...|[0.95265538252206...|       0.0|\n",
            "|          0|(65,[0,1,2,3,4,5,...|[3.35163717999906...|[0.96615840650715...|       0.0|\n",
            "+-----------+--------------------+--------------------+--------------------+----------+\n",
            "only showing top 20 rows\n",
            "\n"
          ]
        }
      ]
    },
    {
      "cell_type": "code",
      "source": [
        "# Для оценки качества предсказания в spark реализованно несколько классов \n",
        "# Если мы решаем задачу бинарной классификации (то есть классов - 2), то нам подойдет BinaryCLassificationEvaluator, \n",
        "# а если классов больше 2-х, то MulticlassClassificationEvaluator\n",
        "from pyspark.ml.evaluation import BinaryClassificationEvaluator\n",
        "ev = BinaryClassificationEvaluator(labelCol='churned_int')\n",
        "ev.evaluate(train_res)"
      ],
      "metadata": {
        "colab": {
          "base_uri": "https://localhost:8080/"
        },
        "id": "lyW--D2S4FIO",
        "outputId": "2c38f900-4567-4220-f2da-bec8d1cd0225"
      },
      "execution_count": 272,
      "outputs": [
        {
          "output_type": "execute_result",
          "data": {
            "text/plain": [
              "0.7850295989894243"
            ]
          },
          "metadata": {},
          "execution_count": 272
        }
      ]
    },
    {
      "cell_type": "code",
      "source": [
        "ev.evaluate(test_res)"
      ],
      "metadata": {
        "colab": {
          "base_uri": "https://localhost:8080/"
        },
        "id": "_QpT3Ce54cD-",
        "outputId": "253977da-cbac-46bd-804e-1173d8e47975"
      },
      "execution_count": 273,
      "outputs": [
        {
          "output_type": "execute_result",
          "data": {
            "text/plain": [
              "0.7524785599464756"
            ]
          },
          "metadata": {},
          "execution_count": 273
        }
      ]
    },
    {
      "cell_type": "code",
      "source": [
        "from pyspark.ml.classification import RandomForestClassifier\n",
        "classifier = RandomForestClassifier(labelCol = 'churned_int', featuresCol = 'features')\n",
        "cls=classifier.fit(train)"
      ],
      "metadata": {
        "id": "yxBYkaSF4xtQ"
      },
      "execution_count": 274,
      "outputs": []
    },
    {
      "cell_type": "code",
      "source": [
        "train_res = cls.transform(train)\n",
        "test_res = cls.transform(test)"
      ],
      "metadata": {
        "id": "3JQ78wC_5WdI"
      },
      "execution_count": 276,
      "outputs": []
    },
    {
      "cell_type": "code",
      "source": [
        "ev.evaluate(train_res)"
      ],
      "metadata": {
        "colab": {
          "base_uri": "https://localhost:8080/"
        },
        "id": "RyfpIhBz5eqQ",
        "outputId": "7a334bc0-5d02-4f5d-e01a-13f6a02a2ca7"
      },
      "execution_count": 277,
      "outputs": [
        {
          "output_type": "execute_result",
          "data": {
            "text/plain": [
              "0.878127347897525"
            ]
          },
          "metadata": {},
          "execution_count": 277
        }
      ]
    },
    {
      "cell_type": "code",
      "source": [
        "ev.evaluate(test_res)"
      ],
      "metadata": {
        "colab": {
          "base_uri": "https://localhost:8080/"
        },
        "id": "qigK-v-a5kHx",
        "outputId": "d7198c19-8103-46cc-ff8d-16c28e480a26"
      },
      "execution_count": 278,
      "outputs": [
        {
          "output_type": "execute_result",
          "data": {
            "text/plain": [
              "0.861233282470158"
            ]
          },
          "metadata": {},
          "execution_count": 278
        }
      ]
    },
    {
      "cell_type": "markdown",
      "source": [
        "# Автоматизация подготовки данных с помощью pipeline"
      ],
      "metadata": {
        "id": "XQ1EmWXf5peO"
      }
    },
    {
      "cell_type": "code",
      "source": [
        "from pyspark.ml import Pipeline\n"
      ],
      "metadata": {
        "id": "nnbPQ6_bubp4"
      },
      "execution_count": 280,
      "outputs": []
    },
    {
      "cell_type": "code",
      "source": [
        "# Это описаниек трубопровода\n",
        "pipeline = Pipeline(stages = \n",
        "[\n",
        "  StringIndexer(inputCol='state', outputCol='stateInd'), # Кодирование штатов - замена аббревиатур на числа\n",
        "  OneHotEncoder(inputCol='stateInd', outputCol='state_Ohe'), # преобразование в разреженные вектора с помощью OneHotEncoder\n",
        "  VectorAssembler(inputCols=cols, outputCol='features'), # сбор отобранных признаков, названия которых перечислены в списке Cols, в вектор features\n",
        "  LogisticRegression(featuresCol = 'features', labelCol = 'churned_int') # Создание экземпляра выбранной модели и загрузка в нее названий столбца признаков и столбца таргета\n",
        "]\n",
        ")\n"
      ],
      "metadata": {
        "id": "FUo-YFmGlAKr"
      },
      "execution_count": 281,
      "outputs": []
    },
    {
      "cell_type": "code",
      "source": [
        "# А это передача исходного датафрейма в трубопровод\n",
        "pipelineTrained = pipeline.fit(df_for_pipeline) "
      ],
      "metadata": {
        "id": "CNHpVlDkv2eK"
      },
      "execution_count": 282,
      "outputs": []
    },
    {
      "cell_type": "code",
      "source": [
        "ddf= pipelineTrained.transform(df_for_pipeline).select('churned_int','features')\n",
        "ddf.show()"
      ],
      "metadata": {
        "colab": {
          "base_uri": "https://localhost:8080/"
        },
        "id": "EPA3vlFb_09b",
        "outputId": "547a904d-1ba2-4cd1-9d58-33b045feed13"
      },
      "execution_count": 284,
      "outputs": [
        {
          "output_type": "stream",
          "name": "stdout",
          "text": [
            "+-----------+--------------------+\n",
            "|churned_int|            features|\n",
            "+-----------+--------------------+\n",
            "|          0|(65,[0,1,2,3,4,5,...|\n",
            "|          0|(65,[0,1,2,3,4,5,...|\n",
            "|          0|(65,[0,2,3,4,5,6,...|\n",
            "|          0|(65,[0,2,3,4,5,6,...|\n",
            "|          0|(65,[0,2,3,4,5,6,...|\n",
            "|          0|(65,[0,2,3,4,5,6,...|\n",
            "|          0|(65,[0,1,2,3,4,5,...|\n",
            "|          0|(65,[0,2,3,4,5,6,...|\n",
            "|          0|(65,[0,2,3,4,5,6,...|\n",
            "|          0|(65,[0,1,2,3,4,5,...|\n",
            "|          1|(65,[0,2,3,4,5,6,...|\n",
            "|          0|(65,[0,2,3,4,5,6,...|\n",
            "|          0|(65,[0,2,3,4,5,6,...|\n",
            "|          0|(65,[0,2,3,4,5,6,...|\n",
            "|          0|(65,[0,2,3,4,5,6,...|\n",
            "|          1|(65,[0,2,3,4,5,6,...|\n",
            "|          0|(65,[0,1,2,3,4,5,...|\n",
            "|          0|(65,[0,2,3,4,5,6,...|\n",
            "|          0|(65,[0,1,2,3,4,5,...|\n",
            "|          0|(65,[0,2,3,4,5,6,...|\n",
            "+-----------+--------------------+\n",
            "only showing top 20 rows\n",
            "\n"
          ]
        }
      ]
    },
    {
      "cell_type": "code",
      "source": [
        "train, test = ddf.randomSplit([0.8, 0.2], seed=12345)"
      ],
      "metadata": {
        "id": "i75nCjdgCUM6"
      },
      "execution_count": 285,
      "outputs": []
    },
    {
      "cell_type": "code",
      "source": [
        "lr = LogisticRegression(featuresCol = 'features', labelCol = 'churned_int')\n",
        "lrModel = lr.fit(train)"
      ],
      "metadata": {
        "id": "rV38FxnlCsow"
      },
      "execution_count": 289,
      "outputs": []
    },
    {
      "cell_type": "code",
      "source": [
        "train_res = lrModel.transform(train)\n",
        "test_res = lrModel.transform(test)"
      ],
      "metadata": {
        "id": "2QvcdSjUnZ8D"
      },
      "execution_count": 290,
      "outputs": []
    },
    {
      "cell_type": "code",
      "source": [
        "ev.evaluate(train_res)"
      ],
      "metadata": {
        "colab": {
          "base_uri": "https://localhost:8080/"
        },
        "id": "DMQxUCYyDjG7",
        "outputId": "c5c9cbdb-2d1e-4572-d0d8-881cd2ef5d7c"
      },
      "execution_count": 291,
      "outputs": [
        {
          "output_type": "execute_result",
          "data": {
            "text/plain": [
              "0.7850295989894243"
            ]
          },
          "metadata": {},
          "execution_count": 291
        }
      ]
    },
    {
      "cell_type": "code",
      "source": [
        "ev.evaluate(test_res)"
      ],
      "metadata": {
        "colab": {
          "base_uri": "https://localhost:8080/"
        },
        "id": "-rIPtEimDngG",
        "outputId": "84be9f5a-0705-4001-c58a-b233adf92d1f"
      },
      "execution_count": 292,
      "outputs": [
        {
          "output_type": "execute_result",
          "data": {
            "text/plain": [
              "0.7524785599464756"
            ]
          },
          "metadata": {},
          "execution_count": 292
        }
      ]
    },
    {
      "cell_type": "code",
      "source": [
        "from pyspark.ml.classification import RandomForestClassifier\n",
        "classifier = RandomForestClassifier(labelCol = 'churned_int', featuresCol = 'features')\n",
        "cls=classifier.fit(train)"
      ],
      "metadata": {
        "id": "rQCkgmxtl-Lr"
      },
      "execution_count": 293,
      "outputs": []
    },
    {
      "cell_type": "code",
      "source": [
        "train_res = cls.transform(train)\n",
        "test_res = cls.transform(test)"
      ],
      "metadata": {
        "id": "SQxaGlBQD5dS"
      },
      "execution_count": 294,
      "outputs": []
    },
    {
      "cell_type": "code",
      "source": [
        "ev.evaluate(train_res)"
      ],
      "metadata": {
        "colab": {
          "base_uri": "https://localhost:8080/"
        },
        "id": "LosOgU6DD9qQ",
        "outputId": "3602d2f4-4427-4951-8601-5a20539aa28b"
      },
      "execution_count": 295,
      "outputs": [
        {
          "output_type": "execute_result",
          "data": {
            "text/plain": [
              "0.878127347897525"
            ]
          },
          "metadata": {},
          "execution_count": 295
        }
      ]
    },
    {
      "cell_type": "code",
      "source": [
        "ev.evaluate(test_res)"
      ],
      "metadata": {
        "colab": {
          "base_uri": "https://localhost:8080/"
        },
        "id": "yHlu6LzEEBBd",
        "outputId": "ca9e81a4-8a8e-4f99-9aa3-60c50e1ca9be"
      },
      "execution_count": 296,
      "outputs": [
        {
          "output_type": "execute_result",
          "data": {
            "text/plain": [
              "0.861233282470158"
            ]
          },
          "metadata": {},
          "execution_count": 296
        }
      ]
    }
  ]
}
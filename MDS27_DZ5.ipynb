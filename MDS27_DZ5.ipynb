{
  "nbformat": 4,
  "nbformat_minor": 0,
  "metadata": {
    "colab": {
      "provenance": [],
      "authorship_tag": "ABX9TyNOpZj1UMH844wBe/Eqr2Aj",
      "include_colab_link": true
    },
    "kernelspec": {
      "name": "python3",
      "display_name": "Python 3"
    },
    "language_info": {
      "name": "python"
    }
  },
  "cells": [
    {
      "cell_type": "markdown",
      "metadata": {
        "id": "view-in-github",
        "colab_type": "text"
      },
      "source": [
        "<a href=\"https://colab.research.google.com/github/solobala/ABD26/blob/main/MDS27_DZ5.ipynb\" target=\"_parent\"><img src=\"https://colab.research.google.com/assets/colab-badge.svg\" alt=\"Open In Colab\"/></a>"
      ]
    },
    {
      "cell_type": "markdown",
      "source": [
        "Домашнее задание \"Функции нескольких переменных\"."
      ],
      "metadata": {
        "id": "pmiyDoUNSvYR"
      }
    },
    {
      "cell_type": "code",
      "source": [
        "from mpl_toolkits.mplot3d import Axes3D\n",
        "import matplotlib.pyplot as plt\n",
        "from matplotlib import cm\n",
        "from matplotlib.ticker import LinearLocator, FormatStrFormatter\n",
        "import numpy as np\n",
        "import sympy as sym\n",
        "from sympy import *\n",
        "from mpl_toolkits.mplot3d import Axes3D\n",
        "from matplotlib import cm\n",
        "from matplotlib.ticker import LinearLocator, FormatStrFormatter"
      ],
      "metadata": {
        "id": "CwTlJnewXx4q"
      },
      "execution_count": 26,
      "outputs": []
    },
    {
      "cell_type": "markdown",
      "source": [
        "### Уровень 0:\n",
        "Задание 1\n",
        "Посчитайте частные производные функций:\n",
        "\n",
        "![image.png](data:image/png;base64,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)"
      ],
      "metadata": {
        "id": "LdD_yJbPSzur"
      }
    },
    {
      "cell_type": "code",
      "execution_count": 27,
      "metadata": {
        "colab": {
          "base_uri": "https://localhost:8080/",
          "height": 51
        },
        "id": "GWUMYNnfSuWU",
        "outputId": "d0236f8d-0eb8-4f23-eb56-7a34a8e4f0f2"
      },
      "outputs": [
        {
          "output_type": "execute_result",
          "data": {
            "text/plain": [
              "   2  3      2       1\n",
              "2⋅x ⋅y  + x⋅y  + 7 + ─\n",
              "                     x"
            ],
            "image/png": "[encoded data removed]",
            "text/latex": "$\\displaystyle 2 x^{2} y^{3} + x y^{2} + 7 + \\frac{1}{x}$"
          },
          "metadata": {},
          "execution_count": 27
        }
      ],
      "source": [
        "x, y = symbols('x y')\n",
        "init_printing(use_unicode=True)\n",
        "# Запишем ф-ю в аналитическом виде и превратим ее в объект\n",
        "\n",
        "str_expression1 = '2 * x**2 * y**3 + 1/x + y**2 * x +7'\n",
        "expression1 = sym.sympify(str_expression1)\n",
        "expression1"
      ]
    },
    {
      "cell_type": "code",
      "source": [
        "# Выражение для 1 производной ф-ии по x в аналитическом виде\n",
        "drv_x1 = sym.diff(expression1, x)\n",
        "drv_x1"
      ],
      "metadata": {
        "colab": {
          "base_uri": "https://localhost:8080/",
          "height": 51
        },
        "id": "0VNLkqV6f5CV",
        "outputId": "3d8532ef-416f-4d0c-f81a-b99ac3e46651"
      },
      "execution_count": 28,
      "outputs": [
        {
          "output_type": "execute_result",
          "data": {
            "text/plain": [
              "     3    2   1 \n",
              "4⋅x⋅y  + y  - ──\n",
              "               2\n",
              "              x "
            ],
            "image/png": "[encoded data removed]",
            "text/latex": "$\\displaystyle 4 x y^{3} + y^{2} - \\frac{1}{x^{2}}$"
          },
          "metadata": {},
          "execution_count": 28
        }
      ]
    },
    {
      "cell_type": "code",
      "source": [
        "# Выражение для 1 производной ф-ии по н в аналитическом виде\n",
        "drv_y1 = sym.diff(expression1, y)\n",
        "drv_y1"
      ],
      "metadata": {
        "colab": {
          "base_uri": "https://localhost:8080/",
          "height": 39
        },
        "id": "Hx7cmflkgLOE",
        "outputId": "b46a27fb-9dff-430a-b2c2-c87ad14d53c6"
      },
      "execution_count": 29,
      "outputs": [
        {
          "output_type": "execute_result",
          "data": {
            "text/plain": [
              "   2  2        \n",
              "6⋅x ⋅y  + 2⋅x⋅y"
            ],
            "image/png": "[encoded data removed]",
            "text/latex": "$\\displaystyle 6 x^{2} y^{2} + 2 x y$"
          },
          "metadata": {},
          "execution_count": 29
        }
      ]
    },
    {
      "cell_type": "markdown",
      "source": [
        "погсчитайте частные производные ф-ии:\n",
        "\n",
        "![image.png](data:image/png;base64,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)"
      ],
      "metadata": {
        "id": "lJ05-qr-g35S"
      }
    },
    {
      "cell_type": "code",
      "source": [
        "str_expression2 = 'x**2 * y -sin(x*y) + cos(x**2) + 6 * y'\n",
        "expression2 = sym.sympify(str_expression2)\n",
        "expression2"
      ],
      "metadata": {
        "colab": {
          "base_uri": "https://localhost:8080/",
          "height": 39
        },
        "id": "T-f2AfsFhlMw",
        "outputId": "bc13829a-826a-4d25-aab5-eef546f6ebc4"
      },
      "execution_count": 30,
      "outputs": [
        {
          "output_type": "execute_result",
          "data": {
            "text/plain": [
              " 2                         ⎛ 2⎞\n",
              "x ⋅y + 6⋅y - sin(x⋅y) + cos⎝x ⎠"
            ],
            "image/png": "[encoded data removed]",
            "text/latex": "$\\displaystyle x^{2} y + 6 y - \\sin{\\left(x y \\right)} + \\cos{\\left(x^{2} \\right)}$"
          },
          "metadata": {},
          "execution_count": 30
        }
      ]
    },
    {
      "cell_type": "code",
      "source": [
        "# Выражение для 1 производной ф-ии по x в аналитическом виде\n",
        "drv_x2 = sym.diff(expression2, x)\n",
        "drv_x2"
      ],
      "metadata": {
        "colab": {
          "base_uri": "https://localhost:8080/",
          "height": 39
        },
        "id": "xLCGZ7tvh2H6",
        "outputId": "f56797d8-3575-4c2b-f0f4-5258c6ef1858"
      },
      "execution_count": 31,
      "outputs": [
        {
          "output_type": "execute_result",
          "data": {
            "text/plain": [
              "               ⎛ 2⎞             \n",
              "2⋅x⋅y - 2⋅x⋅sin⎝x ⎠ - y⋅cos(x⋅y)"
            ],
            "image/png": "[encoded data removed]",
            "text/latex": "$\\displaystyle 2 x y - 2 x \\sin{\\left(x^{2} \\right)} - y \\cos{\\left(x y \\right)}$"
          },
          "metadata": {},
          "execution_count": 31
        }
      ]
    },
    {
      "cell_type": "code",
      "source": [
        "# Выражение для 1 производной ф-ии по y в аналитическом виде\n",
        "drv_y2 = sym.diff(expression2, y)\n",
        "drv_y2"
      ],
      "metadata": {
        "colab": {
          "base_uri": "https://localhost:8080/",
          "height": 39
        },
        "id": "Bx2RRUKAiBnw",
        "outputId": "b87a647b-83d3-478f-8518-e31b7a26722c"
      },
      "execution_count": 32,
      "outputs": [
        {
          "output_type": "execute_result",
          "data": {
            "text/plain": [
              " 2                 \n",
              "x  - x⋅cos(x⋅y) + 6"
            ],
            "image/png": "[encoded data removed]",
            "text/latex": "$\\displaystyle x^{2} - x \\cos{\\left(x y \\right)} + 6$"
          },
          "metadata": {},
          "execution_count": 32
        }
      ]
    },
    {
      "cell_type": "markdown",
      "source": [
        "### Уровень 1:\n",
        "Задание 2\n",
        "\n",
        "![image.png](data:image/png;base64,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)"
      ],
      "metadata": {
        "id": "WKrIN0HqS-1e"
      }
    },
    {
      "cell_type": "code",
      "source": [
        "x, у = symbols('x y')\n",
        "# Запишем ф-ю в аналитическом виде и превратим ее в объект\n",
        "\n",
        "str_expression4 = '2 * x**2 * y**3 + 1/x + y**2 * x + 7'\n",
        "expression4 = sym.sympify(str_expression4)\n",
        "expression4"
      ],
      "metadata": {
        "colab": {
          "base_uri": "https://localhost:8080/",
          "height": 51
        },
        "id": "nUvUW6sjXZvx",
        "outputId": "10242bc6-3b58-4ac9-fd8f-9ace37464ac5"
      },
      "execution_count": 38,
      "outputs": [
        {
          "output_type": "execute_result",
          "data": {
            "text/plain": [
              "   2  3      2       1\n",
              "2⋅x ⋅y  + x⋅y  + 7 + ─\n",
              "                     x"
            ],
            "image/png": "[encoded data removed]",
            "text/latex": "$\\displaystyle 2 x^{2} y^{3} + x y^{2} + 7 + \\frac{1}{x}$"
          },
          "metadata": {},
          "execution_count": 38
        }
      ]
    },
    {
      "cell_type": "code",
      "source": [
        "# Выражение для 1 производной ф-ии по x в аналитическом виде\n",
        "drv_x4 = sym.diff(expression4, x)\n",
        "drv_x4"
      ],
      "metadata": {
        "colab": {
          "base_uri": "https://localhost:8080/",
          "height": 51
        },
        "id": "8rtnPCvbERcR",
        "outputId": "9ec6a198-aa2a-4059-f67a-59cfeb317bd4"
      },
      "execution_count": 39,
      "outputs": [
        {
          "output_type": "execute_result",
          "data": {
            "text/plain": [
              "     3    2   1 \n",
              "4⋅x⋅y  + y  - ──\n",
              "               2\n",
              "              x "
            ],
            "image/png": "[encoded data removed]",
            "text/latex": "$\\displaystyle 4 x y^{3} + y^{2} - \\frac{1}{x^{2}}$"
          },
          "metadata": {},
          "execution_count": 39
        }
      ]
    },
    {
      "cell_type": "code",
      "source": [
        "# Выражение для 1 производной ф-ии по y в аналитическом виде\n",
        "drv_y4 = sym.diff(expression4, y)\n",
        "drv_y4"
      ],
      "metadata": {
        "colab": {
          "base_uri": "https://localhost:8080/",
          "height": 39
        },
        "id": "5jdy4bcVEVl0",
        "outputId": "d320d714-3d9f-4a46-9190-d79937509462"
      },
      "execution_count": 40,
      "outputs": [
        {
          "output_type": "execute_result",
          "data": {
            "text/plain": [
              "   2  2        \n",
              "6⋅x ⋅y  + 2⋅x⋅y"
            ],
            "image/png": "[encoded data removed]",
            "text/latex": "$\\displaystyle 6 x^{2} y^{2} + 2 x y$"
          },
          "metadata": {},
          "execution_count": 40
        }
      ]
    },
    {
      "cell_type": "code",
      "source": [
        "print(f' Значение 1-й производной ф-ии {expression4} по направлению x в точке (1,2): {drv_x4.evalf(subs={x:1,y:2})}') "
      ],
      "metadata": {
        "colab": {
          "base_uri": "https://localhost:8080/"
        },
        "id": "vih4r9VmEd_I",
        "outputId": "d1dbefdf-275f-47a8-970d-ec56b91f5ef8"
      },
      "execution_count": 41,
      "outputs": [
        {
          "output_type": "stream",
          "name": "stdout",
          "text": [
            " Значение 1-й производной ф-ии 2*x**2*y**3 + x*y**2 + 7 + 1/x по направлению x в точке (1,2): 35.0000000000000\n"
          ]
        }
      ]
    },
    {
      "cell_type": "code",
      "source": [
        "print(f' Значение 1-й производной ф-ии {expression4} по направлению y в точке (1,2): {drv_y4.evalf(subs={x:1,y:2})}') "
      ],
      "metadata": {
        "colab": {
          "base_uri": "https://localhost:8080/"
        },
        "id": "6ozTuVxOFCEA",
        "outputId": "1ea0e3f2-d094-4f09-d867-0bdc6236f63e"
      },
      "execution_count": 42,
      "outputs": [
        {
          "output_type": "stream",
          "name": "stdout",
          "text": [
            " Значение 1-й производной ф-ии 2*x**2*y**3 + x*y**2 + 7 + 1/x по направлению y в точке (1,2): 28.0000000000000\n"
          ]
        }
      ]
    },
    {
      "cell_type": "code",
      "source": [
        "print(f' Градиент ф-ии {expression4}  в точке (1,2): ({drv_x4.evalf(subs={x:1,y:2})}, {drv_y4.evalf(subs={x:1,y:2})})') "
      ],
      "metadata": {
        "colab": {
          "base_uri": "https://localhost:8080/"
        },
        "id": "Orna19yoFNOY",
        "outputId": "3718c62d-e60a-4809-90c9-36d3da8f48ca"
      },
      "execution_count": 43,
      "outputs": [
        {
          "output_type": "stream",
          "name": "stdout",
          "text": [
            " Градиент ф-ии 2*x**2*y**3 + x*y**2 + 7 + 1/x  в точке (1,2): (35.0000000000000, 28.0000000000000)\n"
          ]
        }
      ]
    },
    {
      "cell_type": "markdown",
      "source": [
        "### Задание 3\n",
        "Постройте трехмерный график функции\n",
        "![image.png](data:image/png;base64,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)"
      ],
      "metadata": {
        "id": "GK0gUKk-XaVO"
      }
    },
    {
      "cell_type": "code",
      "source": [
        "x1, x2 = symbols('x1 x2')\n",
        "\n",
        "# Запишем ф-ю в аналитическом виде и превратим ее в объект\n",
        "\n",
        "str_expression3 = 'x2**2 - x1**2 * x2 + 2 * x1 * x2'\n",
        "expression3 = sym.sympify(str_expression3)\n",
        "expression3"
      ],
      "metadata": {
        "colab": {
          "base_uri": "https://localhost:8080/",
          "height": 39
        },
        "id": "8r5BeAOhXmGO",
        "outputId": "381694c2-073f-4ae3-8085-92335d44118b"
      },
      "execution_count": 33,
      "outputs": [
        {
          "output_type": "execute_result",
          "data": {
            "text/plain": [
              "    2                  2\n",
              "- x₁ ⋅x₂ + 2⋅x₁⋅x₂ + x₂ "
            ],
            "image/png": "[encoded data removed]",
            "text/latex": "$\\displaystyle - x_{1}^{2} x_{2} + 2 x_{1} x_{2} + x_{2}^{2}$"
          },
          "metadata": {},
          "execution_count": 33
        }
      ]
    },
    {
      "cell_type": "code",
      "source": [
        "fig = plt.figure()\n",
        "ax = fig.gca(projection='3d')\n",
        "\n",
        "# Данные\n",
        "X = np.arange(-4, 6, 0.25)\n",
        "Y = np.arange(-4, 6, 0.25)\n",
        "X, Y = np.meshgrid(X, Y)\n",
        "Z = Y**2 - X**2 * Y + 2 * X * Y\n",
        "\n",
        "\n",
        "# График поверхности\n",
        "surf = ax.plot_surface(X, Y, Z, cmap=cm.coolwarm,\n",
        "                       linewidth=0, antialiased=False)\n",
        "\n",
        "# Настройка оси z\n",
        "ax.set_zlim(-140, 140.0)\n",
        "ax.zaxis.set_major_locator(LinearLocator(10))\n",
        "ax.zaxis.set_major_formatter(FormatStrFormatter('%.02f'))\n",
        "\n",
        "# Цветовая легенда\n",
        "fig.colorbar(surf, shrink=0.5, aspect=5)\n",
        "\n",
        "ax.azim = 15\n",
        "ax.dist = 10\n",
        "ax.elev = 30\n",
        "\n",
        "plt.show()"
      ],
      "metadata": {
        "colab": {
          "base_uri": "https://localhost:8080/",
          "height": 248
        },
        "id": "HWrywGiTiwrc",
        "outputId": "760b8e1c-d993-4454-d35f-ba30e73f936e"
      },
      "execution_count": 37,
      "outputs": [
        {
          "output_type": "display_data",
          "data": {
            "text/plain": [
              "<Figure size 432x288 with 2 Axes>"
            ],
            "image/png": "[encoded data removed]"
          },
          "metadata": {
            "needs_background": "light"
          }
        }
      ]
    }
  ]
}
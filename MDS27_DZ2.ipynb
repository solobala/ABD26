{
  "nbformat": 4,
  "nbformat_minor": 0,
  "metadata": {
    "colab": {
      "provenance": [],
      "authorship_tag": "ABX9TyMUscSPj+MdGSL7ieGCOSiG",
      "include_colab_link": true
    },
    "kernelspec": {
      "name": "python3",
      "display_name": "Python 3"
    },
    "language_info": {
      "name": "python"
    }
  },
  "cells": [
    {
      "cell_type": "markdown",
      "metadata": {
        "id": "view-in-github",
        "colab_type": "text"
      },
      "source": [
        "<a href=\"https://colab.research.google.com/github/solobala/ABD26/blob/main/MDS27_DZ2.ipynb\" target=\"_parent\"><img src=\"https://colab.research.google.com/assets/colab-badge.svg\" alt=\"Open In Colab\"/></a>"
      ]
    },
    {
      "cell_type": "markdown",
      "source": [
        "### Домашнее задание \"Линейная алгебра. Матрицы\".\n",
        "Уровень 0:\n",
        "Задание 1\n",
        "Создайте матрицу 3 на 3, заполненную числами от 1 до 9\n",
        "\n",
        "Прибавьте к ней матрицу с единицами на диагонали\n",
        "\n",
        "Умножьте полученную матрицу на вектор (1, 2, 3)\n",
        "\n",
        "Вычислить транспонированную матрицу \n",
        " от полученной в результате прибавления матрицы\n",
        "\n",
        "Посчитайте обратную матрицу к полученной в результате прибавления матрице"
      ],
      "metadata": {
        "id": "BLLT2bXmJ2X3"
      }
    },
    {
      "cell_type": "code",
      "execution_count": 2,
      "metadata": {
        "colab": {
          "base_uri": "https://localhost:8080/"
        },
        "id": "0NvwYUvkJzjC",
        "outputId": "1a0d50ef-0973-4ff0-b645-5a4705131d3b"
      },
      "outputs": [
        {
          "output_type": "execute_result",
          "data": {
            "text/plain": [
              "array([[1, 2, 3],\n",
              "       [4, 5, 6],\n",
              "       [7, 8, 9]])"
            ]
          },
          "metadata": {},
          "execution_count": 2
        }
      ],
      "source": [
        "import numpy as np\n",
        "A1 = np.array([[1,2,3], [4,5,6], [7,8,9]]) #  Создайте матрицу 3 на 3, заполненную числами от 1 до 9\n",
        "A1"
      ]
    },
    {
      "cell_type": "code",
      "source": [
        "A2 = np.eye(3)\n",
        "A2"
      ],
      "metadata": {
        "colab": {
          "base_uri": "https://localhost:8080/"
        },
        "id": "iLJKJtUqgnUc",
        "outputId": "f44c0344-1314-4f97-df44-d5b3c6df556e"
      },
      "execution_count": null,
      "outputs": [
        {
          "output_type": "execute_result",
          "data": {
            "text/plain": [
              "array([[1., 0., 0.],\n",
              "       [0., 1., 0.],\n",
              "       [0., 0., 1.]])"
            ]
          },
          "metadata": {},
          "execution_count": 3
        }
      ]
    },
    {
      "cell_type": "code",
      "source": [
        "A3 = A1 + A2 #  Прибавьте к ней матрицу с единицами на диагонале\n",
        "A3"
      ],
      "metadata": {
        "colab": {
          "base_uri": "https://localhost:8080/"
        },
        "id": "lLGuXm-LKR5M",
        "outputId": "728ba1fe-2f38-4f25-b488-936fb977e2ea"
      },
      "execution_count": null,
      "outputs": [
        {
          "output_type": "execute_result",
          "data": {
            "text/plain": [
              "array([[ 2.,  2.,  3.],\n",
              "       [ 4.,  6.,  6.],\n",
              "       [ 7.,  8., 10.]])"
            ]
          },
          "metadata": {},
          "execution_count": 4
        }
      ]
    },
    {
      "cell_type": "code",
      "source": [
        "B = np.array([1,2,3])\n",
        "A4 = np.matmul(A3, B) #  Умножьте полученную матрицу на вектор (1, 2, 3)\n",
        "A4"
      ],
      "metadata": {
        "colab": {
          "base_uri": "https://localhost:8080/"
        },
        "id": "11oubPu6hGPk",
        "outputId": "eddc0516-b4b9-4c06-fc42-21007fcea217"
      },
      "execution_count": null,
      "outputs": [
        {
          "output_type": "execute_result",
          "data": {
            "text/plain": [
              "array([15., 34., 53.])"
            ]
          },
          "metadata": {},
          "execution_count": 5
        }
      ]
    },
    {
      "cell_type": "code",
      "source": [
        "A5 = np.transpose(A3) #  Вычислить транспонированную матрицу от полученной в результате прибавления матрицы\n",
        "A5"
      ],
      "metadata": {
        "colab": {
          "base_uri": "https://localhost:8080/"
        },
        "id": "RzJ32aT4hMGk",
        "outputId": "42f1197a-f834-4577-d46a-d14d1d3f74e9"
      },
      "execution_count": null,
      "outputs": [
        {
          "output_type": "execute_result",
          "data": {
            "text/plain": [
              "array([[ 2.,  4.,  7.],\n",
              "       [ 2.,  6.,  8.],\n",
              "       [ 3.,  6., 10.]])"
            ]
          },
          "metadata": {},
          "execution_count": 6
        }
      ]
    },
    {
      "cell_type": "code",
      "source": [
        "A6 = np.linalg.inv(A3) #  Посчитайте обратную матрицу к полученной в результате прибавления матрице\n",
        "A6"
      ],
      "metadata": {
        "colab": {
          "base_uri": "https://localhost:8080/"
        },
        "id": "adfh5pUNhVVW",
        "outputId": "e5c7e946-c6a0-477f-bbb8-ccd160180a97"
      },
      "execution_count": null,
      "outputs": [
        {
          "output_type": "execute_result",
          "data": {
            "text/plain": [
              "array([[-6.00000000e+00, -2.00000000e+00,  3.00000000e+00],\n",
              "       [-1.00000000e+00,  5.00000000e-01, -2.33146835e-16],\n",
              "       [ 5.00000000e+00,  1.00000000e+00, -2.00000000e+00]])"
            ]
          },
          "metadata": {},
          "execution_count": 7
        }
      ]
    },
    {
      "cell_type": "code",
      "source": [
        "A3 @ A6 # проверка правильности нахождения обратной матрицы. Произведение 2 матриц - единичная матрица"
      ],
      "metadata": {
        "colab": {
          "base_uri": "https://localhost:8080/"
        },
        "id": "IPbBr-dwj7MI",
        "outputId": "de11fd90-730b-4696-9a89-a21d57f50045"
      },
      "execution_count": null,
      "outputs": [
        {
          "output_type": "execute_result",
          "data": {
            "text/plain": [
              "array([[ 1.00000000e+00, -3.33066907e-16,  6.66133815e-16],\n",
              "       [-5.32907052e-15,  1.00000000e+00,  1.33226763e-15],\n",
              "       [-1.77635684e-15, -1.11022302e-15,  1.00000000e+00]])"
            ]
          },
          "metadata": {},
          "execution_count": 11
        }
      ]
    },
    {
      "cell_type": "code",
      "source": [
        "np.linalg.det(A3) * np.linalg.det(A6) # проверка правильности нахождения обратной матрицы. Произведение определителей 2 матриц - единица"
      ],
      "metadata": {
        "colab": {
          "base_uri": "https://localhost:8080/"
        },
        "id": "qk8DUKDgkZc4",
        "outputId": "4d5d7207-cfe7-4cf3-8f32-82629f305902"
      },
      "execution_count": null,
      "outputs": [
        {
          "output_type": "execute_result",
          "data": {
            "text/plain": [
              "0.9999999999999988"
            ]
          },
          "metadata": {},
          "execution_count": 12
        }
      ]
    },
    {
      "cell_type": "markdown",
      "source": [
        "#### Уровень 1:\n",
        "Задание 2\n",
        "Найдите собственные значения и собственные вектора матрицы:\n",
        "\n",
        "m = np.array([[2, 2],\n",
        "              [1, 3]])\n",
        "print(m)"
      ],
      "metadata": {
        "id": "-TeGPfZGJ_T_"
      }
    },
    {
      "cell_type": "code",
      "source": [
        "m = np.array([[2, 2], [1, 3]])\n",
        "res = np.linalg.eig(m)  #  Найдите собственные значения и собственные вектора матрицы\n",
        "res"
      ],
      "metadata": {
        "colab": {
          "base_uri": "https://localhost:8080/"
        },
        "id": "6ATq-2tlKHTo",
        "outputId": "b5839f45-3b05-47d5-e209-3664f4bb83c2"
      },
      "execution_count": null,
      "outputs": [
        {
          "output_type": "execute_result",
          "data": {
            "text/plain": [
              "(array([1., 4.]), array([[-0.89442719, -0.70710678],\n",
              "        [ 0.4472136 , -0.70710678]]))"
            ]
          },
          "metadata": {},
          "execution_count": 15
        }
      ]
    },
    {
      "cell_type": "markdown",
      "source": [
        "#### Приведем собственные вектора в более красивый вид. Для этого транспонируем матрицу с векторами и выполним нормирование каждого из векторов"
      ],
      "metadata": {
        "id": "U-HbUQBuog4U"
      }
    },
    {
      "cell_type": "code",
      "source": [
        "res2 = res[1]\n",
        "res3 = np.transpose(res2)\n",
        "res3"
      ],
      "metadata": {
        "colab": {
          "base_uri": "https://localhost:8080/"
        },
        "id": "PWO41l2im9xp",
        "outputId": "c6ce6a9c-5166-4ef0-c251-c3d16b217978"
      },
      "execution_count": null,
      "outputs": [
        {
          "output_type": "execute_result",
          "data": {
            "text/plain": [
              "array([[-0.89442719,  0.4472136 ],\n",
              "       [-0.70710678, -0.70710678]])"
            ]
          },
          "metadata": {},
          "execution_count": 17
        }
      ]
    },
    {
      "cell_type": "code",
      "source": [
        "res3[0]/0.4472136"
      ],
      "metadata": {
        "colab": {
          "base_uri": "https://localhost:8080/"
        },
        "id": "gZ-Spvg1n1sa",
        "outputId": "dcc2c78f-dbe6-40ba-af9f-103b41837a51"
      },
      "execution_count": null,
      "outputs": [
        {
          "output_type": "execute_result",
          "data": {
            "text/plain": [
              "array([-1.99999998,  0.99999999])"
            ]
          },
          "metadata": {},
          "execution_count": 18
        }
      ]
    },
    {
      "cell_type": "code",
      "source": [
        "res3[1]/0.70710678"
      ],
      "metadata": {
        "colab": {
          "base_uri": "https://localhost:8080/"
        },
        "id": "Qrkds9qmoXx3",
        "outputId": "f42c9883-8456-49a0-dc93-92e10fa54167"
      },
      "execution_count": null,
      "outputs": [
        {
          "output_type": "execute_result",
          "data": {
            "text/plain": [
              "array([-1., -1.])"
            ]
          },
          "metadata": {},
          "execution_count": 19
        }
      ]
    },
    {
      "cell_type": "markdown",
      "source": [
        "#### Задание 3\n",
        "Придумайте матрицу, у которой определитель = 1, и все элементы не равны 0.\n",
        "\n",
        "P.S. Матрица должна быть ненулевой и размерностью не менее 2!"
      ],
      "metadata": {
        "id": "zw9Hru-PKHyI"
      }
    },
    {
      "cell_type": "code",
      "source": [
        "A1 = np.array([[4,7], [1,2]])\n",
        "np.linalg.det(A1)"
      ],
      "metadata": {
        "colab": {
          "base_uri": "https://localhost:8080/"
        },
        "id": "xlChos1_o_he",
        "outputId": "adae0db5-9adf-4dec-aec1-c3b7f5905d34"
      },
      "execution_count": null,
      "outputs": [
        {
          "output_type": "execute_result",
          "data": {
            "text/plain": [
              "1.0"
            ]
          },
          "metadata": {},
          "execution_count": 20
        }
      ]
    },
    {
      "cell_type": "code",
      "source": [
        "A2=np.array([[1,1,2],[3,1,1],[2,1,1]])\n",
        "np.linalg.det(A2)"
      ],
      "metadata": {
        "colab": {
          "base_uri": "https://localhost:8080/"
        },
        "id": "mZtlT4nwrtfP",
        "outputId": "9e64a7bb-cf37-497a-f2b2-a87efb31de76"
      },
      "execution_count": null,
      "outputs": [
        {
          "output_type": "execute_result",
          "data": {
            "text/plain": [
              "1.0000000000000002"
            ]
          },
          "metadata": {},
          "execution_count": 27
        }
      ]
    },
    {
      "cell_type": "markdown",
      "source": [
        "Просто подобрала. Алгоритм решения задачи для матрицы произвольного размера не придумала."
      ],
      "metadata": {
        "id": "LgNcn_u0vSVP"
      }
    },
    {
      "cell_type": "code",
      "source": [
        "det = 0\n",
        "\n",
        "while det != 1:\n",
        "    a = np.random.randint(-10,10,(5,5))\n",
        "    det=np.linalg.det(a)\n",
        "    \n",
        "print('искомая матрица: \\n',a)"
      ],
      "metadata": {
        "id": "1_CHBUQ9w3oX"
      },
      "execution_count": null,
      "outputs": []
    }
  ]
}
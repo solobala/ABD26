{
  "nbformat": 4,
  "nbformat_minor": 0,
  "metadata": {
    "colab": {
      "provenance": [],
      "authorship_tag": "ABX9TyPKZhNNZuLcaLk/T3hzTvpd",
      "include_colab_link": true
    },
    "kernelspec": {
      "name": "python3",
      "display_name": "Python 3"
    },
    "language_info": {
      "name": "python"
    }
  },
  "cells": [
    {
      "cell_type": "markdown",
      "metadata": {
        "id": "view-in-github",
        "colab_type": "text"
      },
      "source": [
        "<a href=\"https://colab.research.google.com/github/solobala/ABD26/blob/main/MDS27_DZ7.ipynb\" target=\"_parent\"><img src=\"https://colab.research.google.com/assets/colab-badge.svg\" alt=\"Open In Colab\"/></a>"
      ]
    },
    {
      "cell_type": "markdown",
      "source": [
        "Домашнее задание \"Продвинутая оптимизация\"."
      ],
      "metadata": {
        "id": "VYgTYWq0MYIB"
      }
    },
    {
      "cell_type": "markdown",
      "source": [
        "### Задание\n",
        "При фиксированном seed=42 поэкспериментируйте с параметрами алгоритма differential_evolution: strategy, popsize, mutation.\n",
        "\n",
        "Постройте графики количества итераций (nit) оптимизации функции ackley от значения параметра.\n",
        "\n",
        "Подробнее о результате выдачи тут."
      ],
      "metadata": {
        "id": "mBiLARb5MZZi"
      }
    },
    {
      "cell_type": "code",
      "source": [
        "import numpy as np\n",
        "from scipy.optimize import differential_evolution\n",
        "import matplotlib.pyplot as plt\n",
        "\n",
        "\n",
        "%matplotlib inline"
      ],
      "metadata": {
        "id": "_7n6jzNOMVui"
      },
      "execution_count": 2,
      "outputs": []
    },
    {
      "cell_type": "code",
      "execution_count": 3,
      "metadata": {
        "colab": {
          "base_uri": "https://localhost:8080/"
        },
        "id": "303D7bMLMP-4",
        "outputId": "af92e8dc-e8ba-4757-8215-2aebfdae5c4e"
      },
      "outputs": [
        {
          "output_type": "execute_result",
          "data": {
            "text/plain": [
              "     fun: 4.440892098500626e-16\n",
              " message: 'Optimization terminated successfully.'\n",
              "    nfev: 2793\n",
              "     nit: 90\n",
              " success: True\n",
              "       x: array([0., 0.])"
            ]
          },
          "metadata": {},
          "execution_count": 3
        }
      ],
      "source": [
        "def ackley(x):\n",
        "    arg1 = -0.2 * np.sqrt(0.5 * (x[0] ** 2 + x[1] ** 2))\n",
        "    arg2 = 0.5 * (np.cos(2. * np.pi * x[0]) + np.cos(2. * np.pi * x[1]))\n",
        "    return -20. * np.exp(arg1) - np.exp(arg2) + 20. + np.e\n",
        "\n",
        "bounds = [(-10, 10), (-10, 10)]\n",
        "\n",
        "result = differential_evolution(ackley, bounds, seed=42)\n",
        "result"
      ]
    },
    {
      "cell_type": "code",
      "source": [
        "def get_draw(x,y,xlabel,ylabel,title):\n",
        "  \"\"\"\n",
        "  Построение графика зависимости к-ва итераций (y) \n",
        "  от передаваемого параметра (x) \n",
        "  \"\"\"\n",
        "  fig, ax = plt.subplots(figsize=(8, 3))\n",
        "  if xlabel==\"Стратегии\":\n",
        "    ax.bar(x, y)\n",
        "  else:  \n",
        "    ax.plot(x, y)\n",
        "  ax.tick_params(axis='x', rotation=70)\n",
        "\n",
        "  plt.xlabel(xlabel)\n",
        "  plt.ylabel(ylabel)\n",
        "  plt.title(title)\n",
        "  plt.show"
      ],
      "metadata": {
        "id": "j0JhHja3gjLh"
      },
      "execution_count": null,
      "outputs": []
    },
    {
      "cell_type": "code",
      "source": [
        "# Исходные данные\n",
        "f_min =1000\n",
        "\n",
        "strategies =['best1bin', 'best1exp', 'rand1exp','randtobest1exp', \n",
        "             'currenttobest1exp','best2exp','rand2exp','randtobest1bin', \n",
        "             'currenttobest1bin', 'best2bin','rand2bin', 'rand1bin']\n",
        "popsize = 0\n",
        "# Целочисленный множитель для установки общей численности популяции popsize * N   \n",
        "# Это ключевое слово переопределяется, если начальное заполнение - \n",
        "# через ключевое слово init='sobol' .Тогда  Численность популяции рассчитывается как \n",
        "# следующая степень числа 2 после popsize * N             \n",
        "mutations = np.arange(0., 1., 0.1)\n",
        "# константа мутации. Обычно выбирается из  [0., 2.]"
      ],
      "metadata": {
        "id": "FLm4whucMnFk"
      },
      "execution_count": null,
      "outputs": []
    },
    {
      "cell_type": "code",
      "source": [
        "researches = [] # Здесь будут все исследования\n",
        "research = dict() # Кортеж для одного исследования, по порядку nit, strategy, popsize, mutation, fun\n",
        "for strategy in strategies:\n",
        "  for popsize in range (1,100,10):\n",
        "    for mutation in mutations:\n",
        "      try:\n",
        "        result = differential_evolution(ackley, bounds, seed=42,popsize=popsize, strategy=strategy,mutation=mutation)\n",
        "        if result.success:\n",
        "\n",
        "          # Найдем минимальное значение целевой ф-ии и получим для нее значения остальных ключей\n",
        "          # Далее все графики числа итераций будем строить для этих значений  параметров \n",
        "          # \"strategy\", \"popsize\", \"mutation\", фиксируя 2 из 3 значений \n",
        "\n",
        "          if result.fun < f_min:\n",
        "            f_min = result.fun\n",
        "            strategy_opt = strategy\n",
        "            popsize_opt = popsize\n",
        "            mutation_opt = mutation\n",
        "            nit_opt = result.nit\n",
        "          research = {\"nit\":result.nit,\"strategy\":strategy,\"popsize\": popsize, \"mutation\": mutation, \"fun\": result.fun}\n",
        "          researches.append(research)\n",
        "      except ValueError:\n",
        "        pass"
      ],
      "metadata": {
        "id": "8LVUuZHgiknb"
      },
      "execution_count": null,
      "outputs": []
    },
    {
      "cell_type": "code",
      "source": [
        "print(f'Оптимальная стратегия: {strategy_opt}, К-т роста популяции: {popsize_opt}, Константа мутации: {mutation_opt}, Целевая ф-я: {f_min}, Кол-во итераций:{nit_opt}')"
      ],
      "metadata": {
        "colab": {
          "base_uri": "https://localhost:8080/"
        },
        "id": "8JIasWjc9irM",
        "outputId": "5c5c9b4f-18c7-41f7-8ce1-0b0e78acefb3"
      },
      "execution_count": null,
      "outputs": [
        {
          "output_type": "stream",
          "name": "stdout",
          "text": [
            "Оптимальная стратегия: best1bin, К-т роста популяции: 11, Константа мутации: 0.5, Целевая ф-я: 4.440892098500626e-16, Кол-во итераций:58\n"
          ]
        }
      ]
    },
    {
      "cell_type": "code",
      "source": [
        "# сохраним расчеты в файле\n",
        "import json\n",
        "with open(r\"otus.txt\", \"w\") as file:\n",
        "    for  line in researches:\n",
        "        stroka = json.dumps(line)\n",
        "        file.write(stroka + '\\n')"
      ],
      "metadata": {
        "id": "7dXKtrdKMNrE"
      },
      "execution_count": null,
      "outputs": []
    },
    {
      "cell_type": "code",
      "source": [
        "# Получим данные для графика зависимости числа итераций от выбранной стратегии при условии popsize=popsize_opt и mutation=mutation_opt\n",
        "y = [element[\"nit\"] for element in researches if element[\"mutation\"] == mutation_opt and element[\"popsize\"] == popsize_opt]\n",
        "x = [element[\"strategy\"] for element in researches if element[\"mutation\"] == mutation_opt and element[\"popsize\"] == popsize_opt]\n",
        "xlabel = 'Стратегии'\n",
        "ylabel = 'Число итераций'\n",
        "title = f'Зависимость Числа итераций от стратегии при mutation = {mutation_opt}, popsize = {popsize_opt}'\n",
        "\n",
        "get_draw(x,y,xlabel,ylabel,title)"
      ],
      "metadata": {
        "colab": {
          "base_uri": "https://localhost:8080/",
          "height": 309
        },
        "id": "WQnkuPV-6uZB",
        "outputId": "accf4911-5563-437b-f14c-72ffc6f3438b"
      },
      "execution_count": null,
      "outputs": [
        {
          "output_type": "display_data",
          "data": {
            "text/plain": [
              "<Figure size 576x216 with 1 Axes>"
            ],
            "image/png": "[encoded data removed]"
          },
          "metadata": {
            "needs_background": "light"
          }
        }
      ]
    },
    {
      "cell_type": "code",
      "source": [
        "# Получим данные для графика зависимости числа итераций от значения mutation при условии popsize=popsize_opt и strategy=strategy_opt\n",
        "x = [element[\"mutation\"] for element in researches if element[\"strategy\"] == strategy_opt and element[\"popsize\"] == popsize_opt]\n",
        "y = [element[\"nit\"] for element in researches if element[\"strategy\"] == strategy_opt and element[\"popsize\"] == popsize_opt]\n",
        "xlabel = 'Константа мутации'\n",
        "ylabel = 'Число итераций'\n",
        "title = f'Зависимость Числа итераций от константы мутации при strategy = {strategy_opt}, popsize = {popsize_opt}'\n",
        "get_draw(x,y,xlabel,ylabel,title)\n"
      ],
      "metadata": {
        "colab": {
          "base_uri": "https://localhost:8080/",
          "height": 249
        },
        "id": "jaadkL6Vx7RV",
        "outputId": "53c64f91-1ffa-4a87-d272-cd28f69ed123"
      },
      "execution_count": null,
      "outputs": [
        {
          "output_type": "display_data",
          "data": {
            "text/plain": [
              "<Figure size 576x216 with 1 Axes>"
            ],
            "image/png": "[encoded data removed]"
          },
          "metadata": {
            "needs_background": "light"
          }
        }
      ]
    },
    {
      "cell_type": "code",
      "source": [
        "# Получим данные для графика зависимости числа итераций от значения popsize при условии mutation=mutation_opt и strategy=strategy_opt\n",
        "\n",
        "x = [element[\"popsize\"] for element in researches if element[\"strategy\"] == strategy_opt and element[\"mutation\"] == mutation_opt]\n",
        "y = [element[\"nit\"] for element in researches if element[\"strategy\"] == strategy_opt and element[\"mutation\"] == mutation_opt]\n",
        "xlabel = 'К-т роста популяции'\n",
        "ylabel = 'Число итераций'\n",
        "title = f'Зависимость Числа итераций от к-та роста популяции при strategy = {strategy_opt}, mutation = {mutation_opt}'\n",
        "get_draw(x,y,xlabel,ylabel,title)"
      ],
      "metadata": {
        "colab": {
          "base_uri": "https://localhost:8080/",
          "height": 246
        },
        "id": "3v7xlK-Cx9QT",
        "outputId": "d6d4b1b4-89d7-44c9-8c10-03d4f2d908ca"
      },
      "execution_count": null,
      "outputs": [
        {
          "output_type": "display_data",
          "data": {
            "text/plain": [
              "<Figure size 576x216 with 1 Axes>"
            ],
            "image/png": "[encoded data removed]"
          },
          "metadata": {
            "needs_background": "light"
          }
        }
      ]
    },
    {
      "cell_type": "markdown",
      "source": [
        "### Дополнительное задание\n",
        "Поэкспериментируйте с параметрами и оптимизацией через minimize:"
      ],
      "metadata": {
        "id": "1NPJo_-xMnwH"
      }
    },
    {
      "cell_type": "code",
      "source": [
        "from scipy.optimize import minimize\n",
        "\n",
        "x0 = [0,0]\n",
        "\n",
        "result_m = minimize(ackley, x0,  method='Nelder-Mead',options={'xtol':1e-8,'disp':True})\n",
        "result_m"
      ],
      "metadata": {
        "colab": {
          "base_uri": "https://localhost:8080/"
        },
        "id": "Le1-6qVaMszZ",
        "outputId": "dc3186e8-6249-4a92-e1ed-fa927704b169"
      },
      "execution_count": 7,
      "outputs": [
        {
          "output_type": "stream",
          "name": "stdout",
          "text": [
            "Optimization terminated successfully.\n",
            "         Current function value: 0.000000\n",
            "         Iterations: 31\n",
            "         Function evaluations: 63\n"
          ]
        },
        {
          "output_type": "execute_result",
          "data": {
            "text/plain": [
              " final_simplex: (array([[ 0.00000000e+00,  0.00000000e+00],\n",
              "       [ 7.29128068e-09, -1.65075114e-09],\n",
              "       [ 2.51112912e-09, -8.55170894e-09]]), array([4.44089210e-16, 2.11447895e-08, 2.52091259e-08]))\n",
              "           fun: 4.440892098500626e-16\n",
              "       message: 'Optimization terminated successfully.'\n",
              "          nfev: 63\n",
              "           nit: 31\n",
              "        status: 0\n",
              "       success: True\n",
              "             x: array([0., 0.])"
            ]
          },
          "metadata": {},
          "execution_count": 7
        }
      ]
    },
    {
      "cell_type": "code",
      "source": [
        "# Исходные данные\n",
        "# Все методы, используемые в  minimize\n",
        "methods =['Nelder-Mead','Powell', 'CG', 'BFGS','Newton-CG', 'L-BFGS-B', 'TNC',\n",
        "             'COBYLA','SLSQP', 'trust-constr', 'dogleg', 'trust-ncg', \n",
        "             'trust-exact', 'trust-krylov']\n",
        "\n",
        "# методы с установкой границ               \n",
        "methods_with_bounds =['Nelder-Mead', 'Powell', 'L-BFGS-B', 'TNC',\n",
        "             'SLSQP', 'trust-constr'] \n",
        "# методы с ограничениями              \n",
        "methods_with_constraint =['COBYLA', 'SLSQP', 'trust-constr'] \n"
      ],
      "metadata": {
        "id": "LVBuVz65My4l"
      },
      "execution_count": 38,
      "outputs": []
    },
    {
      "cell_type": "markdown",
      "source": [
        "### методы с установкой границ"
      ],
      "metadata": {
        "id": "DBYEDVbUmv18"
      }
    },
    {
      "cell_type": "code",
      "source": [
        "results = []\n",
        "for method in methods_with_bounds:\n",
        "  x0 = [0,0]\n",
        "  result_m = minimize(ackley, x0,  method=method, options={'disp':True}) \n",
        "  if result_m.success:                      \n",
        "    results.append({\"metod\": method, \"nit\": result_m.nit, \"nfev\": result_m.nfev,\"x\": result_m.x}) \n",
        "for result in results:\n",
        "  print(result)\n",
        "  print()"
      ],
      "metadata": {
        "colab": {
          "base_uri": "https://localhost:8080/"
        },
        "id": "-c2yWrwPifkO",
        "outputId": "69ae3b4f-8285-4cef-cebf-a4a61a6d940d"
      },
      "execution_count": 42,
      "outputs": [
        {
          "output_type": "stream",
          "name": "stdout",
          "text": [
            "Optimization terminated successfully.\n",
            "         Current function value: 0.000000\n",
            "         Iterations: 8\n",
            "         Function evaluations: 17\n",
            "Optimization terminated successfully.\n",
            "         Current function value: 0.000000\n",
            "         Iterations: 1\n",
            "         Function evaluations: 63\n",
            "Optimization terminated successfully    (Exit mode 0)\n",
            "            Current function value: 3.605866716327455e-10\n",
            "            Iterations: 5\n",
            "            Function evaluations: 30\n",
            "            Gradient evaluations: 5\n",
            "`xtol` termination condition is satisfied.\n",
            "Number of iterations: 27, function evaluations: 81, CG iterations: 26, optimality: 2.83e+00, constraint violation: 0.00e+00, execution time: 0.027 s.\n",
            "{'metod': 'Nelder-Mead', 'nit': 8, 'nfev': 17, 'x': array([0., 0.])}\n",
            "\n",
            "{'metod': 'Powell', 'nit': 1, 'nfev': 63, 'x': array([0., 0.])}\n",
            "\n",
            "{'metod': 'SLSQP', 'nit': 5, 'nfev': 30, 'x': array([-9.01462031e-11, -9.01465365e-11])}\n",
            "\n",
            "{'metod': 'trust-constr', 'nit': 27, 'nfev': 81, 'x': array([0., 0.])}\n",
            "\n"
          ]
        }
      ]
    },
    {
      "cell_type": "markdown",
      "source": [
        "Вывод: По числу итераций и числу обращений  к целевой ф-ии лучшие результаты для тестовой ф-ии Ackley достигнуты при использовании метода Nelder-Mead. Результат не достигнут при использовании L-BFGS-B', 'TNC"
      ],
      "metadata": {
        "id": "bHlnv4FynAmB"
      }
    },
    {
      "cell_type": "code",
      "source": [
        "results = []\n",
        "for method in methods_with_constraint:\n",
        "  \n",
        "  x0 = [0,0]\n",
        "  result_m = minimize(ackley, x0,  method=method,  options={'disp':True}) \n",
        "  if result_m.success:                      \n",
        "    results.append({\"metod\": method,  \"nfev\": result_m.nfev,\"x\": result_m.x}) \n",
        "for result in results:\n",
        "  print(result)\n",
        "  print()"
      ],
      "metadata": {
        "colab": {
          "base_uri": "https://localhost:8080/"
        },
        "id": "cmFzb8nZnlxg",
        "outputId": "6d12c09e-341b-44cd-824a-0f5f93d626bd"
      },
      "execution_count": 31,
      "outputs": [
        {
          "output_type": "stream",
          "name": "stdout",
          "text": [
            "Optimization terminated successfully    (Exit mode 0)\n",
            "            Current function value: 3.605866716327455e-10\n",
            "            Iterations: 5\n",
            "            Function evaluations: 30\n",
            "            Gradient evaluations: 5\n",
            "`xtol` termination condition is satisfied.\n",
            "Number of iterations: 27, function evaluations: 81, CG iterations: 26, optimality: 2.83e+00, constraint violation: 0.00e+00, execution time: 0.072 s.\n",
            "{'metod': 'COBYLA', 'nfev': 25, 'x': array([-8.76258342e-06,  9.96153459e-05])}\n",
            "\n",
            "{'metod': 'SLSQP', 'nfev': 30, 'x': array([-9.01462031e-11, -9.01465365e-11])}\n",
            "\n",
            "{'metod': 'trust-constr', 'nfev': 81, 'x': array([0., 0.])}\n",
            "\n"
          ]
        }
      ]
    },
    {
      "cell_type": "code",
      "source": [
        "x0 = [0,0]\n",
        "result_m = minimize(ackley, x0,  method='COBYLA',  options={'disp':True}) \n",
        "result_m"
      ],
      "metadata": {
        "colab": {
          "base_uri": "https://localhost:8080/"
        },
        "id": "YPOMqCbssh8y",
        "outputId": "7dd30fc7-3544-409f-e909-bd11c3f135b6"
      },
      "execution_count": 44,
      "outputs": [
        {
          "output_type": "execute_result",
          "data": {
            "text/plain": [
              "     fun: 0.00028310899612238316\n",
              "   maxcv: 0.0\n",
              " message: 'Optimization terminated successfully.'\n",
              "    nfev: 25\n",
              "  status: 1\n",
              " success: True\n",
              "       x: array([-8.76258342e-06,  9.96153459e-05])"
            ]
          },
          "metadata": {},
          "execution_count": 44
        }
      ]
    },
    {
      "cell_type": "markdown",
      "source": [
        "'trust-constr'потребовал наибольшего числа итераций(27) и  обращений к ф-ии  (81()), но дал наиболее точный результат.'SLSQP' потребовал значительно меньше итераций (5) и обращений к ф-ии (30)"
      ],
      "metadata": {
        "id": "WrC516AkxfE5"
      }
    },
    {
      "cell_type": "markdown",
      "source": [
        "### Вы также можете поэкспериментировать с другими методами оптимизации, но это не обязательно для зачета."
      ],
      "metadata": {
        "id": "GYUvL7YZMzpp"
      }
    },
    {
      "cell_type": "code",
      "source": [],
      "metadata": {
        "id": "Yg1hAWZBM3me"
      },
      "execution_count": null,
      "outputs": []
    }
  ]
}
{
  "nbformat": 4,
  "nbformat_minor": 0,
  "metadata": {
    "colab": {
      "provenance": [],
      "authorship_tag": "ABX9TyMWvGc+IAy+36hbhLmPf7hk",
      "include_colab_link": true
    },
    "kernelspec": {
      "name": "python3",
      "display_name": "Python 3"
    },
    "language_info": {
      "name": "python"
    }
  },
  "cells": [
    {
      "cell_type": "markdown",
      "metadata": {
        "id": "view-in-github",
        "colab_type": "text"
      },
      "source": [
        "<a href=\"https://colab.research.google.com/github/solobala/ABD26/blob/main/ABD26_Itog2.ipynb\" target=\"_parent\"><img src=\"https://colab.research.google.com/assets/colab-badge.svg\" alt=\"Open In Colab\"/></a>"
      ]
    },
    {
      "cell_type": "markdown",
      "source": [
        "## 1. Загрузите в колаб файлы по оценкам (ratings) и фильмам (movies) и создайте на их основе pandas-датафреймы"
      ],
      "metadata": {
        "id": "BS9i8DjjNn-l"
      }
    },
    {
      "cell_type": "markdown",
      "source": [
        "### Импорт библиотек"
      ],
      "metadata": {
        "id": "thzk-Uy-Qtcx"
      }
    },
    {
      "cell_type": "code",
      "source": [
        "import pandas as pd\n",
        "import numpy as np \n",
        "from numpy.random import seed\n",
        "import matplotlib.pyplot as plt\n",
        "from matplotlib import pyplot\n",
        "import os\n",
        "from sklearn.linear_model import LinearRegression\n",
        "\n",
        "from sklearn.model_selection import train_test_split\n",
        "from sklearn.metrics import mean_squared_error\n",
        "import scipy as sp\n",
        "import scipy.stats as sst\n",
        "from scipy.stats import shapiro\n",
        "from scipy.stats import shapiro\n",
        "from statsmodels.graphics.gofplots import qqplot\n",
        "import statsmodels.api as sm\n",
        "from statsmodels.sandbox.regression.predstd import wls_prediction_std"
      ],
      "metadata": {
        "id": "x25yhu-uQwZj"
      },
      "execution_count": 5,
      "outputs": []
    },
    {
      "cell_type": "markdown",
      "source": [
        "### Загрузка датасета"
      ],
      "metadata": {
        "id": "62QMcdk_QymV"
      }
    },
    {
      "cell_type": "code",
      "source": [
        "ratings=pd.read_csv('/content/ratings.csv',header=0, sep='\\t', usecols=[0,1,2], names =['user_id', 'item_id', 'rating'])\n",
        "ratings.head()"
      ],
      "metadata": {
        "colab": {
          "base_uri": "https://localhost:8080/",
          "height": 206
        },
        "id": "4FFpOvGkVTxi",
        "outputId": "96a1bd03-72ea-4282-b07b-0e7ae44abef6"
      },
      "execution_count": 185,
      "outputs": [
        {
          "output_type": "execute_result",
          "data": {
            "text/plain": [
              "   user_id  item_id  rating\n",
              "0      186      302       3\n",
              "1       22      377       1\n",
              "2      244       51       2\n",
              "3      166      346       1\n",
              "4      298      474       4"
            ],
            "text/html": [
              "\n",
              "  <div id=\"df-535c5ed9-192f-49af-a30d-bd5a6caf2b3b\">\n",
              "    <div class=\"colab-df-container\">\n",
              "      <div>\n",
              "<style scoped>\n",
              "    .dataframe tbody tr th:only-of-type {\n",
              "        vertical-align: middle;\n",
              "    }\n",
              "\n",
              "    .dataframe tbody tr th {\n",
              "        vertical-align: top;\n",
              "    }\n",
              "\n",
              "    .dataframe thead th {\n",
              "        text-align: right;\n",
              "    }\n",
              "</style>\n",
              "<table border=\"1\" class=\"dataframe\">\n",
              "  <thead>\n",
              "    <tr style=\"text-align: right;\">\n",
              "      <th></th>\n",
              "      <th>user_id</th>\n",
              "      <th>item_id</th>\n",
              "      <th>rating</th>\n",
              "    </tr>\n",
              "  </thead>\n",
              "  <tbody>\n",
              "    <tr>\n",
              "      <th>0</th>\n",
              "      <td>186</td>\n",
              "      <td>302</td>\n",
              "      <td>3</td>\n",
              "    </tr>\n",
              "    <tr>\n",
              "      <th>1</th>\n",
              "      <td>22</td>\n",
              "      <td>377</td>\n",
              "      <td>1</td>\n",
              "    </tr>\n",
              "    <tr>\n",
              "      <th>2</th>\n",
              "      <td>244</td>\n",
              "      <td>51</td>\n",
              "      <td>2</td>\n",
              "    </tr>\n",
              "    <tr>\n",
              "      <th>3</th>\n",
              "      <td>166</td>\n",
              "      <td>346</td>\n",
              "      <td>1</td>\n",
              "    </tr>\n",
              "    <tr>\n",
              "      <th>4</th>\n",
              "      <td>298</td>\n",
              "      <td>474</td>\n",
              "      <td>4</td>\n",
              "    </tr>\n",
              "  </tbody>\n",
              "</table>\n",
              "</div>\n",
              "      <button class=\"colab-df-convert\" onclick=\"convertToInteractive('df-535c5ed9-192f-49af-a30d-bd5a6caf2b3b')\"\n",
              "              title=\"Convert this dataframe to an interactive table.\"\n",
              "              style=\"display:none;\">\n",
              "        \n",
              "  <svg xmlns=\"http://www.w3.org/2000/svg\" height=\"24px\"viewBox=\"0 0 24 24\"\n",
              "       width=\"24px\">\n",
              "    <path d=\"M0 0h24v24H0V0z\" fill=\"none\"/>\n",
              "    <path d=\"M18.56 5.44l.94 2.06.94-2.06 2.06-.94-2.06-.94-.94-2.06-.94 2.06-2.06.94zm-11 1L8.5 8.5l.94-2.06 2.06-.94-2.06-.94L8.5 2.5l-.94 2.06-2.06.94zm10 10l.94 2.06.94-2.06 2.06-.94-2.06-.94-.94-2.06-.94 2.06-2.06.94z\"/><path d=\"M17.41 7.96l-1.37-1.37c-.4-.4-.92-.59-1.43-.59-.52 0-1.04.2-1.43.59L10.3 9.45l-7.72 7.72c-.78.78-.78 2.05 0 2.83L4 21.41c.39.39.9.59 1.41.59.51 0 1.02-.2 1.41-.59l7.78-7.78 2.81-2.81c.8-.78.8-2.07 0-2.86zM5.41 20L4 18.59l7.72-7.72 1.47 1.35L5.41 20z\"/>\n",
              "  </svg>\n",
              "      </button>\n",
              "      \n",
              "  <style>\n",
              "    .colab-df-container {\n",
              "      display:flex;\n",
              "      flex-wrap:wrap;\n",
              "      gap: 12px;\n",
              "    }\n",
              "\n",
              "    .colab-df-convert {\n",
              "      background-color: #E8F0FE;\n",
              "      border: none;\n",
              "      border-radius: 50%;\n",
              "      cursor: pointer;\n",
              "      display: none;\n",
              "      fill: #1967D2;\n",
              "      height: 32px;\n",
              "      padding: 0 0 0 0;\n",
              "      width: 32px;\n",
              "    }\n",
              "\n",
              "    .colab-df-convert:hover {\n",
              "      background-color: #E2EBFA;\n",
              "      box-shadow: 0px 1px 2px rgba(60, 64, 67, 0.3), 0px 1px 3px 1px rgba(60, 64, 67, 0.15);\n",
              "      fill: #174EA6;\n",
              "    }\n",
              "\n",
              "    [theme=dark] .colab-df-convert {\n",
              "      background-color: #3B4455;\n",
              "      fill: #D2E3FC;\n",
              "    }\n",
              "\n",
              "    [theme=dark] .colab-df-convert:hover {\n",
              "      background-color: #434B5C;\n",
              "      box-shadow: 0px 1px 3px 1px rgba(0, 0, 0, 0.15);\n",
              "      filter: drop-shadow(0px 1px 2px rgba(0, 0, 0, 0.3));\n",
              "      fill: #FFFFFF;\n",
              "    }\n",
              "  </style>\n",
              "\n",
              "      <script>\n",
              "        const buttonEl =\n",
              "          document.querySelector('#df-535c5ed9-192f-49af-a30d-bd5a6caf2b3b button.colab-df-convert');\n",
              "        buttonEl.style.display =\n",
              "          google.colab.kernel.accessAllowed ? 'block' : 'none';\n",
              "\n",
              "        async function convertToInteractive(key) {\n",
              "          const element = document.querySelector('#df-535c5ed9-192f-49af-a30d-bd5a6caf2b3b');\n",
              "          const dataTable =\n",
              "            await google.colab.kernel.invokeFunction('convertToInteractive',\n",
              "                                                     [key], {});\n",
              "          if (!dataTable) return;\n",
              "\n",
              "          const docLinkHtml = 'Like what you see? Visit the ' +\n",
              "            '<a target=\"_blank\" href=https://colab.research.google.com/notebooks/data_table.ipynb>data table notebook</a>'\n",
              "            + ' to learn more about interactive tables.';\n",
              "          element.innerHTML = '';\n",
              "          dataTable['output_type'] = 'display_data';\n",
              "          await google.colab.output.renderOutput(dataTable, element);\n",
              "          const docLink = document.createElement('div');\n",
              "          docLink.innerHTML = docLinkHtml;\n",
              "          element.appendChild(docLink);\n",
              "        }\n",
              "      </script>\n",
              "    </div>\n",
              "  </div>\n",
              "  "
            ]
          },
          "metadata": {},
          "execution_count": 185
        }
      ]
    },
    {
      "cell_type": "code",
      "source": [
        "names =[\"movie id\", \"release date\", \"unknown\", \"Action\", \"Adventure\", \"Animation\", \"Children's\", \"Comedy\", \"Crime\", \n",
        "        \"Documentary\", \"Drama\", \"Fantasy\", \"Film-Noir\", \"Horror\", \"Musical\", \"Mystery\", \"Romance\", \"Sci-Fi\", \"Thriller\", \"War\", \"Western\"]"
      ],
      "metadata": {
        "id": "w0Y1Gr0CftmC"
      },
      "execution_count": 186,
      "outputs": []
    },
    {
      "cell_type": "code",
      "source": [
        "movies=pd.read_csv('/content/movies.csv',header=0, sep='|', usecols = [0,2,5,6,7,8,9,10,11,12,13,14,15,16,17,18,19,20,21,22,23], names=names , parse_dates=[1], encoding='latin-1')\n",
        "movies.head()"
      ],
      "metadata": {
        "colab": {
          "base_uri": "https://localhost:8080/",
          "height": 235
        },
        "id": "Lv7mS2N6XbfT",
        "outputId": "64fa9d8e-31bb-4c55-f5f6-bb49310f6fd5"
      },
      "execution_count": 187,
      "outputs": [
        {
          "output_type": "execute_result",
          "data": {
            "text/plain": [
              "   movie id release date  unknown  Action  Adventure  Animation  Children's  \\\n",
              "0         2   1995-01-01        0       1          1          0           0   \n",
              "1         3   1995-01-01        0       0          0          0           0   \n",
              "2         4   1995-01-01        0       1          0          0           0   \n",
              "3         5   1995-01-01        0       0          0          0           0   \n",
              "4         6   1995-01-01        0       0          0          0           0   \n",
              "\n",
              "   Comedy  Crime  Documentary  ...  Fantasy  Film-Noir  Horror  Musical  \\\n",
              "0       0      0            0  ...        0          0       0        0   \n",
              "1       0      0            0  ...        0          0       0        0   \n",
              "2       1      0            0  ...        0          0       0        0   \n",
              "3       0      1            0  ...        0          0       0        0   \n",
              "4       0      0            0  ...        0          0       0        0   \n",
              "\n",
              "   Mystery  Romance  Sci-Fi  Thriller  War  Western  \n",
              "0        0        0       0         1    0        0  \n",
              "1        0        0       0         1    0        0  \n",
              "2        0        0       0         0    0        0  \n",
              "3        0        0       0         1    0        0  \n",
              "4        0        0       0         0    0        0  \n",
              "\n",
              "[5 rows x 21 columns]"
            ],
            "text/html": [
              "\n",
              "  <div id=\"df-6617c13e-8950-46eb-9b8a-a86d9c99b77f\">\n",
              "    <div class=\"colab-df-container\">\n",
              "      <div>\n",
              "<style scoped>\n",
              "    .dataframe tbody tr th:only-of-type {\n",
              "        vertical-align: middle;\n",
              "    }\n",
              "\n",
              "    .dataframe tbody tr th {\n",
              "        vertical-align: top;\n",
              "    }\n",
              "\n",
              "    .dataframe thead th {\n",
              "        text-align: right;\n",
              "    }\n",
              "</style>\n",
              "<table border=\"1\" class=\"dataframe\">\n",
              "  <thead>\n",
              "    <tr style=\"text-align: right;\">\n",
              "      <th></th>\n",
              "      <th>movie id</th>\n",
              "      <th>release date</th>\n",
              "      <th>unknown</th>\n",
              "      <th>Action</th>\n",
              "      <th>Adventure</th>\n",
              "      <th>Animation</th>\n",
              "      <th>Children's</th>\n",
              "      <th>Comedy</th>\n",
              "      <th>Crime</th>\n",
              "      <th>Documentary</th>\n",
              "      <th>...</th>\n",
              "      <th>Fantasy</th>\n",
              "      <th>Film-Noir</th>\n",
              "      <th>Horror</th>\n",
              "      <th>Musical</th>\n",
              "      <th>Mystery</th>\n",
              "      <th>Romance</th>\n",
              "      <th>Sci-Fi</th>\n",
              "      <th>Thriller</th>\n",
              "      <th>War</th>\n",
              "      <th>Western</th>\n",
              "    </tr>\n",
              "  </thead>\n",
              "  <tbody>\n",
              "    <tr>\n",
              "      <th>0</th>\n",
              "      <td>2</td>\n",
              "      <td>1995-01-01</td>\n",
              "      <td>0</td>\n",
              "      <td>1</td>\n",
              "      <td>1</td>\n",
              "      <td>0</td>\n",
              "      <td>0</td>\n",
              "      <td>0</td>\n",
              "      <td>0</td>\n",
              "      <td>0</td>\n",
              "      <td>...</td>\n",
              "      <td>0</td>\n",
              "      <td>0</td>\n",
              "      <td>0</td>\n",
              "      <td>0</td>\n",
              "      <td>0</td>\n",
              "      <td>0</td>\n",
              "      <td>0</td>\n",
              "      <td>1</td>\n",
              "      <td>0</td>\n",
              "      <td>0</td>\n",
              "    </tr>\n",
              "    <tr>\n",
              "      <th>1</th>\n",
              "      <td>3</td>\n",
              "      <td>1995-01-01</td>\n",
              "      <td>0</td>\n",
              "      <td>0</td>\n",
              "      <td>0</td>\n",
              "      <td>0</td>\n",
              "      <td>0</td>\n",
              "      <td>0</td>\n",
              "      <td>0</td>\n",
              "      <td>0</td>\n",
              "      <td>...</td>\n",
              "      <td>0</td>\n",
              "      <td>0</td>\n",
              "      <td>0</td>\n",
              "      <td>0</td>\n",
              "      <td>0</td>\n",
              "      <td>0</td>\n",
              "      <td>0</td>\n",
              "      <td>1</td>\n",
              "      <td>0</td>\n",
              "      <td>0</td>\n",
              "    </tr>\n",
              "    <tr>\n",
              "      <th>2</th>\n",
              "      <td>4</td>\n",
              "      <td>1995-01-01</td>\n",
              "      <td>0</td>\n",
              "      <td>1</td>\n",
              "      <td>0</td>\n",
              "      <td>0</td>\n",
              "      <td>0</td>\n",
              "      <td>1</td>\n",
              "      <td>0</td>\n",
              "      <td>0</td>\n",
              "      <td>...</td>\n",
              "      <td>0</td>\n",
              "      <td>0</td>\n",
              "      <td>0</td>\n",
              "      <td>0</td>\n",
              "      <td>0</td>\n",
              "      <td>0</td>\n",
              "      <td>0</td>\n",
              "      <td>0</td>\n",
              "      <td>0</td>\n",
              "      <td>0</td>\n",
              "    </tr>\n",
              "    <tr>\n",
              "      <th>3</th>\n",
              "      <td>5</td>\n",
              "      <td>1995-01-01</td>\n",
              "      <td>0</td>\n",
              "      <td>0</td>\n",
              "      <td>0</td>\n",
              "      <td>0</td>\n",
              "      <td>0</td>\n",
              "      <td>0</td>\n",
              "      <td>1</td>\n",
              "      <td>0</td>\n",
              "      <td>...</td>\n",
              "      <td>0</td>\n",
              "      <td>0</td>\n",
              "      <td>0</td>\n",
              "      <td>0</td>\n",
              "      <td>0</td>\n",
              "      <td>0</td>\n",
              "      <td>0</td>\n",
              "      <td>1</td>\n",
              "      <td>0</td>\n",
              "      <td>0</td>\n",
              "    </tr>\n",
              "    <tr>\n",
              "      <th>4</th>\n",
              "      <td>6</td>\n",
              "      <td>1995-01-01</td>\n",
              "      <td>0</td>\n",
              "      <td>0</td>\n",
              "      <td>0</td>\n",
              "      <td>0</td>\n",
              "      <td>0</td>\n",
              "      <td>0</td>\n",
              "      <td>0</td>\n",
              "      <td>0</td>\n",
              "      <td>...</td>\n",
              "      <td>0</td>\n",
              "      <td>0</td>\n",
              "      <td>0</td>\n",
              "      <td>0</td>\n",
              "      <td>0</td>\n",
              "      <td>0</td>\n",
              "      <td>0</td>\n",
              "      <td>0</td>\n",
              "      <td>0</td>\n",
              "      <td>0</td>\n",
              "    </tr>\n",
              "  </tbody>\n",
              "</table>\n",
              "<p>5 rows × 21 columns</p>\n",
              "</div>\n",
              "      <button class=\"colab-df-convert\" onclick=\"convertToInteractive('df-6617c13e-8950-46eb-9b8a-a86d9c99b77f')\"\n",
              "              title=\"Convert this dataframe to an interactive table.\"\n",
              "              style=\"display:none;\">\n",
              "        \n",
              "  <svg xmlns=\"http://www.w3.org/2000/svg\" height=\"24px\"viewBox=\"0 0 24 24\"\n",
              "       width=\"24px\">\n",
              "    <path d=\"M0 0h24v24H0V0z\" fill=\"none\"/>\n",
              "    <path d=\"M18.56 5.44l.94 2.06.94-2.06 2.06-.94-2.06-.94-.94-2.06-.94 2.06-2.06.94zm-11 1L8.5 8.5l.94-2.06 2.06-.94-2.06-.94L8.5 2.5l-.94 2.06-2.06.94zm10 10l.94 2.06.94-2.06 2.06-.94-2.06-.94-.94-2.06-.94 2.06-2.06.94z\"/><path d=\"M17.41 7.96l-1.37-1.37c-.4-.4-.92-.59-1.43-.59-.52 0-1.04.2-1.43.59L10.3 9.45l-7.72 7.72c-.78.78-.78 2.05 0 2.83L4 21.41c.39.39.9.59 1.41.59.51 0 1.02-.2 1.41-.59l7.78-7.78 2.81-2.81c.8-.78.8-2.07 0-2.86zM5.41 20L4 18.59l7.72-7.72 1.47 1.35L5.41 20z\"/>\n",
              "  </svg>\n",
              "      </button>\n",
              "      \n",
              "  <style>\n",
              "    .colab-df-container {\n",
              "      display:flex;\n",
              "      flex-wrap:wrap;\n",
              "      gap: 12px;\n",
              "    }\n",
              "\n",
              "    .colab-df-convert {\n",
              "      background-color: #E8F0FE;\n",
              "      border: none;\n",
              "      border-radius: 50%;\n",
              "      cursor: pointer;\n",
              "      display: none;\n",
              "      fill: #1967D2;\n",
              "      height: 32px;\n",
              "      padding: 0 0 0 0;\n",
              "      width: 32px;\n",
              "    }\n",
              "\n",
              "    .colab-df-convert:hover {\n",
              "      background-color: #E2EBFA;\n",
              "      box-shadow: 0px 1px 2px rgba(60, 64, 67, 0.3), 0px 1px 3px 1px rgba(60, 64, 67, 0.15);\n",
              "      fill: #174EA6;\n",
              "    }\n",
              "\n",
              "    [theme=dark] .colab-df-convert {\n",
              "      background-color: #3B4455;\n",
              "      fill: #D2E3FC;\n",
              "    }\n",
              "\n",
              "    [theme=dark] .colab-df-convert:hover {\n",
              "      background-color: #434B5C;\n",
              "      box-shadow: 0px 1px 3px 1px rgba(0, 0, 0, 0.15);\n",
              "      filter: drop-shadow(0px 1px 2px rgba(0, 0, 0, 0.3));\n",
              "      fill: #FFFFFF;\n",
              "    }\n",
              "  </style>\n",
              "\n",
              "      <script>\n",
              "        const buttonEl =\n",
              "          document.querySelector('#df-6617c13e-8950-46eb-9b8a-a86d9c99b77f button.colab-df-convert');\n",
              "        buttonEl.style.display =\n",
              "          google.colab.kernel.accessAllowed ? 'block' : 'none';\n",
              "\n",
              "        async function convertToInteractive(key) {\n",
              "          const element = document.querySelector('#df-6617c13e-8950-46eb-9b8a-a86d9c99b77f');\n",
              "          const dataTable =\n",
              "            await google.colab.kernel.invokeFunction('convertToInteractive',\n",
              "                                                     [key], {});\n",
              "          if (!dataTable) return;\n",
              "\n",
              "          const docLinkHtml = 'Like what you see? Visit the ' +\n",
              "            '<a target=\"_blank\" href=https://colab.research.google.com/notebooks/data_table.ipynb>data table notebook</a>'\n",
              "            + ' to learn more about interactive tables.';\n",
              "          element.innerHTML = '';\n",
              "          dataTable['output_type'] = 'display_data';\n",
              "          await google.colab.output.renderOutput(dataTable, element);\n",
              "          const docLink = document.createElement('div');\n",
              "          docLink.innerHTML = docLinkHtml;\n",
              "          element.appendChild(docLink);\n",
              "        }\n",
              "      </script>\n",
              "    </div>\n",
              "  </div>\n",
              "  "
            ]
          },
          "metadata": {},
          "execution_count": 187
        }
      ]
    },
    {
      "cell_type": "code",
      "source": [
        "movies.info()"
      ],
      "metadata": {
        "colab": {
          "base_uri": "https://localhost:8080/"
        },
        "id": "iaBk45c_Fb46",
        "outputId": "a2bf4e33-183a-48c9-b0f6-ab99f29791d2"
      },
      "execution_count": 188,
      "outputs": [
        {
          "output_type": "stream",
          "name": "stdout",
          "text": [
            "<class 'pandas.core.frame.DataFrame'>\n",
            "RangeIndex: 1681 entries, 0 to 1680\n",
            "Data columns (total 21 columns):\n",
            " #   Column        Non-Null Count  Dtype         \n",
            "---  ------        --------------  -----         \n",
            " 0   movie id      1681 non-null   int64         \n",
            " 1   release date  1680 non-null   datetime64[ns]\n",
            " 2   unknown       1681 non-null   int64         \n",
            " 3   Action        1681 non-null   int64         \n",
            " 4   Adventure     1681 non-null   int64         \n",
            " 5   Animation     1681 non-null   int64         \n",
            " 6   Children's    1681 non-null   int64         \n",
            " 7   Comedy        1681 non-null   int64         \n",
            " 8   Crime         1681 non-null   int64         \n",
            " 9   Documentary   1681 non-null   int64         \n",
            " 10  Drama         1681 non-null   int64         \n",
            " 11  Fantasy       1681 non-null   int64         \n",
            " 12  Film-Noir     1681 non-null   int64         \n",
            " 13  Horror        1681 non-null   int64         \n",
            " 14  Musical       1681 non-null   int64         \n",
            " 15  Mystery       1681 non-null   int64         \n",
            " 16  Romance       1681 non-null   int64         \n",
            " 17  Sci-Fi        1681 non-null   int64         \n",
            " 18  Thriller      1681 non-null   int64         \n",
            " 19  War           1681 non-null   int64         \n",
            " 20  Western       1681 non-null   int64         \n",
            "dtypes: datetime64[ns](1), int64(20)\n",
            "memory usage: 275.9 KB\n"
          ]
        }
      ]
    },
    {
      "cell_type": "markdown",
      "source": [
        "## 2. Средствами Pandas, используя dataframe ratings, найдите id пользователя, поставившего больше всего оценок"
      ],
      "metadata": {
        "id": "ISljSmCcNtY3"
      }
    },
    {
      "cell_type": "code",
      "source": [
        "best_appreaizer = ratings.user_id.value_counts().head(1).index.values[0]"
      ],
      "metadata": {
        "id": "FjssoiVabjQz"
      },
      "execution_count": 189,
      "outputs": []
    },
    {
      "cell_type": "code",
      "source": [
        "print(f'User_id пользователя, поставившего наибольшее число оценок: {best_appreaizer}') "
      ],
      "metadata": {
        "colab": {
          "base_uri": "https://localhost:8080/"
        },
        "id": "XWwfaEpgN0Up",
        "outputId": "c960d07b-e2d1-4ec2-accb-7a065c38e601"
      },
      "execution_count": 190,
      "outputs": [
        {
          "output_type": "stream",
          "name": "stdout",
          "text": [
            "User_id пользователя, поставившего наибольшее число оценок: 405\n"
          ]
        }
      ]
    },
    {
      "cell_type": "markdown",
      "source": [
        "##3. Оставьте в датафрейме ratings только те фильмы, который оценил данный пользователь "
      ],
      "metadata": {
        "id": "ivOzhYFEN0v3"
      }
    },
    {
      "cell_type": "code",
      "source": [
        "df=ratings.loc[ratings['user_id']==best_appreaizer]"
      ],
      "metadata": {
        "id": "33CgAPUON6YO"
      },
      "execution_count": 191,
      "outputs": []
    },
    {
      "cell_type": "code",
      "source": [
        "df.count()"
      ],
      "metadata": {
        "colab": {
          "base_uri": "https://localhost:8080/"
        },
        "id": "ydKPU62KpXBU",
        "outputId": "ae9b47aa-2700-4ace-b4ff-a64b3085b1f8"
      },
      "execution_count": 192,
      "outputs": [
        {
          "output_type": "execute_result",
          "data": {
            "text/plain": [
              "user_id    737\n",
              "item_id    737\n",
              "rating     737\n",
              "dtype: int64"
            ]
          },
          "metadata": {},
          "execution_count": 192
        }
      ]
    },
    {
      "cell_type": "markdown",
      "source": [
        "##4. Добавьте к датафрейму из задания 3 столбцы:\n",
        "\n",
        "Для построения модели нам нужны признаки. В качестве таковых будем использовать:\n",
        "*  Год выхода\n",
        "*   Жанры (Каждый столбец - это жанр. Единицу записываем, если фильм принадлежит данному жанру и 0 - если нет)\n",
        "*   Общее количество оценок\n",
        "*   Суммарную оценку\n"
      ],
      "metadata": {
        "id": "5J9ZCiaSN63Z"
      }
    },
    {
      "cell_type": "code",
      "source": [
        "ratings_filtered=df.merge(movies, left_on='item_id', right_on='movie id', how='left') # Получим признаки жана и года выхода из датасета movies"
      ],
      "metadata": {
        "id": "FprT81O2OAPN"
      },
      "execution_count": 193,
      "outputs": []
    },
    {
      "cell_type": "code",
      "source": [
        "ratings_filtered.drop(columns=['user_id','item_id'], axis=1, inplace=True) # удалим лишние колонки user_id и movie id"
      ],
      "metadata": {
        "id": "IQlgAQheibJ3"
      },
      "execution_count": 194,
      "outputs": []
    },
    {
      "cell_type": "code",
      "source": [
        "ratings_filtered.loc[:, 'release date'] = ratings_filtered.loc[:, 'release date'].dt.year"
      ],
      "metadata": {
        "id": "5yhW4dAZEGd3"
      },
      "execution_count": 195,
      "outputs": []
    },
    {
      "cell_type": "code",
      "source": [
        "ratings_filtered.head()"
      ],
      "metadata": {
        "colab": {
          "base_uri": "https://localhost:8080/",
          "height": 235
        },
        "id": "f6Iubvvde5tM",
        "outputId": "d562c72f-bda4-4e26-943c-ad003dbcd4d3"
      },
      "execution_count": 196,
      "outputs": [
        {
          "output_type": "execute_result",
          "data": {
            "text/plain": [
              "   rating  movie id  release date  unknown  Action  Adventure  Animation  \\\n",
              "0       4        56          1994        0       0          0          0   \n",
              "1       1       592          1995        0       0          0          0   \n",
              "2       1      1582          1947        0       0          0          0   \n",
              "3       1       171          1991        0       0          0          0   \n",
              "4       1       580          1995        0       0          0          0   \n",
              "\n",
              "   Children's  Comedy  Crime  ...  Fantasy  Film-Noir  Horror  Musical  \\\n",
              "0           0       0      1  ...        0          0       0        0   \n",
              "1           0       0      0  ...        0          0       0        0   \n",
              "2           0       0      0  ...        0          1       0        0   \n",
              "3           0       1      0  ...        0          0       0        0   \n",
              "4           0       1      0  ...        0          0       0        0   \n",
              "\n",
              "   Mystery  Romance  Sci-Fi  Thriller  War  Western  \n",
              "0        0        0       0         0    0        0  \n",
              "1        1        0       0         1    0        0  \n",
              "2        0        0       0         0    0        0  \n",
              "3        0        0       1         0    0        0  \n",
              "4        0        1       0         0    0        0  \n",
              "\n",
              "[5 rows x 22 columns]"
            ],
            "text/html": [
              "\n",
              "  <div id=\"df-ebb3a323-bd79-4984-b9d1-d94cea113206\">\n",
              "    <div class=\"colab-df-container\">\n",
              "      <div>\n",
              "<style scoped>\n",
              "    .dataframe tbody tr th:only-of-type {\n",
              "        vertical-align: middle;\n",
              "    }\n",
              "\n",
              "    .dataframe tbody tr th {\n",
              "        vertical-align: top;\n",
              "    }\n",
              "\n",
              "    .dataframe thead th {\n",
              "        text-align: right;\n",
              "    }\n",
              "</style>\n",
              "<table border=\"1\" class=\"dataframe\">\n",
              "  <thead>\n",
              "    <tr style=\"text-align: right;\">\n",
              "      <th></th>\n",
              "      <th>rating</th>\n",
              "      <th>movie id</th>\n",
              "      <th>release date</th>\n",
              "      <th>unknown</th>\n",
              "      <th>Action</th>\n",
              "      <th>Adventure</th>\n",
              "      <th>Animation</th>\n",
              "      <th>Children's</th>\n",
              "      <th>Comedy</th>\n",
              "      <th>Crime</th>\n",
              "      <th>...</th>\n",
              "      <th>Fantasy</th>\n",
              "      <th>Film-Noir</th>\n",
              "      <th>Horror</th>\n",
              "      <th>Musical</th>\n",
              "      <th>Mystery</th>\n",
              "      <th>Romance</th>\n",
              "      <th>Sci-Fi</th>\n",
              "      <th>Thriller</th>\n",
              "      <th>War</th>\n",
              "      <th>Western</th>\n",
              "    </tr>\n",
              "  </thead>\n",
              "  <tbody>\n",
              "    <tr>\n",
              "      <th>0</th>\n",
              "      <td>4</td>\n",
              "      <td>56</td>\n",
              "      <td>1994</td>\n",
              "      <td>0</td>\n",
              "      <td>0</td>\n",
              "      <td>0</td>\n",
              "      <td>0</td>\n",
              "      <td>0</td>\n",
              "      <td>0</td>\n",
              "      <td>1</td>\n",
              "      <td>...</td>\n",
              "      <td>0</td>\n",
              "      <td>0</td>\n",
              "      <td>0</td>\n",
              "      <td>0</td>\n",
              "      <td>0</td>\n",
              "      <td>0</td>\n",
              "      <td>0</td>\n",
              "      <td>0</td>\n",
              "      <td>0</td>\n",
              "      <td>0</td>\n",
              "    </tr>\n",
              "    <tr>\n",
              "      <th>1</th>\n",
              "      <td>1</td>\n",
              "      <td>592</td>\n",
              "      <td>1995</td>\n",
              "      <td>0</td>\n",
              "      <td>0</td>\n",
              "      <td>0</td>\n",
              "      <td>0</td>\n",
              "      <td>0</td>\n",
              "      <td>0</td>\n",
              "      <td>0</td>\n",
              "      <td>...</td>\n",
              "      <td>0</td>\n",
              "      <td>0</td>\n",
              "      <td>0</td>\n",
              "      <td>0</td>\n",
              "      <td>1</td>\n",
              "      <td>0</td>\n",
              "      <td>0</td>\n",
              "      <td>1</td>\n",
              "      <td>0</td>\n",
              "      <td>0</td>\n",
              "    </tr>\n",
              "    <tr>\n",
              "      <th>2</th>\n",
              "      <td>1</td>\n",
              "      <td>1582</td>\n",
              "      <td>1947</td>\n",
              "      <td>0</td>\n",
              "      <td>0</td>\n",
              "      <td>0</td>\n",
              "      <td>0</td>\n",
              "      <td>0</td>\n",
              "      <td>0</td>\n",
              "      <td>0</td>\n",
              "      <td>...</td>\n",
              "      <td>0</td>\n",
              "      <td>1</td>\n",
              "      <td>0</td>\n",
              "      <td>0</td>\n",
              "      <td>0</td>\n",
              "      <td>0</td>\n",
              "      <td>0</td>\n",
              "      <td>0</td>\n",
              "      <td>0</td>\n",
              "      <td>0</td>\n",
              "    </tr>\n",
              "    <tr>\n",
              "      <th>3</th>\n",
              "      <td>1</td>\n",
              "      <td>171</td>\n",
              "      <td>1991</td>\n",
              "      <td>0</td>\n",
              "      <td>0</td>\n",
              "      <td>0</td>\n",
              "      <td>0</td>\n",
              "      <td>0</td>\n",
              "      <td>1</td>\n",
              "      <td>0</td>\n",
              "      <td>...</td>\n",
              "      <td>0</td>\n",
              "      <td>0</td>\n",
              "      <td>0</td>\n",
              "      <td>0</td>\n",
              "      <td>0</td>\n",
              "      <td>0</td>\n",
              "      <td>1</td>\n",
              "      <td>0</td>\n",
              "      <td>0</td>\n",
              "      <td>0</td>\n",
              "    </tr>\n",
              "    <tr>\n",
              "      <th>4</th>\n",
              "      <td>1</td>\n",
              "      <td>580</td>\n",
              "      <td>1995</td>\n",
              "      <td>0</td>\n",
              "      <td>0</td>\n",
              "      <td>0</td>\n",
              "      <td>0</td>\n",
              "      <td>0</td>\n",
              "      <td>1</td>\n",
              "      <td>0</td>\n",
              "      <td>...</td>\n",
              "      <td>0</td>\n",
              "      <td>0</td>\n",
              "      <td>0</td>\n",
              "      <td>0</td>\n",
              "      <td>0</td>\n",
              "      <td>1</td>\n",
              "      <td>0</td>\n",
              "      <td>0</td>\n",
              "      <td>0</td>\n",
              "      <td>0</td>\n",
              "    </tr>\n",
              "  </tbody>\n",
              "</table>\n",
              "<p>5 rows × 22 columns</p>\n",
              "</div>\n",
              "      <button class=\"colab-df-convert\" onclick=\"convertToInteractive('df-ebb3a323-bd79-4984-b9d1-d94cea113206')\"\n",
              "              title=\"Convert this dataframe to an interactive table.\"\n",
              "              style=\"display:none;\">\n",
              "        \n",
              "  <svg xmlns=\"http://www.w3.org/2000/svg\" height=\"24px\"viewBox=\"0 0 24 24\"\n",
              "       width=\"24px\">\n",
              "    <path d=\"M0 0h24v24H0V0z\" fill=\"none\"/>\n",
              "    <path d=\"M18.56 5.44l.94 2.06.94-2.06 2.06-.94-2.06-.94-.94-2.06-.94 2.06-2.06.94zm-11 1L8.5 8.5l.94-2.06 2.06-.94-2.06-.94L8.5 2.5l-.94 2.06-2.06.94zm10 10l.94 2.06.94-2.06 2.06-.94-2.06-.94-.94-2.06-.94 2.06-2.06.94z\"/><path d=\"M17.41 7.96l-1.37-1.37c-.4-.4-.92-.59-1.43-.59-.52 0-1.04.2-1.43.59L10.3 9.45l-7.72 7.72c-.78.78-.78 2.05 0 2.83L4 21.41c.39.39.9.59 1.41.59.51 0 1.02-.2 1.41-.59l7.78-7.78 2.81-2.81c.8-.78.8-2.07 0-2.86zM5.41 20L4 18.59l7.72-7.72 1.47 1.35L5.41 20z\"/>\n",
              "  </svg>\n",
              "      </button>\n",
              "      \n",
              "  <style>\n",
              "    .colab-df-container {\n",
              "      display:flex;\n",
              "      flex-wrap:wrap;\n",
              "      gap: 12px;\n",
              "    }\n",
              "\n",
              "    .colab-df-convert {\n",
              "      background-color: #E8F0FE;\n",
              "      border: none;\n",
              "      border-radius: 50%;\n",
              "      cursor: pointer;\n",
              "      display: none;\n",
              "      fill: #1967D2;\n",
              "      height: 32px;\n",
              "      padding: 0 0 0 0;\n",
              "      width: 32px;\n",
              "    }\n",
              "\n",
              "    .colab-df-convert:hover {\n",
              "      background-color: #E2EBFA;\n",
              "      box-shadow: 0px 1px 2px rgba(60, 64, 67, 0.3), 0px 1px 3px 1px rgba(60, 64, 67, 0.15);\n",
              "      fill: #174EA6;\n",
              "    }\n",
              "\n",
              "    [theme=dark] .colab-df-convert {\n",
              "      background-color: #3B4455;\n",
              "      fill: #D2E3FC;\n",
              "    }\n",
              "\n",
              "    [theme=dark] .colab-df-convert:hover {\n",
              "      background-color: #434B5C;\n",
              "      box-shadow: 0px 1px 3px 1px rgba(0, 0, 0, 0.15);\n",
              "      filter: drop-shadow(0px 1px 2px rgba(0, 0, 0, 0.3));\n",
              "      fill: #FFFFFF;\n",
              "    }\n",
              "  </style>\n",
              "\n",
              "      <script>\n",
              "        const buttonEl =\n",
              "          document.querySelector('#df-ebb3a323-bd79-4984-b9d1-d94cea113206 button.colab-df-convert');\n",
              "        buttonEl.style.display =\n",
              "          google.colab.kernel.accessAllowed ? 'block' : 'none';\n",
              "\n",
              "        async function convertToInteractive(key) {\n",
              "          const element = document.querySelector('#df-ebb3a323-bd79-4984-b9d1-d94cea113206');\n",
              "          const dataTable =\n",
              "            await google.colab.kernel.invokeFunction('convertToInteractive',\n",
              "                                                     [key], {});\n",
              "          if (!dataTable) return;\n",
              "\n",
              "          const docLinkHtml = 'Like what you see? Visit the ' +\n",
              "            '<a target=\"_blank\" href=https://colab.research.google.com/notebooks/data_table.ipynb>data table notebook</a>'\n",
              "            + ' to learn more about interactive tables.';\n",
              "          element.innerHTML = '';\n",
              "          dataTable['output_type'] = 'display_data';\n",
              "          await google.colab.output.renderOutput(dataTable, element);\n",
              "          const docLink = document.createElement('div');\n",
              "          docLink.innerHTML = docLinkHtml;\n",
              "          element.appendChild(docLink);\n",
              "        }\n",
              "      </script>\n",
              "    </div>\n",
              "  </div>\n",
              "  "
            ]
          },
          "metadata": {},
          "execution_count": 196
        }
      ]
    },
    {
      "cell_type": "code",
      "source": [
        "ratings_merged=ratings_filtered.merge(ratings, left_on=\"movie id\", right_on=\"item_id\", how=\"left\") # соединим с исходным ratings для получения оценок остальных пользователей по отобранным фильмам\n",
        "ratings_merged.drop(columns=['user_id','item_id'], inplace=True)"
      ],
      "metadata": {
        "id": "KFKW7MpHoWeN"
      },
      "execution_count": 197,
      "outputs": []
    },
    {
      "cell_type": "code",
      "source": [
        "ratings_merged"
      ],
      "metadata": {
        "colab": {
          "base_uri": "https://localhost:8080/",
          "height": 423
        },
        "id": "Z7jiitqeCPto",
        "outputId": "68ed670f-ebc6-4c09-b7f6-cd083a831546"
      },
      "execution_count": 198,
      "outputs": [
        {
          "output_type": "execute_result",
          "data": {
            "text/plain": [
              "       rating_x  movie id  release date  unknown  Action  Adventure  \\\n",
              "0             4        56          1994        0       0          0   \n",
              "1             4        56          1994        0       0          0   \n",
              "2             4        56          1994        0       0          0   \n",
              "3             4        56          1994        0       0          0   \n",
              "4             4        56          1994        0       0          0   \n",
              "...         ...       ...           ...      ...     ...        ...   \n",
              "52857         1       958          1994        0       0          0   \n",
              "52858         1       958          1994        0       0          0   \n",
              "52859         1       958          1994        0       0          0   \n",
              "52860         1       958          1994        0       0          0   \n",
              "52861         1       958          1994        0       0          0   \n",
              "\n",
              "       Animation  Children's  Comedy  Crime  ...  Film-Noir  Horror  Musical  \\\n",
              "0              0           0       0      1  ...          0       0        0   \n",
              "1              0           0       0      1  ...          0       0        0   \n",
              "2              0           0       0      1  ...          0       0        0   \n",
              "3              0           0       0      1  ...          0       0        0   \n",
              "4              0           0       0      1  ...          0       0        0   \n",
              "...          ...         ...     ...    ...  ...        ...     ...      ...   \n",
              "52857          0           0       0      0  ...          0       0        0   \n",
              "52858          0           0       0      0  ...          0       0        0   \n",
              "52859          0           0       0      0  ...          0       0        0   \n",
              "52860          0           0       0      0  ...          0       0        0   \n",
              "52861          0           0       0      0  ...          0       0        0   \n",
              "\n",
              "       Mystery  Romance  Sci-Fi  Thriller  War  Western  rating_y  \n",
              "0            0        0       0         0    0        0         4  \n",
              "1            0        0       0         0    0        0         5  \n",
              "2            0        0       0         0    0        0         4  \n",
              "3            0        0       0         0    0        0         5  \n",
              "4            0        0       0         0    0        0         3  \n",
              "...        ...      ...     ...       ...  ...      ...       ...  \n",
              "52857        0        0       0         0    0        0         3  \n",
              "52858        0        0       0         0    0        0         5  \n",
              "52859        0        0       0         0    0        0         3  \n",
              "52860        0        0       0         0    0        0         5  \n",
              "52861        0        0       0         0    0        0         1  \n",
              "\n",
              "[52862 rows x 23 columns]"
            ],
            "text/html": [
              "\n",
              "  <div id=\"df-6ba2bb12-3227-48d2-abfa-cd4b1cb34032\">\n",
              "    <div class=\"colab-df-container\">\n",
              "      <div>\n",
              "<style scoped>\n",
              "    .dataframe tbody tr th:only-of-type {\n",
              "        vertical-align: middle;\n",
              "    }\n",
              "\n",
              "    .dataframe tbody tr th {\n",
              "        vertical-align: top;\n",
              "    }\n",
              "\n",
              "    .dataframe thead th {\n",
              "        text-align: right;\n",
              "    }\n",
              "</style>\n",
              "<table border=\"1\" class=\"dataframe\">\n",
              "  <thead>\n",
              "    <tr style=\"text-align: right;\">\n",
              "      <th></th>\n",
              "      <th>rating_x</th>\n",
              "      <th>movie id</th>\n",
              "      <th>release date</th>\n",
              "      <th>unknown</th>\n",
              "      <th>Action</th>\n",
              "      <th>Adventure</th>\n",
              "      <th>Animation</th>\n",
              "      <th>Children's</th>\n",
              "      <th>Comedy</th>\n",
              "      <th>Crime</th>\n",
              "      <th>...</th>\n",
              "      <th>Film-Noir</th>\n",
              "      <th>Horror</th>\n",
              "      <th>Musical</th>\n",
              "      <th>Mystery</th>\n",
              "      <th>Romance</th>\n",
              "      <th>Sci-Fi</th>\n",
              "      <th>Thriller</th>\n",
              "      <th>War</th>\n",
              "      <th>Western</th>\n",
              "      <th>rating_y</th>\n",
              "    </tr>\n",
              "  </thead>\n",
              "  <tbody>\n",
              "    <tr>\n",
              "      <th>0</th>\n",
              "      <td>4</td>\n",
              "      <td>56</td>\n",
              "      <td>1994</td>\n",
              "      <td>0</td>\n",
              "      <td>0</td>\n",
              "      <td>0</td>\n",
              "      <td>0</td>\n",
              "      <td>0</td>\n",
              "      <td>0</td>\n",
              "      <td>1</td>\n",
              "      <td>...</td>\n",
              "      <td>0</td>\n",
              "      <td>0</td>\n",
              "      <td>0</td>\n",
              "      <td>0</td>\n",
              "      <td>0</td>\n",
              "      <td>0</td>\n",
              "      <td>0</td>\n",
              "      <td>0</td>\n",
              "      <td>0</td>\n",
              "      <td>4</td>\n",
              "    </tr>\n",
              "    <tr>\n",
              "      <th>1</th>\n",
              "      <td>4</td>\n",
              "      <td>56</td>\n",
              "      <td>1994</td>\n",
              "      <td>0</td>\n",
              "      <td>0</td>\n",
              "      <td>0</td>\n",
              "      <td>0</td>\n",
              "      <td>0</td>\n",
              "      <td>0</td>\n",
              "      <td>1</td>\n",
              "      <td>...</td>\n",
              "      <td>0</td>\n",
              "      <td>0</td>\n",
              "      <td>0</td>\n",
              "      <td>0</td>\n",
              "      <td>0</td>\n",
              "      <td>0</td>\n",
              "      <td>0</td>\n",
              "      <td>0</td>\n",
              "      <td>0</td>\n",
              "      <td>5</td>\n",
              "    </tr>\n",
              "    <tr>\n",
              "      <th>2</th>\n",
              "      <td>4</td>\n",
              "      <td>56</td>\n",
              "      <td>1994</td>\n",
              "      <td>0</td>\n",
              "      <td>0</td>\n",
              "      <td>0</td>\n",
              "      <td>0</td>\n",
              "      <td>0</td>\n",
              "      <td>0</td>\n",
              "      <td>1</td>\n",
              "      <td>...</td>\n",
              "      <td>0</td>\n",
              "      <td>0</td>\n",
              "      <td>0</td>\n",
              "      <td>0</td>\n",
              "      <td>0</td>\n",
              "      <td>0</td>\n",
              "      <td>0</td>\n",
              "      <td>0</td>\n",
              "      <td>0</td>\n",
              "      <td>4</td>\n",
              "    </tr>\n",
              "    <tr>\n",
              "      <th>3</th>\n",
              "      <td>4</td>\n",
              "      <td>56</td>\n",
              "      <td>1994</td>\n",
              "      <td>0</td>\n",
              "      <td>0</td>\n",
              "      <td>0</td>\n",
              "      <td>0</td>\n",
              "      <td>0</td>\n",
              "      <td>0</td>\n",
              "      <td>1</td>\n",
              "      <td>...</td>\n",
              "      <td>0</td>\n",
              "      <td>0</td>\n",
              "      <td>0</td>\n",
              "      <td>0</td>\n",
              "      <td>0</td>\n",
              "      <td>0</td>\n",
              "      <td>0</td>\n",
              "      <td>0</td>\n",
              "      <td>0</td>\n",
              "      <td>5</td>\n",
              "    </tr>\n",
              "    <tr>\n",
              "      <th>4</th>\n",
              "      <td>4</td>\n",
              "      <td>56</td>\n",
              "      <td>1994</td>\n",
              "      <td>0</td>\n",
              "      <td>0</td>\n",
              "      <td>0</td>\n",
              "      <td>0</td>\n",
              "      <td>0</td>\n",
              "      <td>0</td>\n",
              "      <td>1</td>\n",
              "      <td>...</td>\n",
              "      <td>0</td>\n",
              "      <td>0</td>\n",
              "      <td>0</td>\n",
              "      <td>0</td>\n",
              "      <td>0</td>\n",
              "      <td>0</td>\n",
              "      <td>0</td>\n",
              "      <td>0</td>\n",
              "      <td>0</td>\n",
              "      <td>3</td>\n",
              "    </tr>\n",
              "    <tr>\n",
              "      <th>...</th>\n",
              "      <td>...</td>\n",
              "      <td>...</td>\n",
              "      <td>...</td>\n",
              "      <td>...</td>\n",
              "      <td>...</td>\n",
              "      <td>...</td>\n",
              "      <td>...</td>\n",
              "      <td>...</td>\n",
              "      <td>...</td>\n",
              "      <td>...</td>\n",
              "      <td>...</td>\n",
              "      <td>...</td>\n",
              "      <td>...</td>\n",
              "      <td>...</td>\n",
              "      <td>...</td>\n",
              "      <td>...</td>\n",
              "      <td>...</td>\n",
              "      <td>...</td>\n",
              "      <td>...</td>\n",
              "      <td>...</td>\n",
              "      <td>...</td>\n",
              "    </tr>\n",
              "    <tr>\n",
              "      <th>52857</th>\n",
              "      <td>1</td>\n",
              "      <td>958</td>\n",
              "      <td>1994</td>\n",
              "      <td>0</td>\n",
              "      <td>0</td>\n",
              "      <td>0</td>\n",
              "      <td>0</td>\n",
              "      <td>0</td>\n",
              "      <td>0</td>\n",
              "      <td>0</td>\n",
              "      <td>...</td>\n",
              "      <td>0</td>\n",
              "      <td>0</td>\n",
              "      <td>0</td>\n",
              "      <td>0</td>\n",
              "      <td>0</td>\n",
              "      <td>0</td>\n",
              "      <td>0</td>\n",
              "      <td>0</td>\n",
              "      <td>0</td>\n",
              "      <td>3</td>\n",
              "    </tr>\n",
              "    <tr>\n",
              "      <th>52858</th>\n",
              "      <td>1</td>\n",
              "      <td>958</td>\n",
              "      <td>1994</td>\n",
              "      <td>0</td>\n",
              "      <td>0</td>\n",
              "      <td>0</td>\n",
              "      <td>0</td>\n",
              "      <td>0</td>\n",
              "      <td>0</td>\n",
              "      <td>0</td>\n",
              "      <td>...</td>\n",
              "      <td>0</td>\n",
              "      <td>0</td>\n",
              "      <td>0</td>\n",
              "      <td>0</td>\n",
              "      <td>0</td>\n",
              "      <td>0</td>\n",
              "      <td>0</td>\n",
              "      <td>0</td>\n",
              "      <td>0</td>\n",
              "      <td>5</td>\n",
              "    </tr>\n",
              "    <tr>\n",
              "      <th>52859</th>\n",
              "      <td>1</td>\n",
              "      <td>958</td>\n",
              "      <td>1994</td>\n",
              "      <td>0</td>\n",
              "      <td>0</td>\n",
              "      <td>0</td>\n",
              "      <td>0</td>\n",
              "      <td>0</td>\n",
              "      <td>0</td>\n",
              "      <td>0</td>\n",
              "      <td>...</td>\n",
              "      <td>0</td>\n",
              "      <td>0</td>\n",
              "      <td>0</td>\n",
              "      <td>0</td>\n",
              "      <td>0</td>\n",
              "      <td>0</td>\n",
              "      <td>0</td>\n",
              "      <td>0</td>\n",
              "      <td>0</td>\n",
              "      <td>3</td>\n",
              "    </tr>\n",
              "    <tr>\n",
              "      <th>52860</th>\n",
              "      <td>1</td>\n",
              "      <td>958</td>\n",
              "      <td>1994</td>\n",
              "      <td>0</td>\n",
              "      <td>0</td>\n",
              "      <td>0</td>\n",
              "      <td>0</td>\n",
              "      <td>0</td>\n",
              "      <td>0</td>\n",
              "      <td>0</td>\n",
              "      <td>...</td>\n",
              "      <td>0</td>\n",
              "      <td>0</td>\n",
              "      <td>0</td>\n",
              "      <td>0</td>\n",
              "      <td>0</td>\n",
              "      <td>0</td>\n",
              "      <td>0</td>\n",
              "      <td>0</td>\n",
              "      <td>0</td>\n",
              "      <td>5</td>\n",
              "    </tr>\n",
              "    <tr>\n",
              "      <th>52861</th>\n",
              "      <td>1</td>\n",
              "      <td>958</td>\n",
              "      <td>1994</td>\n",
              "      <td>0</td>\n",
              "      <td>0</td>\n",
              "      <td>0</td>\n",
              "      <td>0</td>\n",
              "      <td>0</td>\n",
              "      <td>0</td>\n",
              "      <td>0</td>\n",
              "      <td>...</td>\n",
              "      <td>0</td>\n",
              "      <td>0</td>\n",
              "      <td>0</td>\n",
              "      <td>0</td>\n",
              "      <td>0</td>\n",
              "      <td>0</td>\n",
              "      <td>0</td>\n",
              "      <td>0</td>\n",
              "      <td>0</td>\n",
              "      <td>1</td>\n",
              "    </tr>\n",
              "  </tbody>\n",
              "</table>\n",
              "<p>52862 rows × 23 columns</p>\n",
              "</div>\n",
              "      <button class=\"colab-df-convert\" onclick=\"convertToInteractive('df-6ba2bb12-3227-48d2-abfa-cd4b1cb34032')\"\n",
              "              title=\"Convert this dataframe to an interactive table.\"\n",
              "              style=\"display:none;\">\n",
              "        \n",
              "  <svg xmlns=\"http://www.w3.org/2000/svg\" height=\"24px\"viewBox=\"0 0 24 24\"\n",
              "       width=\"24px\">\n",
              "    <path d=\"M0 0h24v24H0V0z\" fill=\"none\"/>\n",
              "    <path d=\"M18.56 5.44l.94 2.06.94-2.06 2.06-.94-2.06-.94-.94-2.06-.94 2.06-2.06.94zm-11 1L8.5 8.5l.94-2.06 2.06-.94-2.06-.94L8.5 2.5l-.94 2.06-2.06.94zm10 10l.94 2.06.94-2.06 2.06-.94-2.06-.94-.94-2.06-.94 2.06-2.06.94z\"/><path d=\"M17.41 7.96l-1.37-1.37c-.4-.4-.92-.59-1.43-.59-.52 0-1.04.2-1.43.59L10.3 9.45l-7.72 7.72c-.78.78-.78 2.05 0 2.83L4 21.41c.39.39.9.59 1.41.59.51 0 1.02-.2 1.41-.59l7.78-7.78 2.81-2.81c.8-.78.8-2.07 0-2.86zM5.41 20L4 18.59l7.72-7.72 1.47 1.35L5.41 20z\"/>\n",
              "  </svg>\n",
              "      </button>\n",
              "      \n",
              "  <style>\n",
              "    .colab-df-container {\n",
              "      display:flex;\n",
              "      flex-wrap:wrap;\n",
              "      gap: 12px;\n",
              "    }\n",
              "\n",
              "    .colab-df-convert {\n",
              "      background-color: #E8F0FE;\n",
              "      border: none;\n",
              "      border-radius: 50%;\n",
              "      cursor: pointer;\n",
              "      display: none;\n",
              "      fill: #1967D2;\n",
              "      height: 32px;\n",
              "      padding: 0 0 0 0;\n",
              "      width: 32px;\n",
              "    }\n",
              "\n",
              "    .colab-df-convert:hover {\n",
              "      background-color: #E2EBFA;\n",
              "      box-shadow: 0px 1px 2px rgba(60, 64, 67, 0.3), 0px 1px 3px 1px rgba(60, 64, 67, 0.15);\n",
              "      fill: #174EA6;\n",
              "    }\n",
              "\n",
              "    [theme=dark] .colab-df-convert {\n",
              "      background-color: #3B4455;\n",
              "      fill: #D2E3FC;\n",
              "    }\n",
              "\n",
              "    [theme=dark] .colab-df-convert:hover {\n",
              "      background-color: #434B5C;\n",
              "      box-shadow: 0px 1px 3px 1px rgba(0, 0, 0, 0.15);\n",
              "      filter: drop-shadow(0px 1px 2px rgba(0, 0, 0, 0.3));\n",
              "      fill: #FFFFFF;\n",
              "    }\n",
              "  </style>\n",
              "\n",
              "      <script>\n",
              "        const buttonEl =\n",
              "          document.querySelector('#df-6ba2bb12-3227-48d2-abfa-cd4b1cb34032 button.colab-df-convert');\n",
              "        buttonEl.style.display =\n",
              "          google.colab.kernel.accessAllowed ? 'block' : 'none';\n",
              "\n",
              "        async function convertToInteractive(key) {\n",
              "          const element = document.querySelector('#df-6ba2bb12-3227-48d2-abfa-cd4b1cb34032');\n",
              "          const dataTable =\n",
              "            await google.colab.kernel.invokeFunction('convertToInteractive',\n",
              "                                                     [key], {});\n",
              "          if (!dataTable) return;\n",
              "\n",
              "          const docLinkHtml = 'Like what you see? Visit the ' +\n",
              "            '<a target=\"_blank\" href=https://colab.research.google.com/notebooks/data_table.ipynb>data table notebook</a>'\n",
              "            + ' to learn more about interactive tables.';\n",
              "          element.innerHTML = '';\n",
              "          dataTable['output_type'] = 'display_data';\n",
              "          await google.colab.output.renderOutput(dataTable, element);\n",
              "          const docLink = document.createElement('div');\n",
              "          docLink.innerHTML = docLinkHtml;\n",
              "          element.appendChild(docLink);\n",
              "        }\n",
              "      </script>\n",
              "    </div>\n",
              "  </div>\n",
              "  "
            ]
          },
          "metadata": {},
          "execution_count": 198
        }
      ]
    },
    {
      "cell_type": "code",
      "source": [
        "data_agg=ratings_merged.groupby(by='movie id').agg(['count','sum'])['rating_y'].reset_index() # найдем кол-во и сумму оценок\n",
        "ratings_filtered=ratings_filtered.merge(data_agg,how='inner') # добавим к-во и сумму в датасет\n",
        "ratings_filtered.info() # проверяем на отсутствие пропусков"
      ],
      "metadata": {
        "colab": {
          "base_uri": "https://localhost:8080/"
        },
        "id": "-orO67dDlTgZ",
        "outputId": "f189d251-e4c0-4798-bdc2-6856ef5ea2d9"
      },
      "execution_count": 199,
      "outputs": [
        {
          "output_type": "stream",
          "name": "stdout",
          "text": [
            "<class 'pandas.core.frame.DataFrame'>\n",
            "Int64Index: 737 entries, 0 to 736\n",
            "Data columns (total 24 columns):\n",
            " #   Column        Non-Null Count  Dtype\n",
            "---  ------        --------------  -----\n",
            " 0   rating        737 non-null    int64\n",
            " 1   movie id      737 non-null    int64\n",
            " 2   release date  737 non-null    int64\n",
            " 3   unknown       737 non-null    int64\n",
            " 4   Action        737 non-null    int64\n",
            " 5   Adventure     737 non-null    int64\n",
            " 6   Animation     737 non-null    int64\n",
            " 7   Children's    737 non-null    int64\n",
            " 8   Comedy        737 non-null    int64\n",
            " 9   Crime         737 non-null    int64\n",
            " 10  Documentary   737 non-null    int64\n",
            " 11  Drama         737 non-null    int64\n",
            " 12  Fantasy       737 non-null    int64\n",
            " 13  Film-Noir     737 non-null    int64\n",
            " 14  Horror        737 non-null    int64\n",
            " 15  Musical       737 non-null    int64\n",
            " 16  Mystery       737 non-null    int64\n",
            " 17  Romance       737 non-null    int64\n",
            " 18  Sci-Fi        737 non-null    int64\n",
            " 19  Thriller      737 non-null    int64\n",
            " 20  War           737 non-null    int64\n",
            " 21  Western       737 non-null    int64\n",
            " 22  count         737 non-null    int64\n",
            " 23  sum           737 non-null    int64\n",
            "dtypes: int64(24)\n",
            "memory usage: 143.9 KB\n"
          ]
        }
      ]
    },
    {
      "cell_type": "code",
      "source": [
        "ratings_filtered.head()"
      ],
      "metadata": {
        "colab": {
          "base_uri": "https://localhost:8080/",
          "height": 235
        },
        "id": "U1rDAfyhA6Wr",
        "outputId": "d78c93d6-4454-4d02-9bce-bfe26b18c17a"
      },
      "execution_count": 288,
      "outputs": [
        {
          "output_type": "execute_result",
          "data": {
            "text/plain": [
              "   rating  movie id  release date  unknown  Action  Adventure  Animation  \\\n",
              "0       4        56          1994        0       0          0          0   \n",
              "1       1       592          1995        0       0          0          0   \n",
              "2       1      1582          1947        0       0          0          0   \n",
              "3       1       171          1991        0       0          0          0   \n",
              "4       1       580          1995        0       0          0          0   \n",
              "\n",
              "   Children's  Comedy  Crime  ...  Horror  Musical  Mystery  Romance  Sci-Fi  \\\n",
              "0           0       0      1  ...       0        0        0        0       0   \n",
              "1           0       0      0  ...       0        0        1        0       0   \n",
              "2           0       0      0  ...       0        0        0        0       0   \n",
              "3           0       1      0  ...       0        0        0        0       1   \n",
              "4           0       1      0  ...       0        0        0        1       0   \n",
              "\n",
              "   Thriller  War  Western  count   sum  \n",
              "0         0    0        0    394  1600  \n",
              "1         1    0        0      9    30  \n",
              "2         0    0        0      1     1  \n",
              "3         0    0        0     65   252  \n",
              "4         0    0        0     32   108  \n",
              "\n",
              "[5 rows x 24 columns]"
            ],
            "text/html": [
              "\n",
              "  <div id=\"df-00cbf616-f45c-4730-8912-69264c867e9c\">\n",
              "    <div class=\"colab-df-container\">\n",
              "      <div>\n",
              "<style scoped>\n",
              "    .dataframe tbody tr th:only-of-type {\n",
              "        vertical-align: middle;\n",
              "    }\n",
              "\n",
              "    .dataframe tbody tr th {\n",
              "        vertical-align: top;\n",
              "    }\n",
              "\n",
              "    .dataframe thead th {\n",
              "        text-align: right;\n",
              "    }\n",
              "</style>\n",
              "<table border=\"1\" class=\"dataframe\">\n",
              "  <thead>\n",
              "    <tr style=\"text-align: right;\">\n",
              "      <th></th>\n",
              "      <th>rating</th>\n",
              "      <th>movie id</th>\n",
              "      <th>release date</th>\n",
              "      <th>unknown</th>\n",
              "      <th>Action</th>\n",
              "      <th>Adventure</th>\n",
              "      <th>Animation</th>\n",
              "      <th>Children's</th>\n",
              "      <th>Comedy</th>\n",
              "      <th>Crime</th>\n",
              "      <th>...</th>\n",
              "      <th>Horror</th>\n",
              "      <th>Musical</th>\n",
              "      <th>Mystery</th>\n",
              "      <th>Romance</th>\n",
              "      <th>Sci-Fi</th>\n",
              "      <th>Thriller</th>\n",
              "      <th>War</th>\n",
              "      <th>Western</th>\n",
              "      <th>count</th>\n",
              "      <th>sum</th>\n",
              "    </tr>\n",
              "  </thead>\n",
              "  <tbody>\n",
              "    <tr>\n",
              "      <th>0</th>\n",
              "      <td>4</td>\n",
              "      <td>56</td>\n",
              "      <td>1994</td>\n",
              "      <td>0</td>\n",
              "      <td>0</td>\n",
              "      <td>0</td>\n",
              "      <td>0</td>\n",
              "      <td>0</td>\n",
              "      <td>0</td>\n",
              "      <td>1</td>\n",
              "      <td>...</td>\n",
              "      <td>0</td>\n",
              "      <td>0</td>\n",
              "      <td>0</td>\n",
              "      <td>0</td>\n",
              "      <td>0</td>\n",
              "      <td>0</td>\n",
              "      <td>0</td>\n",
              "      <td>0</td>\n",
              "      <td>394</td>\n",
              "      <td>1600</td>\n",
              "    </tr>\n",
              "    <tr>\n",
              "      <th>1</th>\n",
              "      <td>1</td>\n",
              "      <td>592</td>\n",
              "      <td>1995</td>\n",
              "      <td>0</td>\n",
              "      <td>0</td>\n",
              "      <td>0</td>\n",
              "      <td>0</td>\n",
              "      <td>0</td>\n",
              "      <td>0</td>\n",
              "      <td>0</td>\n",
              "      <td>...</td>\n",
              "      <td>0</td>\n",
              "      <td>0</td>\n",
              "      <td>1</td>\n",
              "      <td>0</td>\n",
              "      <td>0</td>\n",
              "      <td>1</td>\n",
              "      <td>0</td>\n",
              "      <td>0</td>\n",
              "      <td>9</td>\n",
              "      <td>30</td>\n",
              "    </tr>\n",
              "    <tr>\n",
              "      <th>2</th>\n",
              "      <td>1</td>\n",
              "      <td>1582</td>\n",
              "      <td>1947</td>\n",
              "      <td>0</td>\n",
              "      <td>0</td>\n",
              "      <td>0</td>\n",
              "      <td>0</td>\n",
              "      <td>0</td>\n",
              "      <td>0</td>\n",
              "      <td>0</td>\n",
              "      <td>...</td>\n",
              "      <td>0</td>\n",
              "      <td>0</td>\n",
              "      <td>0</td>\n",
              "      <td>0</td>\n",
              "      <td>0</td>\n",
              "      <td>0</td>\n",
              "      <td>0</td>\n",
              "      <td>0</td>\n",
              "      <td>1</td>\n",
              "      <td>1</td>\n",
              "    </tr>\n",
              "    <tr>\n",
              "      <th>3</th>\n",
              "      <td>1</td>\n",
              "      <td>171</td>\n",
              "      <td>1991</td>\n",
              "      <td>0</td>\n",
              "      <td>0</td>\n",
              "      <td>0</td>\n",
              "      <td>0</td>\n",
              "      <td>0</td>\n",
              "      <td>1</td>\n",
              "      <td>0</td>\n",
              "      <td>...</td>\n",
              "      <td>0</td>\n",
              "      <td>0</td>\n",
              "      <td>0</td>\n",
              "      <td>0</td>\n",
              "      <td>1</td>\n",
              "      <td>0</td>\n",
              "      <td>0</td>\n",
              "      <td>0</td>\n",
              "      <td>65</td>\n",
              "      <td>252</td>\n",
              "    </tr>\n",
              "    <tr>\n",
              "      <th>4</th>\n",
              "      <td>1</td>\n",
              "      <td>580</td>\n",
              "      <td>1995</td>\n",
              "      <td>0</td>\n",
              "      <td>0</td>\n",
              "      <td>0</td>\n",
              "      <td>0</td>\n",
              "      <td>0</td>\n",
              "      <td>1</td>\n",
              "      <td>0</td>\n",
              "      <td>...</td>\n",
              "      <td>0</td>\n",
              "      <td>0</td>\n",
              "      <td>0</td>\n",
              "      <td>1</td>\n",
              "      <td>0</td>\n",
              "      <td>0</td>\n",
              "      <td>0</td>\n",
              "      <td>0</td>\n",
              "      <td>32</td>\n",
              "      <td>108</td>\n",
              "    </tr>\n",
              "  </tbody>\n",
              "</table>\n",
              "<p>5 rows × 24 columns</p>\n",
              "</div>\n",
              "      <button class=\"colab-df-convert\" onclick=\"convertToInteractive('df-00cbf616-f45c-4730-8912-69264c867e9c')\"\n",
              "              title=\"Convert this dataframe to an interactive table.\"\n",
              "              style=\"display:none;\">\n",
              "        \n",
              "  <svg xmlns=\"http://www.w3.org/2000/svg\" height=\"24px\"viewBox=\"0 0 24 24\"\n",
              "       width=\"24px\">\n",
              "    <path d=\"M0 0h24v24H0V0z\" fill=\"none\"/>\n",
              "    <path d=\"M18.56 5.44l.94 2.06.94-2.06 2.06-.94-2.06-.94-.94-2.06-.94 2.06-2.06.94zm-11 1L8.5 8.5l.94-2.06 2.06-.94-2.06-.94L8.5 2.5l-.94 2.06-2.06.94zm10 10l.94 2.06.94-2.06 2.06-.94-2.06-.94-.94-2.06-.94 2.06-2.06.94z\"/><path d=\"M17.41 7.96l-1.37-1.37c-.4-.4-.92-.59-1.43-.59-.52 0-1.04.2-1.43.59L10.3 9.45l-7.72 7.72c-.78.78-.78 2.05 0 2.83L4 21.41c.39.39.9.59 1.41.59.51 0 1.02-.2 1.41-.59l7.78-7.78 2.81-2.81c.8-.78.8-2.07 0-2.86zM5.41 20L4 18.59l7.72-7.72 1.47 1.35L5.41 20z\"/>\n",
              "  </svg>\n",
              "      </button>\n",
              "      \n",
              "  <style>\n",
              "    .colab-df-container {\n",
              "      display:flex;\n",
              "      flex-wrap:wrap;\n",
              "      gap: 12px;\n",
              "    }\n",
              "\n",
              "    .colab-df-convert {\n",
              "      background-color: #E8F0FE;\n",
              "      border: none;\n",
              "      border-radius: 50%;\n",
              "      cursor: pointer;\n",
              "      display: none;\n",
              "      fill: #1967D2;\n",
              "      height: 32px;\n",
              "      padding: 0 0 0 0;\n",
              "      width: 32px;\n",
              "    }\n",
              "\n",
              "    .colab-df-convert:hover {\n",
              "      background-color: #E2EBFA;\n",
              "      box-shadow: 0px 1px 2px rgba(60, 64, 67, 0.3), 0px 1px 3px 1px rgba(60, 64, 67, 0.15);\n",
              "      fill: #174EA6;\n",
              "    }\n",
              "\n",
              "    [theme=dark] .colab-df-convert {\n",
              "      background-color: #3B4455;\n",
              "      fill: #D2E3FC;\n",
              "    }\n",
              "\n",
              "    [theme=dark] .colab-df-convert:hover {\n",
              "      background-color: #434B5C;\n",
              "      box-shadow: 0px 1px 3px 1px rgba(0, 0, 0, 0.15);\n",
              "      filter: drop-shadow(0px 1px 2px rgba(0, 0, 0, 0.3));\n",
              "      fill: #FFFFFF;\n",
              "    }\n",
              "  </style>\n",
              "\n",
              "      <script>\n",
              "        const buttonEl =\n",
              "          document.querySelector('#df-00cbf616-f45c-4730-8912-69264c867e9c button.colab-df-convert');\n",
              "        buttonEl.style.display =\n",
              "          google.colab.kernel.accessAllowed ? 'block' : 'none';\n",
              "\n",
              "        async function convertToInteractive(key) {\n",
              "          const element = document.querySelector('#df-00cbf616-f45c-4730-8912-69264c867e9c');\n",
              "          const dataTable =\n",
              "            await google.colab.kernel.invokeFunction('convertToInteractive',\n",
              "                                                     [key], {});\n",
              "          if (!dataTable) return;\n",
              "\n",
              "          const docLinkHtml = 'Like what you see? Visit the ' +\n",
              "            '<a target=\"_blank\" href=https://colab.research.google.com/notebooks/data_table.ipynb>data table notebook</a>'\n",
              "            + ' to learn more about interactive tables.';\n",
              "          element.innerHTML = '';\n",
              "          dataTable['output_type'] = 'display_data';\n",
              "          await google.colab.output.renderOutput(dataTable, element);\n",
              "          const docLink = document.createElement('div');\n",
              "          docLink.innerHTML = docLinkHtml;\n",
              "          element.appendChild(docLink);\n",
              "        }\n",
              "      </script>\n",
              "    </div>\n",
              "  </div>\n",
              "  "
            ]
          },
          "metadata": {},
          "execution_count": 288
        }
      ]
    },
    {
      "cell_type": "markdown",
      "source": [
        "##5. Сформируйте X_train, X_test, y_train, y_test"
      ],
      "metadata": {
        "id": "_EvkCvbOOArq"
      }
    },
    {
      "cell_type": "markdown",
      "source": [
        "В модели будем предсказывать rating. У нас значения признаков release_date (год), count (Количество оценок) и sum (суммарная оценка) отличаются от значения признаков в полях жанров на 3-4 порядка, поэтому выполним предобработку факторов (логарифмирование или нормализацию)"
      ],
      "metadata": {
        "id": "xHLHAZOpCpxr"
      }
    },
    {
      "cell_type": "code",
      "source": [
        "X, y=ratings_filtered[[ \"release date\", \"unknown\", \"Action\", \"Adventure\", \"Animation\", \"Children's\", \"Comedy\", \"Crime\", \n",
        "        \"Documentary\", \"Drama\", \"Fantasy\", \"Film-Noir\", \"Horror\", \"Musical\", \"Mystery\", \"Romance\", \"Sci-Fi\", \"Thriller\", \"War\", \"Western\",\"count\",\"sum\"]].copy(), ratings_filtered['rating'].copy()"
      ],
      "metadata": {
        "id": "Bjtnht5jWk1C"
      },
      "execution_count": 300,
      "outputs": []
    },
    {
      "cell_type": "code",
      "source": [
        "# y =  np.log1p(y)\n",
        "# for col in X.columns:\n",
        "#     if np.abs(X[col].skew()) > 0.3:\n",
        "#         X[col] = np.log1p(X[col])"
      ],
      "metadata": {
        "id": "71USb5jhWb97"
      },
      "execution_count": 290,
      "outputs": []
    },
    {
      "cell_type": "code",
      "source": [
        "min_rating = min(ratings_filtered[\"rating\"])\n",
        "max_rating = max(ratings_filtered[\"rating\"])\n",
        "min_count = min(ratings_filtered[\"count\"])\n",
        "max_count = max(ratings_filtered[\"count\"])\n",
        "min_sum = min(ratings_filtered[\"sum\"])\n",
        "max_sum = max(ratings_filtered[\"sum\"])\n",
        "min_year = min(ratings_filtered[\"release date\"])\n",
        "max_year = max(ratings_filtered[\"release date\"])"
      ],
      "metadata": {
        "id": "3au7F4EISwG2"
      },
      "execution_count": 304,
      "outputs": []
    },
    {
      "cell_type": "code",
      "source": [
        "y = ratings_filtered[\"rating\"].apply(lambda x: (x - min_rating) / (max_rating - min_rating)).values\n"
      ],
      "metadata": {
        "id": "MRRNyNC0SdJz"
      },
      "execution_count": 305,
      "outputs": []
    },
    {
      "cell_type": "code",
      "source": [
        "X=ratings_filtered[[ \"release date\", \"unknown\", \"Action\", \"Adventure\", \"Animation\", \"Children's\", \"Comedy\", \"Crime\", \n",
        "        \"Documentary\", \"Drama\", \"Fantasy\", \"Film-Noir\", \"Horror\", \"Musical\", \"Mystery\", \"Romance\", \"Sci-Fi\", \"Thriller\", \"War\", \"Western\",\"count\",\"sum\"]].copy()\n",
        "X.loc[:,\"count\"] = ratings_filtered[\"count\"].apply(lambda x: (x - min_count) / (max_count - min_count)).values  \n",
        "X.loc[:,\"sum\"] = ratings_filtered[\"sum\"].apply(lambda x: (x - min_sum) / (max_sum - min_sum)).values   \n",
        "X.loc[:,\"release date\"] = ratings_filtered[\"release date\"].apply(lambda x: (x - min_year) / (max_year - min_year)).values       "
      ],
      "metadata": {
        "id": "hOwHM1QlOFQ_"
      },
      "execution_count": 306,
      "outputs": []
    },
    {
      "cell_type": "code",
      "source": [
        "X_train, X_test, y_train, y_test = train_test_split(X, y, test_size=0.20, random_state=1)"
      ],
      "metadata": {
        "id": "NHVMs6IADs1k"
      },
      "execution_count": 307,
      "outputs": []
    },
    {
      "cell_type": "markdown",
      "source": [
        "##6. Возьмите модель линейной регрессии (или любую другую для задачи регрессии)  и обучите ее на фильмах"
      ],
      "metadata": {
        "id": "lNHFXoe7OFnN"
      }
    },
    {
      "cell_type": "code",
      "source": [
        "model = LinearRegression()\n"
      ],
      "metadata": {
        "id": "VUb2jyqgOKb9"
      },
      "execution_count": 308,
      "outputs": []
    },
    {
      "cell_type": "code",
      "source": [
        "model.fit(X_train, y_train)"
      ],
      "metadata": {
        "colab": {
          "base_uri": "https://localhost:8080/"
        },
        "id": "_hdDRfrzD3rx",
        "outputId": "cdb64e44-d641-40de-ac49-9519441a87a0"
      },
      "execution_count": 309,
      "outputs": [
        {
          "output_type": "execute_result",
          "data": {
            "text/plain": [
              "LinearRegression()"
            ]
          },
          "metadata": {},
          "execution_count": 309
        }
      ]
    },
    {
      "cell_type": "markdown",
      "source": [
        "##7. Оцените качество модели на X_test, y_test при помощи метрик для задачи регрессии"
      ],
      "metadata": {
        "id": "nHIbHSDjOLHg"
      }
    },
    {
      "cell_type": "code",
      "source": [
        "y_pred = model.predict(X_test)\n",
        "y_pred"
      ],
      "metadata": {
        "colab": {
          "base_uri": "https://localhost:8080/"
        },
        "id": "Zt5JxOXnOQaP",
        "outputId": "4a6a509d-2e8e-453d-c26f-c0482fd4f496"
      },
      "execution_count": 310,
      "outputs": [
        {
          "output_type": "execute_result",
          "data": {
            "text/plain": [
              "array([ 1.36891120e-01,  1.84590690e-02,  5.49653238e-02,  4.18866705e-02,\n",
              "        1.39233404e-01,  2.30811875e-01,  1.11722190e-01,  5.17568415e-01,\n",
              "        2.72083416e-01,  9.82015380e-02,  6.21671534e-02,  1.99546004e-02,\n",
              "        9.96256764e-02,  6.89700995e-01,  4.38569007e-01,  2.16202310e-01,\n",
              "        1.79546649e-01,  2.64844355e-02,  5.08160664e-01,  2.29886601e-01,\n",
              "        4.79797464e-01,  2.37042103e-02,  9.56743453e-02,  4.39698564e-01,\n",
              "        1.15650349e-01,  6.57775510e-02,  2.62094574e-02,  4.64188622e-01,\n",
              "        6.24306222e-01,  5.48726906e-02,  1.02245767e-01,  2.84608517e-02,\n",
              "        4.00936142e-01,  5.98480980e-02,  3.71735701e-01,  7.17787656e-02,\n",
              "        2.13807248e-02,  2.35577842e-01,  3.51566167e-01,  7.82813957e-02,\n",
              "       -9.04214233e-02, -4.07365990e-02,  1.06876608e-01, -8.14341873e-02,\n",
              "        5.87099068e-01,  2.47316365e-01,  1.87011847e-01,  1.45580121e-01,\n",
              "        2.86729582e-01,  1.77580865e-01,  1.44739235e-01,  7.78496620e-02,\n",
              "       -4.25635304e-03,  9.85876611e-02,  1.45619818e-01,  1.56255925e-01,\n",
              "        1.49330370e-01,  2.48780031e-01,  1.25937993e-01,  3.80766760e-02,\n",
              "        7.77935335e-02,  5.96543885e-02,  2.71604017e-01,  2.55674054e-01,\n",
              "        7.02872388e-02,  6.85669393e-02,  6.22203369e-01,  2.42145683e-01,\n",
              "        5.80697061e-02,  1.18092494e-01,  6.42301338e-02,  7.01620227e-02,\n",
              "        1.11841019e-01,  1.38579313e-01,  1.54921157e-01,  4.60134223e-02,\n",
              "        1.16502910e-01,  5.75216624e-01,  6.45441771e-02,  3.52931756e-01,\n",
              "        6.66677952e-02,  1.87553914e-01,  3.17124397e-01,  5.30744678e-02,\n",
              "        7.62975837e-02,  1.19049508e-01,  1.86572615e-01,  8.61938093e-01,\n",
              "        2.76870860e-01,  8.71835455e-02,  1.44525203e-01,  5.77704926e-02,\n",
              "        2.77824280e-01,  1.95326151e-01,  2.15337860e-01,  8.98103283e-02,\n",
              "        2.95048477e-02,  3.74737843e-01,  1.26775669e-01,  6.29594947e-02,\n",
              "        4.24581246e-01,  8.81790432e-02,  7.30100926e-01,  9.17020114e-01,\n",
              "        8.89285510e-02,  4.30897700e-01,  4.69088214e-01,  1.94933551e-01,\n",
              "        2.45070211e-01,  2.57710071e-01,  5.99382503e-01,  8.33209730e-02,\n",
              "        6.49333240e-02,  4.97550526e-01,  9.68328054e-01,  2.52560855e-01,\n",
              "        2.85423526e-01,  3.30696550e-01, -3.03289351e-02,  4.03740297e-02,\n",
              "       -3.93319866e-03, -5.58015217e-04,  7.65220577e-02,  2.04212540e-01,\n",
              "        6.54660820e-01,  1.03508348e-01,  6.36907799e-02,  4.03517213e-01,\n",
              "        3.73772080e-01,  1.50845017e-01,  2.17563039e-01,  7.16571358e-02,\n",
              "        5.20800199e-01,  2.63006419e-01,  7.65938690e-02,  1.20928866e-01,\n",
              "        2.84479893e-01,  7.89741849e-02,  2.73768980e-02,  7.25349865e-01,\n",
              "        2.15469970e-02,  1.23389997e-01,  9.52585975e-02,  4.05512243e-01,\n",
              "        5.38938342e-01,  9.25848179e-02,  9.20133520e-02,  1.44779491e-01])"
            ]
          },
          "metadata": {},
          "execution_count": 310
        }
      ]
    },
    {
      "cell_type": "code",
      "source": [
        "print (f' Коэффициент детерминации: {model.score(X_test, y_test)}') "
      ],
      "metadata": {
        "colab": {
          "base_uri": "https://localhost:8080/"
        },
        "id": "0rcxAofyGfus",
        "outputId": "0e8dfe3f-4032-473a-fd9d-91cccc9fb8fe"
      },
      "execution_count": 311,
      "outputs": [
        {
          "output_type": "stream",
          "name": "stdout",
          "text": [
            " Коэффициент детерминации: 0.387774861281884\n"
          ]
        }
      ]
    },
    {
      "cell_type": "code",
      "source": [
        "residuals = y_test-y_pred\n",
        "plt.scatter(residuals,y_pred)\n",
        "plt.show()"
      ],
      "metadata": {
        "colab": {
          "base_uri": "https://localhost:8080/",
          "height": 265
        },
        "id": "q5-BRs6PGk27",
        "outputId": "c5a69d63-f342-44c8-a197-8f5478c2a7d6"
      },
      "execution_count": 312,
      "outputs": [
        {
          "output_type": "display_data",
          "data": {
            "text/plain": [
              "<Figure size 432x288 with 1 Axes>"
            ],
            "image/png": "[encoded data removed]"
          },
          "metadata": {
            "needs_background": "light"
          }
        }
      ]
    },
    {
      "cell_type": "code",
      "source": [
        "from statsmodels.graphics.gofplots import qqplot\n",
        "import statsmodels.api as sm\n",
        "from statsmodels.sandbox.regression.predstd import wls_prediction_std\n",
        "from numpy.random import seed"
      ],
      "metadata": {
        "id": "wKLRnifHG89f"
      },
      "execution_count": 313,
      "outputs": []
    },
    {
      "cell_type": "code",
      "source": [
        "seed(1)\n",
        "qqplot(residuals, line='s')\n",
        "plt.show()"
      ],
      "metadata": {
        "colab": {
          "base_uri": "https://localhost:8080/",
          "height": 279
        },
        "id": "5WkPZYhIHBJX",
        "outputId": "d90ce2db-df99-4186-a8fc-2168371ea1d8"
      },
      "execution_count": 314,
      "outputs": [
        {
          "output_type": "display_data",
          "data": {
            "text/plain": [
              "<Figure size 432x288 with 1 Axes>"
            ],
            "image/png": "[encoded data removed]"
          },
          "metadata": {
            "needs_background": "light"
          }
        }
      ]
    },
    {
      "cell_type": "code",
      "source": [
        "mean_squared_error(y_test, y_pred)"
      ],
      "metadata": {
        "colab": {
          "base_uri": "https://localhost:8080/"
        },
        "id": "vmrQ1WRSHGSO",
        "outputId": "cd6d87ed-2a87-42ee-9cfa-353fb8590773"
      },
      "execution_count": 315,
      "outputs": [
        {
          "output_type": "execute_result",
          "data": {
            "text/plain": [
              "0.07825407834760982"
            ]
          },
          "metadata": {},
          "execution_count": 315
        }
      ]
    },
    {
      "cell_type": "markdown",
      "source": [
        "##8.Загрузить данные в spark"
      ],
      "metadata": {
        "id": "meN5p4LaORGN"
      }
    },
    {
      "cell_type": "code",
      "source": [
        "!apt-get update > /dev/null"
      ],
      "metadata": {
        "id": "jZ3yeeJvObF9"
      },
      "execution_count": 1,
      "outputs": []
    },
    {
      "cell_type": "code",
      "source": [
        "!apt-get install openjdk-8-jdk-headless -qq > /dev/null"
      ],
      "metadata": {
        "id": "rja6dgJ5hoIT"
      },
      "execution_count": 2,
      "outputs": []
    },
    {
      "cell_type": "code",
      "source": [
        "!wget -q https://dlcdn.apache.org/spark/spark-3.3.1/spark-3.3.1-bin-hadoop3.tgz"
      ],
      "metadata": {
        "id": "9KLXUUJchuNn"
      },
      "execution_count": 3,
      "outputs": []
    },
    {
      "cell_type": "code",
      "source": [
        "!tar -xf spark-3.3.1-bin-hadoop3.tgz"
      ],
      "metadata": {
        "id": "7BQN9fzyhyhv"
      },
      "execution_count": 4,
      "outputs": []
    },
    {
      "cell_type": "code",
      "source": [
        "os.environ[\"JAVA_HOME\"] = \"/usr/lib/jvm/java-8-openjdk-amd64\"\n",
        "os.environ[\"SPARK_HOME\"] = \"/content/spark-3.3.1-bin-hadoop3\""
      ],
      "metadata": {
        "id": "LtjLTkcFh5YZ"
      },
      "execution_count": 6,
      "outputs": []
    },
    {
      "cell_type": "code",
      "source": [
        "!pip install -q findspark\n",
        "import findspark"
      ],
      "metadata": {
        "id": "HIfiW9cMiBtC"
      },
      "execution_count": 7,
      "outputs": []
    },
    {
      "cell_type": "code",
      "source": [
        "findspark.init()\n",
        "from pyspark.sql import SparkSession"
      ],
      "metadata": {
        "id": "67w-uelliHYM"
      },
      "execution_count": 8,
      "outputs": []
    },
    {
      "cell_type": "code",
      "source": [
        "spark = SparkSession.builder.master(\"local[*]\").getOrCreate()\n",
        "sc = spark.sparkContext"
      ],
      "metadata": {
        "id": "Lu9mzI_jiKzG"
      },
      "execution_count": 9,
      "outputs": []
    },
    {
      "cell_type": "code",
      "source": [
        "from pyspark.sql.types import StructType, StructField, IntegerType, StringType, DateType\n",
        "from pyspark.sql.functions import asc, desc, col\n",
        "from pyspark.sql import functions as F"
      ],
      "metadata": {
        "id": "r8SWbUCQmCTi"
      },
      "execution_count": 19,
      "outputs": []
    },
    {
      "cell_type": "code",
      "source": [
        "schema = StructType(fields=[\n",
        "    StructField(\"user_id\", IntegerType()),\n",
        "    StructField(\"item_id\", IntegerType()),\n",
        "    StructField(\"rating\", IntegerType()),\n",
        "    StructField(\"timestamp\", StringType ()),\n",
        "])"
      ],
      "metadata": {
        "id": "grhuUEFfmFfq"
      },
      "execution_count": 11,
      "outputs": []
    },
    {
      "cell_type": "code",
      "source": [
        "df_rt = spark.read.csv('/content/ratings.csv', schema=schema, header=False, sep='\\t')"
      ],
      "metadata": {
        "id": "Msb4RW6qiT-5"
      },
      "execution_count": 12,
      "outputs": []
    },
    {
      "cell_type": "code",
      "source": [
        "df_rt.take(5)"
      ],
      "metadata": {
        "colab": {
          "base_uri": "https://localhost:8080/"
        },
        "id": "XfzzrtAuOhD5",
        "outputId": "2e85aebc-cca3-4b0a-e462-0ce328c0f5a3"
      },
      "execution_count": 13,
      "outputs": [
        {
          "output_type": "execute_result",
          "data": {
            "text/plain": [
              "[Row(user_id=196, item_id=242, rating=3, timestamp='881250949'),\n",
              " Row(user_id=186, item_id=302, rating=3, timestamp='891717742'),\n",
              " Row(user_id=22, item_id=377, rating=1, timestamp='878887116'),\n",
              " Row(user_id=244, item_id=51, rating=2, timestamp='880606923'),\n",
              " Row(user_id=166, item_id=346, rating=1, timestamp='886397596')]"
            ]
          },
          "metadata": {},
          "execution_count": 13
        }
      ]
    },
    {
      "cell_type": "code",
      "source": [
        "movie_schema = StructType(fields=[\n",
        "    StructField(\"movie id\", IntegerType()),\n",
        "     StructField(\"movie_name\", StringType()),\n",
        "    StructField(\"release date\", StringType()),\n",
        "    StructField(\"video_release date\", StringType()),\n",
        "      StructField(\"IMDb URL\", StringType()),\n",
        "     StructField(\"unknown\", IntegerType()),\n",
        "    StructField(\"Action\",  IntegerType()),\n",
        "    StructField(\"Adventure\", IntegerType()),\n",
        "    StructField(\"Animation\", IntegerType()),\n",
        "    StructField(\"Children's\", IntegerType()),\n",
        "    StructField(\"Comedy\", IntegerType()),\n",
        "    StructField(\"Crime\", IntegerType()),\n",
        "    StructField(\"Documentary\", IntegerType()),\n",
        "    StructField(\"Drama\", IntegerType()),\n",
        "    StructField(\"Fantasy\", IntegerType()),\n",
        "    StructField(\"Film-Noir\", IntegerType()),\n",
        "     StructField(\"Horror\", IntegerType()),\n",
        "    StructField(\"Mystery\", IntegerType()),\n",
        "     StructField(\"Romance\", IntegerType()),\n",
        "    StructField(\"Sci-Fi\", IntegerType()),\n",
        "     StructField(\"Thriller\", IntegerType()),\n",
        "    StructField(\"War\", IntegerType()),\n",
        "    StructField(\"Western\", IntegerType())\n",
        "\n",
        "])"
      ],
      "metadata": {
        "id": "JLVkwmI_ms00"
      },
      "execution_count": 14,
      "outputs": []
    },
    {
      "cell_type": "code",
      "source": [
        "df_mv = spark.read.csv('/content/movies.csv', schema=movie_schema, header=False, sep='|',)"
      ],
      "metadata": {
        "id": "IzBXiMsbicOZ"
      },
      "execution_count": 15,
      "outputs": []
    },
    {
      "cell_type": "code",
      "source": [
        "df_mv.take(5)"
      ],
      "metadata": {
        "colab": {
          "base_uri": "https://localhost:8080/"
        },
        "id": "jQiPh85XkAFB",
        "outputId": "d5e332f1-e3a3-4ae1-f166-f3020b22b495"
      },
      "execution_count": 16,
      "outputs": [
        {
          "output_type": "execute_result",
          "data": {
            "text/plain": [
              "[Row(movie id=1, movie_name='Toy Story (1995)', release date='01-Jan-1995', video_release date=None, IMDb URL='http://us.imdb.com/M/title-exact?Toy%20Story%20(1995)', unknown=0, Action=0, Adventure=0, Animation=1, Children's=1, Comedy=1, Crime=0, Documentary=0, Drama=0, Fantasy=0, Film-Noir=0, Horror=0, Mystery=0, Romance=0, Sci-Fi=0, Thriller=0, War=0, Western=0),\n",
              " Row(movie id=2, movie_name='GoldenEye (1995)', release date='01-Jan-1995', video_release date=None, IMDb URL='http://us.imdb.com/M/title-exact?GoldenEye%20(1995)', unknown=0, Action=1, Adventure=1, Animation=0, Children's=0, Comedy=0, Crime=0, Documentary=0, Drama=0, Fantasy=0, Film-Noir=0, Horror=0, Mystery=0, Romance=0, Sci-Fi=0, Thriller=0, War=1, Western=0),\n",
              " Row(movie id=3, movie_name='Four Rooms (1995)', release date='01-Jan-1995', video_release date=None, IMDb URL='http://us.imdb.com/M/title-exact?Four%20Rooms%20(1995)', unknown=0, Action=0, Adventure=0, Animation=0, Children's=0, Comedy=0, Crime=0, Documentary=0, Drama=0, Fantasy=0, Film-Noir=0, Horror=0, Mystery=0, Romance=0, Sci-Fi=0, Thriller=0, War=1, Western=0),\n",
              " Row(movie id=4, movie_name='Get Shorty (1995)', release date='01-Jan-1995', video_release date=None, IMDb URL='http://us.imdb.com/M/title-exact?Get%20Shorty%20(1995)', unknown=0, Action=1, Adventure=0, Animation=0, Children's=0, Comedy=1, Crime=0, Documentary=0, Drama=1, Fantasy=0, Film-Noir=0, Horror=0, Mystery=0, Romance=0, Sci-Fi=0, Thriller=0, War=0, Western=0),\n",
              " Row(movie id=5, movie_name='Copycat (1995)', release date='01-Jan-1995', video_release date=None, IMDb URL='http://us.imdb.com/M/title-exact?Copycat%20(1995)', unknown=0, Action=0, Adventure=0, Animation=0, Children's=0, Comedy=0, Crime=1, Documentary=0, Drama=1, Fantasy=0, Film-Noir=0, Horror=0, Mystery=0, Romance=0, Sci-Fi=0, Thriller=0, War=1, Western=0)]"
            ]
          },
          "metadata": {},
          "execution_count": 16
        }
      ]
    },
    {
      "cell_type": "markdown",
      "source": [
        "##9. Средствами спарка вывести среднюю оценку для каждого фильма"
      ],
      "metadata": {
        "id": "fvw3z3r8Obhz"
      }
    },
    {
      "cell_type": "code",
      "source": [
        "rating_avg=df_rt.groupBy('item_id').avg('rating')"
      ],
      "metadata": {
        "id": "DPcRCZhskiqA"
      },
      "execution_count": 17,
      "outputs": []
    },
    {
      "cell_type": "code",
      "source": [
        "rating_avg.show()"
      ],
      "metadata": {
        "colab": {
          "base_uri": "https://localhost:8080/"
        },
        "id": "dFXbn3JZrIKj",
        "outputId": "e36842e3-5693-45d2-b1f2-c8a1ba3211ab"
      },
      "execution_count": 18,
      "outputs": [
        {
          "output_type": "stream",
          "name": "stdout",
          "text": [
            "+-------+------------------+\n",
            "|item_id|       avg(rating)|\n",
            "+-------+------------------+\n",
            "|    496| 4.121212121212121|\n",
            "|    471|3.6108597285067874|\n",
            "|    463| 3.859154929577465|\n",
            "|    148|          3.203125|\n",
            "|   1342|               2.5|\n",
            "|    833| 3.204081632653061|\n",
            "|   1088| 2.230769230769231|\n",
            "|   1591|3.1666666666666665|\n",
            "|   1238|             3.125|\n",
            "|   1580|               1.0|\n",
            "|   1645|               4.0|\n",
            "|    392|3.5441176470588234|\n",
            "|    623| 2.923076923076923|\n",
            "|    540| 2.511627906976744|\n",
            "|    858|               1.0|\n",
            "|    737| 2.983050847457627|\n",
            "|    243|2.4393939393939394|\n",
            "|   1025|2.9318181818181817|\n",
            "|   1084| 3.857142857142857|\n",
            "|   1127| 2.909090909090909|\n",
            "+-------+------------------+\n",
            "only showing top 20 rows\n",
            "\n"
          ]
        }
      ]
    },
    {
      "cell_type": "markdown",
      "source": [
        "## 10. Посчитайте средствами спарка среднюю оценку для каждого жанра"
      ],
      "metadata": {
        "id": "Mz9AGPk1vG-x"
      }
    },
    {
      "cell_type": "code",
      "source": [
        "action_avg=df_rt.join(df_mv, df_rt.item_id==df_mv['movie id'],how='right').select('rating','Action').where((df_mv['Action']==1)).groupBy('Action').agg(F.avg(df_rt.rating).alias('avg'))\n",
        "action_avg.show()"
      ],
      "metadata": {
        "colab": {
          "base_uri": "https://localhost:8080/"
        },
        "id": "J0EkNm_AV1uB",
        "outputId": "d05797e3-e1b8-47a0-97a2-541efe52c379"
      },
      "execution_count": 36,
      "outputs": [
        {
          "output_type": "stream",
          "name": "stdout",
          "text": [
            "+------+-----------------+\n",
            "|Action|              avg|\n",
            "+------+-----------------+\n",
            "|     1|3.480245417953027|\n",
            "+------+-----------------+\n",
            "\n"
          ]
        }
      ]
    },
    {
      "cell_type": "code",
      "source": [
        "adventure_avg=df_rt.join(df_mv, df_rt.item_id==df_mv['movie id'],how='right').select('rating','Adventure').where((df_mv['Adventure']==1)).groupBy('Adventure').agg(F.avg(df_rt.rating).alias('avg'))\n",
        "adventure_avg.show()"
      ],
      "metadata": {
        "colab": {
          "base_uri": "https://localhost:8080/"
        },
        "id": "SZhKaO4qY7Co",
        "outputId": "879fb994-5644-4ce1-bdcb-00ff832cd290"
      },
      "execution_count": 37,
      "outputs": [
        {
          "output_type": "stream",
          "name": "stdout",
          "text": [
            "+---------+-----------------+\n",
            "|Adventure|              avg|\n",
            "+---------+-----------------+\n",
            "|        1|3.503526503308369|\n",
            "+---------+-----------------+\n",
            "\n"
          ]
        }
      ]
    },
    {
      "cell_type": "code",
      "source": [
        "animation_avg=df_rt.join(df_mv, df_rt.item_id==df_mv['movie id'],how='right').select('rating','Animation').where((df_mv['Animation']==1)).groupBy('Animation').agg(F.avg(df_rt.rating).alias('avg'))\n",
        "animation_avg.show()"
      ],
      "metadata": {
        "colab": {
          "base_uri": "https://localhost:8080/"
        },
        "id": "i5OdqP_ZYzwO",
        "outputId": "d7f788e2-8507-46ac-d7e6-549eb254db29"
      },
      "execution_count": 38,
      "outputs": [
        {
          "output_type": "stream",
          "name": "stdout",
          "text": [
            "+---------+------------------+\n",
            "|Animation|               avg|\n",
            "+---------+------------------+\n",
            "|        1|3.5766990291262135|\n",
            "+---------+------------------+\n",
            "\n"
          ]
        }
      ]
    },
    {
      "cell_type": "code",
      "source": [
        "children_avg=df_rt.join(df_mv, df_rt.item_id==df_mv['movie id'],how='right').select('rating',\"Children's\").where((df_mv[\"Children's\"]==1)).groupBy(\"Children's\").agg(F.avg(df_rt.rating).alias('avg'))\n",
        "children_avg.show()"
      ],
      "metadata": {
        "colab": {
          "base_uri": "https://localhost:8080/"
        },
        "id": "ebcQOLbfZeV2",
        "outputId": "98d2aab9-05b2-4825-9af1-7cf53abdb809"
      },
      "execution_count": 39,
      "outputs": [
        {
          "output_type": "stream",
          "name": "stdout",
          "text": [
            "+----------+------------------+\n",
            "|Children's|               avg|\n",
            "+----------+------------------+\n",
            "|         1|3.3532442216652742|\n",
            "+----------+------------------+\n",
            "\n"
          ]
        }
      ]
    },
    {
      "cell_type": "code",
      "source": [
        "comedy_avg=df_rt.join(df_mv, df_rt.item_id==df_mv['movie id'],how='right').select('rating',\"Comedy\").where((df_mv[\"Comedy\"]==1)).groupBy(\"Comedy\").agg(F.avg(df_rt.rating).alias('avg'))\n",
        "comedy_avg.show()"
      ],
      "metadata": {
        "colab": {
          "base_uri": "https://localhost:8080/"
        },
        "id": "t8y8snaSZxoA",
        "outputId": "c216a43b-d01c-4f4d-eade-97973bf252d9"
      },
      "execution_count": 40,
      "outputs": [
        {
          "output_type": "stream",
          "name": "stdout",
          "text": [
            "+------+------------------+\n",
            "|Comedy|               avg|\n",
            "+------+------------------+\n",
            "|     1|3.3940734781442745|\n",
            "+------+------------------+\n",
            "\n"
          ]
        }
      ]
    },
    {
      "cell_type": "code",
      "source": [
        "crime_avg=df_rt.join(df_mv, df_rt.item_id==df_mv['movie id'],how='right').select('rating',\"Crime\").where((df_mv[\"Crime\"]==1)).groupBy(\"Crime\").agg(F.avg(df_rt.rating).alias('avg'))\n",
        "crime_avg.show()"
      ],
      "metadata": {
        "colab": {
          "base_uri": "https://localhost:8080/"
        },
        "id": "5-oKrXpxaA1h",
        "outputId": "9d3a4752-6aa5-4313-e309-197326f6be0a"
      },
      "execution_count": 41,
      "outputs": [
        {
          "output_type": "stream",
          "name": "stdout",
          "text": [
            "+-----+------------------+\n",
            "|Crime|               avg|\n",
            "+-----+------------------+\n",
            "|    1|3.6322780881440098|\n",
            "+-----+------------------+\n",
            "\n"
          ]
        }
      ]
    },
    {
      "cell_type": "code",
      "source": [
        "documentary_avg=df_rt.join(df_mv, df_rt.item_id==df_mv['movie id'],how='right').select('rating',\"Documentary\").where((df_mv[\"Documentary\"]==1)).groupBy(\"Documentary\").agg(F.avg(df_rt.rating).alias('avg'))\n",
        "documentary_avg.show()"
      ],
      "metadata": {
        "colab": {
          "base_uri": "https://localhost:8080/"
        },
        "id": "Jgg556W7aPdQ",
        "outputId": "4ea0af51-9005-4867-c2da-d40c11a857e2"
      },
      "execution_count": 42,
      "outputs": [
        {
          "output_type": "stream",
          "name": "stdout",
          "text": [
            "+-----------+------------------+\n",
            "|Documentary|               avg|\n",
            "+-----------+------------------+\n",
            "|          1|3.6728232189973613|\n",
            "+-----------+------------------+\n",
            "\n"
          ]
        }
      ]
    },
    {
      "cell_type": "code",
      "source": [
        "drama_avg=df_rt.join(df_mv, df_rt.item_id==df_mv['movie id'],how='right').select('rating',\"Drama\").where((df_mv[\"Drama\"]==1)).groupBy(\"Drama\").agg(F.avg(df_rt.rating).alias('avg'))\n",
        "drama_avg.show()"
      ],
      "metadata": {
        "colab": {
          "base_uri": "https://localhost:8080/"
        },
        "id": "5Ac3i_ggah3E",
        "outputId": "7e870158-393a-4e28-dc7c-c371f22534f8"
      },
      "execution_count": 43,
      "outputs": [
        {
          "output_type": "stream",
          "name": "stdout",
          "text": [
            "+-----+------------------+\n",
            "|Drama|               avg|\n",
            "+-----+------------------+\n",
            "|    1|3.6873793708484772|\n",
            "+-----+------------------+\n",
            "\n"
          ]
        }
      ]
    },
    {
      "cell_type": "code",
      "source": [
        "fantasy_avg=df_rt.join(df_mv, df_rt.item_id==df_mv['movie id'],how='right').select('rating',\"Fantasy\").where((df_mv[\"Fantasy\"]==1)).groupBy(\"Fantasy\").agg(F.avg(df_rt.rating).alias('avg'))\n",
        "fantasy_avg.show()"
      ],
      "metadata": {
        "colab": {
          "base_uri": "https://localhost:8080/"
        },
        "id": "8IvszV7ravEY",
        "outputId": "87220d80-031c-47b5-dce4-7eec04a1cae9"
      },
      "execution_count": 44,
      "outputs": [
        {
          "output_type": "stream",
          "name": "stdout",
          "text": [
            "+-------+------------------+\n",
            "|Fantasy|               avg|\n",
            "+-------+------------------+\n",
            "|      1|3.2152366863905324|\n",
            "+-------+------------------+\n",
            "\n"
          ]
        }
      ]
    },
    {
      "cell_type": "code",
      "source": [
        "film_noir_avg=df_rt.join(df_mv, df_rt.item_id==df_mv['movie id'],how='right').select('rating',\"Film-Noir\").where((df_mv[\"Film-Noir\"]==1)).groupBy(\"Film-Noir\").agg(F.avg(df_rt.rating).alias('avg'))\n",
        "film_noir_avg.show()"
      ],
      "metadata": {
        "colab": {
          "base_uri": "https://localhost:8080/"
        },
        "id": "2ztQ2idha6qv",
        "outputId": "2556467f-7184-4fff-b4a0-1de5cb542c9b"
      },
      "execution_count": 46,
      "outputs": [
        {
          "output_type": "stream",
          "name": "stdout",
          "text": [
            "+---------+------------------+\n",
            "|Film-Noir|               avg|\n",
            "+---------+------------------+\n",
            "|        1|3.9215233698788228|\n",
            "+---------+------------------+\n",
            "\n"
          ]
        }
      ]
    },
    {
      "cell_type": "code",
      "source": [
        "horror_avg=df_rt.join(df_mv, df_rt.item_id==df_mv['movie id'],how='right').select('rating',\"Horror\").where((df_mv[\"Horror\"]==1)).groupBy(\"Horror\").agg(F.avg(df_rt.rating).alias('avg'))\n",
        "horror_avg.show()"
      ],
      "metadata": {
        "colab": {
          "base_uri": "https://localhost:8080/"
        },
        "id": "Wg7diSR1bO-o",
        "outputId": "95200bf5-d9cf-4dbe-8a1c-4bdff89b497e"
      },
      "execution_count": 47,
      "outputs": [
        {
          "output_type": "stream",
          "name": "stdout",
          "text": [
            "+------+------------------+\n",
            "|Horror|               avg|\n",
            "+------+------------------+\n",
            "|     1|3.2903893172841827|\n",
            "+------+------------------+\n",
            "\n"
          ]
        }
      ]
    },
    {
      "cell_type": "code",
      "source": [
        "mystery_avg=df_rt.join(df_mv, df_rt.item_id==df_mv['movie id'],how='right').select('rating',\"Mystery\").where((df_mv[\"Mystery\"]==1)).groupBy(\"Mystery\").agg(F.avg(df_rt.rating).alias('avg'))\n",
        "mystery_avg.show()"
      ],
      "metadata": {
        "colab": {
          "base_uri": "https://localhost:8080/"
        },
        "id": "Lbgud7y6bj1t",
        "outputId": "16e57cc6-7a09-484a-d514-6bf539035c0b"
      },
      "execution_count": 48,
      "outputs": [
        {
          "output_type": "stream",
          "name": "stdout",
          "text": [
            "+-------+-----------------+\n",
            "|Mystery|              avg|\n",
            "+-------+-----------------+\n",
            "|      1|3.521396851029471|\n",
            "+-------+-----------------+\n",
            "\n"
          ]
        }
      ]
    },
    {
      "cell_type": "code",
      "source": [
        "romance_avg=df_rt.join(df_mv, df_rt.item_id==df_mv['movie id'],how='right').select('rating',\"Romance\").where((df_mv[\"Romance\"]==1)).groupBy(\"Romance\").agg(F.avg(df_rt.rating).alias('avg'))\n",
        "romance_avg.show()"
      ],
      "metadata": {
        "colab": {
          "base_uri": "https://localhost:8080/"
        },
        "id": "XcXaULAhb1eE",
        "outputId": "afe99369-0150-463d-afa1-7ae44013cbb7"
      },
      "execution_count": 49,
      "outputs": [
        {
          "output_type": "stream",
          "name": "stdout",
          "text": [
            "+-------+----------------+\n",
            "|Romance|             avg|\n",
            "+-------+----------------+\n",
            "|      1|3.63813155386082|\n",
            "+-------+----------------+\n",
            "\n"
          ]
        }
      ]
    },
    {
      "cell_type": "code",
      "source": [
        "sci_fi_avg=df_rt.join(df_mv, df_rt.item_id==df_mv['movie id'],how='right').select('rating',\"Sci-Fi\").where((df_mv[\"Sci-Fi\"]==1)).groupBy(\"Sci-Fi\").agg(F.avg(df_rt.rating).alias('avg'))\n",
        "sci_fi_avg.show()"
      ],
      "metadata": {
        "colab": {
          "base_uri": "https://localhost:8080/"
        },
        "id": "M0oIzw2ncChq",
        "outputId": "7063cdd8-7725-420e-b26c-567b94ac6a65"
      },
      "execution_count": 50,
      "outputs": [
        {
          "output_type": "stream",
          "name": "stdout",
          "text": [
            "+------+-----------------+\n",
            "|Sci-Fi|              avg|\n",
            "+------+-----------------+\n",
            "|     1|3.621704948358255|\n",
            "+------+-----------------+\n",
            "\n"
          ]
        }
      ]
    },
    {
      "cell_type": "code",
      "source": [
        "thriller_avg=df_rt.join(df_mv, df_rt.item_id==df_mv['movie id'],how='right').select('rating',\"Thriller\").where((df_mv[\"Thriller\"]==1)).groupBy(\"Thriller\").agg(F.avg(df_rt.rating).alias('avg'))\n",
        "thriller_avg.show()"
      ],
      "metadata": {
        "colab": {
          "base_uri": "https://localhost:8080/"
        },
        "id": "tXGFyK77cR1d",
        "outputId": "de83121b-7eb4-40e2-e074-1d07e939e5db"
      },
      "execution_count": 51,
      "outputs": [
        {
          "output_type": "stream",
          "name": "stdout",
          "text": [
            "+--------+------------------+\n",
            "|Thriller|               avg|\n",
            "+--------+------------------+\n",
            "|       1|3.5607227022780834|\n",
            "+--------+------------------+\n",
            "\n"
          ]
        }
      ]
    },
    {
      "cell_type": "code",
      "source": [
        "war_avg=df_rt.join(df_mv, df_rt.item_id==df_mv['movie id'],how='right').select('rating',\"War\").where((df_mv[\"War\"]==1)).groupBy(\"War\").agg(F.avg(df_rt.rating).alias('avg'))\n",
        "war_avg.show()"
      ],
      "metadata": {
        "colab": {
          "base_uri": "https://localhost:8080/"
        },
        "id": "4cLTJu3sceGl",
        "outputId": "f35188b7-d547-4527-fa62-ceda8585299c"
      },
      "execution_count": 52,
      "outputs": [
        {
          "output_type": "stream",
          "name": "stdout",
          "text": [
            "+---+------------------+\n",
            "|War|               avg|\n",
            "+---+------------------+\n",
            "|  1|3.5090069495245064|\n",
            "+---+------------------+\n",
            "\n"
          ]
        }
      ]
    },
    {
      "cell_type": "code",
      "source": [
        "western_avg=df_rt.join(df_mv, df_rt.item_id==df_mv['movie id'],how='right').select('rating',\"Western\").where((df_mv[\"Western\"]==1)).groupBy(\"Western\").agg(F.avg(df_rt.rating).alias('avg'))\n",
        "western_avg.show()"
      ],
      "metadata": {
        "colab": {
          "base_uri": "https://localhost:8080/"
        },
        "id": "cL-UfZVWcpZc",
        "outputId": "71a02e69-7bf0-482c-dfd9-2fd7f9ba993b"
      },
      "execution_count": 53,
      "outputs": [
        {
          "output_type": "stream",
          "name": "stdout",
          "text": [
            "+-------+-----------------+\n",
            "|Western|              avg|\n",
            "+-------+-----------------+\n",
            "|      1|3.815811874866993|\n",
            "+-------+-----------------+\n",
            "\n"
          ]
        }
      ]
    },
    {
      "cell_type": "markdown",
      "source": [
        "##11. В спарке получить 2 датафрейма с 5-ю самыми популярными и самыми непопулярными фильмами (по количеству оценок, либо по самой оценке - на Ваш выбор)"
      ],
      "metadata": {
        "id": "5pNw4mfmOhhi"
      }
    },
    {
      "cell_type": "code",
      "source": [
        "rating_max = df_rt.groupBy('item_id').agg(F.avg(df_rt.rating).alias('avg')).orderBy(col('avg').desc()).show(5)"
      ],
      "metadata": {
        "colab": {
          "base_uri": "https://localhost:8080/"
        },
        "id": "T15qpawrOnsZ",
        "outputId": "9fb6ee5c-408f-440a-c77e-cbfae377ac6f"
      },
      "execution_count": 64,
      "outputs": [
        {
          "output_type": "stream",
          "name": "stdout",
          "text": [
            "+-------+---+\n",
            "|item_id|avg|\n",
            "+-------+---+\n",
            "|   1599|5.0|\n",
            "|   1467|5.0|\n",
            "|   1500|5.0|\n",
            "|   1653|5.0|\n",
            "|   1122|5.0|\n",
            "+-------+---+\n",
            "only showing top 5 rows\n",
            "\n"
          ]
        }
      ]
    },
    {
      "cell_type": "code",
      "source": [
        "rating_min = df_rt.groupBy('item_id').agg(F.avg(df_rt.rating).alias('avg')).orderBy(col('avg').asc()).show(5)"
      ],
      "metadata": {
        "colab": {
          "base_uri": "https://localhost:8080/"
        },
        "id": "sbmQuws-fjSk",
        "outputId": "2bd9d8f1-67ab-42ba-a0fe-13759674a42a"
      },
      "execution_count": 65,
      "outputs": [
        {
          "output_type": "stream",
          "name": "stdout",
          "text": [
            "+-------+---+\n",
            "|item_id|avg|\n",
            "+-------+---+\n",
            "|   1339|1.0|\n",
            "|   1561|1.0|\n",
            "|   1618|1.0|\n",
            "|   1352|1.0|\n",
            "|    858|1.0|\n",
            "+-------+---+\n",
            "only showing top 5 rows\n",
            "\n"
          ]
        }
      ]
    },
    {
      "cell_type": "code",
      "source": [
        "rating_max1 = df_rt.groupBy('item_id').agg(F.count(df_rt.rating).alias('cnt')).orderBy(col('cnt').desc()).show(5)"
      ],
      "metadata": {
        "colab": {
          "base_uri": "https://localhost:8080/"
        },
        "id": "is66bfwVfrze",
        "outputId": "803d9286-cdbd-406a-c2e4-fc23d60fd53c"
      },
      "execution_count": 66,
      "outputs": [
        {
          "output_type": "stream",
          "name": "stdout",
          "text": [
            "+-------+---+\n",
            "|item_id|cnt|\n",
            "+-------+---+\n",
            "|     50|583|\n",
            "|    258|509|\n",
            "|    100|508|\n",
            "|    181|507|\n",
            "|    294|485|\n",
            "+-------+---+\n",
            "only showing top 5 rows\n",
            "\n"
          ]
        }
      ]
    },
    {
      "cell_type": "code",
      "source": [
        "rating_min1 = df_rt.groupBy('item_id').agg(F.count(df_rt.rating).alias('cnt')).orderBy(col('cnt').asc()).show(5)"
      ],
      "metadata": {
        "colab": {
          "base_uri": "https://localhost:8080/"
        },
        "id": "zNYGb2qQf1DT",
        "outputId": "ca1a3f12-4656-4dce-ef92-c9715e294f9e"
      },
      "execution_count": 67,
      "outputs": [
        {
          "output_type": "stream",
          "name": "stdout",
          "text": [
            "+-------+---+\n",
            "|item_id|cnt|\n",
            "+-------+---+\n",
            "|   1460|  1|\n",
            "|   1618|  1|\n",
            "|   1339|  1|\n",
            "|   1645|  1|\n",
            "|   1650|  1|\n",
            "+-------+---+\n",
            "only showing top 5 rows\n",
            "\n"
          ]
        }
      ]
    }
  ]
}
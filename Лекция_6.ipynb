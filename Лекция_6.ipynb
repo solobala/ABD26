{
  "nbformat": 4,
  "nbformat_minor": 0,
  "metadata": {
    "colab": {
      "provenance": [],
      "include_colab_link": true
    },
    "kernelspec": {
      "name": "python3",
      "display_name": "Python 3"
    }
  },
  "cells": [
    {
      "cell_type": "markdown",
      "metadata": {
        "id": "view-in-github",
        "colab_type": "text"
      },
      "source": [
        "<a href=\"https://colab.research.google.com/github/solobala/ABD26/blob/main/%D0%9B%D0%B5%D0%BA%D1%86%D0%B8%D1%8F_6.ipynb\" target=\"_parent\"><img src=\"https://colab.research.google.com/assets/colab-badge.svg\" alt=\"Open In Colab\"/></a>"
      ]
    },
    {
      "cell_type": "markdown",
      "metadata": {
        "id": "Tt0wTZ1WGSVn"
      },
      "source": [
        "## Установка PySpark"
      ]
    },
    {
      "cell_type": "code",
      "metadata": {
        "id": "wKfUprWiGbxl"
      },
      "source": [
        "!apt-get update > /dev/null"
      ],
      "execution_count": null,
      "outputs": []
    },
    {
      "cell_type": "code",
      "metadata": {
        "id": "eDQwIruzGUfd"
      },
      "source": [
        "!apt-get install openjdk-8-jdk-headless -qq > /dev/null"
      ],
      "execution_count": 2,
      "outputs": []
    },
    {
      "cell_type": "code",
      "metadata": {
        "id": "HU_8HXuuGWjf"
      },
      "source": [
        "!wget -q https://dlcdn.apache.org/spark/spark-3.3.1/spark-3.3.1-bin-hadoop3.tgz"
      ],
      "execution_count": 5,
      "outputs": []
    },
    {
      "cell_type": "code",
      "metadata": {
        "id": "0czFBZLJGYv_"
      },
      "source": [
        "!tar -xf spark-3.3.1-bin-hadoop3.tgz"
      ],
      "execution_count": 6,
      "outputs": []
    },
    {
      "cell_type": "code",
      "metadata": {
        "id": "YRZMSfoBGacL"
      },
      "source": [
        "!pip install -q findspark"
      ],
      "execution_count": 7,
      "outputs": []
    },
    {
      "cell_type": "code",
      "metadata": {
        "id": "O4gF05a5Gmhm"
      },
      "source": [
        "import os\n",
        "os.environ[\"JAVA_HOME\"] = \"/usr/lib/jvm/java-8-openjdk-amd64\"\n",
        "os.environ[\"SPARK_HOME\"] = \"/content/spark-3.3.1-bin-hadoop3\""
      ],
      "execution_count": 9,
      "outputs": []
    },
    {
      "cell_type": "code",
      "metadata": {
        "id": "nSAJozgMGnwB"
      },
      "source": [
        "import findspark\n",
        "findspark.init()\n",
        "from pyspark.sql import SparkSession\n",
        "\n",
        "spark = SparkSession.builder.master(\"local[*]\").getOrCreate()\n",
        "sc = spark.sparkContext"
      ],
      "execution_count": 10,
      "outputs": []
    },
    {
      "cell_type": "markdown",
      "metadata": {
        "id": "ogj228qhHAwN"
      },
      "source": [
        "## Работа с RDD"
      ]
    },
    {
      "cell_type": "code",
      "metadata": {
        "id": "EiMw-VSAGo3M"
      },
      "source": [
        "words = sc.parallelize (\n",
        "   [\"scala\", \n",
        "   \"java\", \n",
        "   \"hadoop\", \n",
        "   \"spark\", \n",
        "   \"akka\",\n",
        "   \"spark\",\n",
        "   \"hadoop\", \n",
        "   \"pyspark\",\n",
        "   \"bigdata\",\n",
        "    \"python\"]\n",
        ")"
      ],
      "execution_count": 11,
      "outputs": []
    },
    {
      "cell_type": "code",
      "metadata": {
        "id": "kvlWJllpHC4O",
        "colab": {
          "base_uri": "https://localhost:8080/"
        },
        "outputId": "21490535-4b7d-4e88-d7b5-789a74135f08"
      },
      "source": [
        "words"
      ],
      "execution_count": 12,
      "outputs": [
        {
          "output_type": "execute_result",
          "data": {
            "text/plain": [
              "ParallelCollectionRDD[0] at readRDDFromFile at PythonRDD.scala:274"
            ]
          },
          "metadata": {},
          "execution_count": 12
        }
      ]
    },
    {
      "cell_type": "code",
      "metadata": {
        "id": "BZtzVt-hHOO3",
        "colab": {
          "base_uri": "https://localhost:8080/"
        },
        "outputId": "6090d571-4a2b-4b75-ce61-5558b2a8246a"
      },
      "source": [
        "words.count()"
      ],
      "execution_count": 13,
      "outputs": [
        {
          "output_type": "execute_result",
          "data": {
            "text/plain": [
              "10"
            ]
          },
          "metadata": {},
          "execution_count": 13
        }
      ]
    },
    {
      "cell_type": "code",
      "metadata": {
        "id": "bv0Au26PaMZn"
      },
      "source": [
        "def mapper(w):\n",
        "  return (w, 1)"
      ],
      "execution_count": 14,
      "outputs": []
    },
    {
      "cell_type": "code",
      "metadata": {
        "id": "Nz1PXABQIW3t",
        "colab": {
          "base_uri": "https://localhost:8080/"
        },
        "outputId": "8c894175-2dbd-4073-9f64-14c4f6f405fd"
      },
      "source": [
        "words.map(mapper)"
      ],
      "execution_count": 15,
      "outputs": [
        {
          "output_type": "execute_result",
          "data": {
            "text/plain": [
              "PythonRDD[2] at RDD at PythonRDD.scala:53"
            ]
          },
          "metadata": {},
          "execution_count": 15
        }
      ]
    },
    {
      "cell_type": "code",
      "metadata": {
        "id": "osteBXqbZlla"
      },
      "source": [
        "transform = words.map(mapper)"
      ],
      "execution_count": null,
      "outputs": []
    },
    {
      "cell_type": "code",
      "metadata": {
        "id": "k0FRlG1MZpui",
        "colab": {
          "base_uri": "https://localhost:8080/",
          "height": 187
        },
        "outputId": "286c8f3c-ee5b-4275-ec00-0e2f63a77894"
      },
      "source": [
        "transform.collect()"
      ],
      "execution_count": null,
      "outputs": [
        {
          "output_type": "execute_result",
          "data": {
            "text/plain": [
              "[('scala', 1),\n",
              " ('java', 1),\n",
              " ('hadoop', 1),\n",
              " ('spark', 1),\n",
              " ('akka', 1),\n",
              " ('spark', 1),\n",
              " ('hadoop', 1),\n",
              " ('pyspark', 1),\n",
              " ('bigdata', 1),\n",
              " ('python', 1)]"
            ]
          },
          "metadata": {
            "tags": []
          },
          "execution_count": 58
        }
      ]
    },
    {
      "cell_type": "code",
      "metadata": {
        "id": "kW1Sv5osZ3kE"
      },
      "source": [
        "def reducer(a, b):\n",
        "  return a + b"
      ],
      "execution_count": 16,
      "outputs": []
    },
    {
      "cell_type": "code",
      "metadata": {
        "id": "UxTD9-pQbHgx"
      },
      "source": [
        "transform.reduceByKey(reducer)"
      ],
      "execution_count": null,
      "outputs": []
    },
    {
      "cell_type": "code",
      "metadata": {
        "id": "g_2MmlI0bKlT"
      },
      "source": [
        "transform = transform.reduceByKey(reducer)"
      ],
      "execution_count": null,
      "outputs": []
    },
    {
      "cell_type": "code",
      "metadata": {
        "id": "Ger9NE6Zcqea",
        "colab": {
          "base_uri": "https://localhost:8080/",
          "height": 153
        },
        "outputId": "dd94591d-ed34-4b44-a441-1352fc29fe2d"
      },
      "source": [
        "transform.collect()"
      ],
      "execution_count": null,
      "outputs": [
        {
          "output_type": "execute_result",
          "data": {
            "text/plain": [
              "[('scala', 1),\n",
              " ('java', 1),\n",
              " ('hadoop', 2),\n",
              " ('akka', 1),\n",
              " ('bigdata', 1),\n",
              " ('python', 1),\n",
              " ('spark', 2),\n",
              " ('pyspark', 1)]"
            ]
          },
          "metadata": {
            "tags": []
          },
          "execution_count": 63
        }
      ]
    },
    {
      "cell_type": "code",
      "source": [
        "# Можно все эти операции в 1 строку сделать\n",
        "words.map(mapper).reduceByKey(reducer).collect()"
      ],
      "metadata": {
        "colab": {
          "base_uri": "https://localhost:8080/"
        },
        "id": "IGvLVVNXOgEj",
        "outputId": "7485ceb3-f1c3-4f02-ca54-8d47a520af79"
      },
      "execution_count": 17,
      "outputs": [
        {
          "output_type": "execute_result",
          "data": {
            "text/plain": [
              "[('scala', 1),\n",
              " ('java', 1),\n",
              " ('hadoop', 2),\n",
              " ('akka', 1),\n",
              " ('bigdata', 1),\n",
              " ('python', 1),\n",
              " ('spark', 2),\n",
              " ('pyspark', 1)]"
            ]
          },
          "metadata": {},
          "execution_count": 17
        }
      ]
    },
    {
      "cell_type": "markdown",
      "metadata": {
        "id": "_bb5fvdXeXtI"
      },
      "source": [
        "## DataFrame"
      ]
    },
    {
      "cell_type": "code",
      "metadata": {
        "id": "uCmY3UWJcsQY"
      },
      "source": [
        "df = spark.read.csv('/content/power.csv', inferSchema=True, header=True)"
      ],
      "execution_count": 27,
      "outputs": []
    },
    {
      "cell_type": "code",
      "metadata": {
        "id": "bL3sp-ZX-R6o"
      },
      "source": [
        "## Обзор"
      ],
      "execution_count": null,
      "outputs": []
    },
    {
      "cell_type": "code",
      "metadata": {
        "id": "WzU537Sc-Tbw",
        "colab": {
          "base_uri": "https://localhost:8080/"
        },
        "outputId": "cf90f016-fd1e-4618-cbff-1fb803d154a3"
      },
      "source": [
        "df.count()"
      ],
      "execution_count": 28,
      "outputs": [
        {
          "output_type": "execute_result",
          "data": {
            "text/plain": [
              "177793"
            ]
          },
          "metadata": {},
          "execution_count": 28
        }
      ]
    },
    {
      "cell_type": "code",
      "metadata": {
        "id": "J5LVS69P-Vbk",
        "colab": {
          "base_uri": "https://localhost:8080/"
        },
        "outputId": "ce62fb29-174e-4e2f-d5ce-e981b4d6b7f0"
      },
      "source": [
        "df.dtypes"
      ],
      "execution_count": 29,
      "outputs": [
        {
          "output_type": "execute_result",
          "data": {
            "text/plain": [
              "[('country', 'string'),\n",
              " ('year', 'int'),\n",
              " ('quantity', 'double'),\n",
              " ('category', 'int')]"
            ]
          },
          "metadata": {},
          "execution_count": 29
        }
      ]
    },
    {
      "cell_type": "code",
      "metadata": {
        "id": "vxVOAo3F-XLd",
        "colab": {
          "base_uri": "https://localhost:8080/"
        },
        "outputId": "952827f7-10a9-4332-8f6d-4d05af41448a"
      },
      "source": [
        "df.take(5)"
      ],
      "execution_count": 31,
      "outputs": [
        {
          "output_type": "execute_result",
          "data": {
            "text/plain": [
              "[Row(country='Austria', year=1996, quantity=5.0, category=1),\n",
              " Row(country='Austria', year=1995, quantity=17.0, category=1),\n",
              " Row(country='Belgium', year=2014, quantity=0.0, category=1),\n",
              " Row(country='Belgium', year=2013, quantity=0.0, category=1),\n",
              " Row(country='Belgium', year=2012, quantity=35.0, category=1)]"
            ]
          },
          "metadata": {},
          "execution_count": 31
        }
      ]
    },
    {
      "cell_type": "markdown",
      "metadata": {
        "id": "FPz3nRfhBxhg"
      },
      "source": [
        "## Практика 1. Загрузите данные из файла transactions.csv. Выведите 10 первых строчек"
      ]
    },
    {
      "cell_type": "code",
      "metadata": {
        "id": "PTllDnpcBwY8"
      },
      "source": [
        "df_practice = spark.read.csv('/content/transactions.csv', inferSchema=True, header=True)"
      ],
      "execution_count": 46,
      "outputs": []
    },
    {
      "cell_type": "code",
      "metadata": {
        "id": "92AS-jyLB2L1",
        "colab": {
          "base_uri": "https://localhost:8080/"
        },
        "outputId": "8c3222f2-7195-4ada-e573-914e635029b7"
      },
      "source": [
        "df_practice.take(10)"
      ],
      "execution_count": 47,
      "outputs": [
        {
          "output_type": "execute_result",
          "data": {
            "text/plain": [
              "[Row(Year=2017, Month=1, ID='t001', Product='A1', Amount=7, Price=2904, Total=20328, Cost=1200),\n",
              " Row(Year=2017, Month=1, ID='t002', Product='A2', Amount=2, Price=1896, Total=3792, Cost=1100),\n",
              " Row(Year=2017, Month=2, ID='t003', Product='A1', Amount=5, Price=2904, Total=14520, Cost=1200),\n",
              " Row(Year=2017, Month=2, ID='t004', Product='A4', Amount=1, Price=8618, Total=8618, Cost=4200),\n",
              " Row(Year=2017, Month=2, ID='t005', Product='A5', Amount=3, Price=5175, Total=15525, Cost=500),\n",
              " Row(Year=2017, Month=2, ID='t006', Product='_6', Amount=4, Price=3500, Total=14000, Cost=200),\n",
              " Row(Year=2017, Month=3, ID='t007', Product='_3', Amount=6, Price=1265, Total=7590, Cost=200),\n",
              " Row(Year=2017, Month=3, ID='t008', Product='_5', Amount=2, Price=5175, Total=10350, Cost=1200),\n",
              " Row(Year=2017, Month=4, ID='t009', Product='_8', Amount=3, Price=3760, Total=11280, Cost=1000),\n",
              " Row(Year=2017, Month=4, ID='t010', Product='_4', Amount=2, Price=8618, Total=17236, Cost=3400)]"
            ]
          },
          "metadata": {},
          "execution_count": 47
        }
      ]
    },
    {
      "cell_type": "code",
      "metadata": {
        "id": "E36zGkAO-ZHe"
      },
      "source": [
        "# Выборки"
      ],
      "execution_count": null,
      "outputs": []
    },
    {
      "cell_type": "code",
      "metadata": {
        "id": "zTeae2v0-eDU",
        "colab": {
          "base_uri": "https://localhost:8080/"
        },
        "outputId": "42f7682e-82f4-48c5-d346-f56a532c5ce5"
      },
      "source": [
        "df_lim = df.select('country', 'year', 'quantity')\n",
        "df_lim.take(1)"
      ],
      "execution_count": 35,
      "outputs": [
        {
          "output_type": "execute_result",
          "data": {
            "text/plain": [
              "[Row(country='Austria', year=1996, quantity=5.0)]"
            ]
          },
          "metadata": {},
          "execution_count": 35
        }
      ]
    },
    {
      "cell_type": "code",
      "metadata": {
        "id": "ASxiaM_P-f3O",
        "colab": {
          "base_uri": "https://localhost:8080/"
        },
        "outputId": "aacf562e-4618-4aef-9d61-448f392c0079"
      },
      "source": [
        "df_lim = df_lim.withColumnRenamed('year', 'y')\n",
        "df_lim"
      ],
      "execution_count": 36,
      "outputs": [
        {
          "output_type": "execute_result",
          "data": {
            "text/plain": [
              "DataFrame[country: string, y: int, quantity: double]"
            ]
          },
          "metadata": {},
          "execution_count": 36
        }
      ]
    },
    {
      "cell_type": "code",
      "metadata": {
        "id": "ncNhRGKE-hvo",
        "colab": {
          "base_uri": "https://localhost:8080/"
        },
        "outputId": "d2c04ce0-799d-499c-ebf4-aa88b15b0f1c"
      },
      "source": [
        "df_lim.columns"
      ],
      "execution_count": 37,
      "outputs": [
        {
          "output_type": "execute_result",
          "data": {
            "text/plain": [
              "['country', 'y', 'quantity']"
            ]
          },
          "metadata": {},
          "execution_count": 37
        }
      ]
    },
    {
      "cell_type": "code",
      "metadata": {
        "id": "Vo5K5V3G-kKr"
      },
      "source": [
        "## Описание и статистики"
      ],
      "execution_count": 38,
      "outputs": []
    },
    {
      "cell_type": "code",
      "metadata": {
        "id": "2dScciVz-nZI",
        "colab": {
          "base_uri": "https://localhost:8080/"
        },
        "outputId": "09bd5cda-cbe4-448e-f3c6-48bd3ff9ae84"
      },
      "source": [
        "df_lim.show()"
      ],
      "execution_count": 39,
      "outputs": [
        {
          "output_type": "stream",
          "name": "stdout",
          "text": [
            "+-------+----+--------+\n",
            "|country|   y|quantity|\n",
            "+-------+----+--------+\n",
            "|Austria|1996|     5.0|\n",
            "|Austria|1995|    17.0|\n",
            "|Belgium|2014|     0.0|\n",
            "|Belgium|2013|     0.0|\n",
            "|Belgium|2012|    35.0|\n",
            "|Belgium|2011|    25.0|\n",
            "|Belgium|2010|    22.0|\n",
            "|Belgium|2009|    45.0|\n",
            "|Czechia|1998|     1.0|\n",
            "|Czechia|1995|     7.0|\n",
            "|Finland|2010|     9.0|\n",
            "|Finland|2009|    13.0|\n",
            "|Finland|2008|    39.0|\n",
            "|Finland|2007|    21.0|\n",
            "|Finland|2006|     0.0|\n",
            "|Finland|2005|     0.0|\n",
            "|Finland|2004|     0.0|\n",
            "|Finland|2003|     0.0|\n",
            "|Finland|2002|     0.0|\n",
            "|Finland|2001|     0.0|\n",
            "+-------+----+--------+\n",
            "only showing top 20 rows\n",
            "\n"
          ]
        }
      ]
    },
    {
      "cell_type": "code",
      "metadata": {
        "id": "g6ESTSnQ-oKQ",
        "colab": {
          "base_uri": "https://localhost:8080/"
        },
        "outputId": "c6b28d7b-8114-49c0-ddb4-5e24a497e708"
      },
      "source": [
        "df_lim.describe().show()"
      ],
      "execution_count": 40,
      "outputs": [
        {
          "output_type": "stream",
          "name": "stdout",
          "text": [
            "+-------+-----------+------------------+--------------------+\n",
            "|summary|    country|                 y|            quantity|\n",
            "+-------+-----------+------------------+--------------------+\n",
            "|  count|     177793|            177793|              177793|\n",
            "|   mean|       null|2003.0083917814536|  225577.33097561405|\n",
            "| stddev|       null| 7.212666047854287|1.6272125582676353E7|\n",
            "|    min|Afghanistan|              1990|            -35779.0|\n",
            "|    max|   Zimbabwe|              2014|             3.257E9|\n",
            "+-------+-----------+------------------+--------------------+\n",
            "\n"
          ]
        }
      ]
    },
    {
      "cell_type": "code",
      "metadata": {
        "id": "U_tjRcwR-p-d"
      },
      "source": [
        "## Сохранение - сохраняет в сессионное хранилище"
      ],
      "execution_count": null,
      "outputs": []
    },
    {
      "cell_type": "code",
      "metadata": {
        "id": "quD2SF92-2gE"
      },
      "source": [
        "df_lim.write.format('com.databricks.spark.csv').option('header', 'true').save('df_lim.csv')"
      ],
      "execution_count": 41,
      "outputs": []
    },
    {
      "cell_type": "code",
      "metadata": {
        "id": "_k9_emZT_Cyi"
      },
      "source": [
        "## Вычисления"
      ],
      "execution_count": null,
      "outputs": []
    },
    {
      "cell_type": "code",
      "metadata": {
        "id": "oStV0Jih_ELx"
      },
      "source": [
        "df_lim = df_lim.withColumn('quantity x 2', df_lim['quantity'] * 2)"
      ],
      "execution_count": null,
      "outputs": []
    },
    {
      "cell_type": "code",
      "metadata": {
        "id": "D7zB2mYn_E7m"
      },
      "source": [
        "df_grp = df_lim.groupBy('country')"
      ],
      "execution_count": null,
      "outputs": []
    },
    {
      "cell_type": "code",
      "metadata": {
        "id": "TTlaanzf_Gti"
      },
      "source": [
        "df_sum = df_grp.sum('quantity', 'quantity x 2')"
      ],
      "execution_count": null,
      "outputs": []
    },
    {
      "cell_type": "code",
      "metadata": {
        "id": "E4HHb1EN_Iiu",
        "colab": {
          "base_uri": "https://localhost:8080/",
          "height": 459
        },
        "outputId": "e879ba6d-2a48-4e22-9f57-f40c17eff851"
      },
      "source": [
        "df_sum.show()"
      ],
      "execution_count": null,
      "outputs": [
        {
          "output_type": "stream",
          "text": [
            "+------------------+--------------------+--------------------+\n",
            "|           country|       sum(quantity)|   sum(quantity x 2)|\n",
            "+------------------+--------------------+--------------------+\n",
            "|     Côte d'Ivoire| 2.815485732456253E7| 5.630971464912506E7|\n",
            "|              Chad|  3796498.7491319943|   7592997.498263989|\n",
            "|          Paraguay|     1.23209483765E7|      2.4641896753E7|\n",
            "|          Anguilla|   20529.34999999997|   41058.69999999994|\n",
            "|             Yemen|1.8178937740390217E8|3.6357875480780435E8|\n",
            "|State of Palestine|  1318668.0123446316|   2637336.024689263|\n",
            "|           Senegal|   6944395.348079733|1.3888790696159465E7|\n",
            "|            Sweden|1.3456236759933385E8| 2.691247351986677E8|\n",
            "|        Cabo Verde|   88130.27080000004|  176260.54160000008|\n",
            "|          Kiribati|   6450.091429000002|  12900.182858000004|\n",
            "|            Guyana|   772150.6722661877|  1544301.3445323755|\n",
            "|       Philippines|  8.45277094530091E7| 1.690554189060182E8|\n",
            "|           Eritrea|   918454.1476713057|  1836908.2953426114|\n",
            "|            Jersey|  142744.73085845588|  285489.46171691176|\n",
            "|             Tonga|  16350.450516472933|  32700.901032945865|\n",
            "|          Djibouti|  130946.11799999996|  261892.23599999992|\n",
            "|         Singapore| 4.701454062703839E7| 9.402908125407678E7|\n",
            "|          Malaysia| 8.356959770425016E8|1.6713919540850031E9|\n",
            "|              Fiji|  400739.80509911076|   801479.6101982215|\n",
            "|            Turkey| 3.500108256564667E8| 7.000216513129334E8|\n",
            "+------------------+--------------------+--------------------+\n",
            "only showing top 20 rows\n",
            "\n"
          ],
          "name": "stdout"
        }
      ]
    },
    {
      "cell_type": "code",
      "metadata": {
        "id": "DmFNR9jX_PRz"
      },
      "source": [
        "## Сводные таблицы"
      ],
      "execution_count": 42,
      "outputs": []
    },
    {
      "cell_type": "code",
      "metadata": {
        "id": "MU4BiZ4-_KOB",
        "colab": {
          "base_uri": "https://localhost:8080/"
        },
        "outputId": "5ac1a0bb-7c95-4039-e0ad-abf8197548e4"
      },
      "source": [
        "df_lim.groupby('country').pivot('y').sum('quantity').show()"
      ],
      "execution_count": 43,
      "outputs": [
        {
          "output_type": "stream",
          "name": "stdout",
          "text": [
            "+------------------+------------------+------------------+------------------+------------------+------------------+------------------+------------------+------------------+------------------+------------------+------------------+------------------+------------------+------------------+------------------+------------------+------------------+------------------+------------------+------------------+------------------+------------------+------------------+------------------+------------------+\n",
            "|           country|              1990|              1991|              1992|              1993|              1994|              1995|              1996|              1997|              1998|              1999|              2000|              2001|              2002|              2003|              2004|              2005|              2006|              2007|              2008|              2009|              2010|              2011|              2012|              2013|              2014|\n",
            "+------------------+------------------+------------------+------------------+------------------+------------------+------------------+------------------+------------------+------------------+------------------+------------------+------------------+------------------+------------------+------------------+------------------+------------------+------------------+------------------+------------------+------------------+------------------+------------------+------------------+------------------+\n",
            "|     Côte d'Ivoire|            4519.4| 4889.860000000001|           4956.78|           4860.54|           4923.54|           5924.12|6544.0599999999995|           6046.12|        8547.39501|       8213.087318|       8310.758212|11490.018712000001|      11918.087318|      10007.058212|           10986.6|           12668.0|           13106.0|           12982.0|           12516.0|           12975.0|           13119.0|           12027.0|           13249.0|           13494.0|           13162.0|\n",
            "|              Chad|1889.0999999999997|2005.6400000000003|           2059.24|           2169.48|           2204.82|2204.5200000000004|2252.1600000000003|2373.4399999999996|            2371.4|           2443.74|2499.8200000000006|2547.9799999999996|           2599.46|       4550.412784|11247.678899999999|11705.347700000002|10825.133500000002|        10212.1214| 9450.513900000002|            9139.4|            9302.7|            8893.3| 8482.320000000002|          8216.224| 8605.600000000002|\n",
            "|          Paraguay|            2377.0|            2837.0|2909.0199999999995|            3023.0|3026.0200000000004|2817.0200000000004|            3295.0|            3113.0|4083.9599999999987|3369.5499999999997|3364.6000000000004| 3036.150000000001|3563.2900000000004| 3587.389999999999| 3663.500000000001|3744.2300000000005|            4347.6| 4728.480000000001|           5441.96| 4893.899999999999|           5135.58| 5409.159999999999|5472.3600000000015| 7154.920000000002| 7088.899999999998|\n",
            "|          Anguilla|              null|              null|              null|              null|              null|              null|              null|              null|              null|              null|              null|              null|              null|            1040.0|              null|              null|              null|              null|              null|              null|              null|              null|              null|              null|              null|\n",
            "|             Yemen|              null|            9271.0|            9607.0|           10595.0|           14661.0|           14827.0|           15154.0|           14216.0|          16108.04|           17239.0|           19539.0|           17843.0|           18011.0|           17529.0|           16240.0|           15842.0|           13928.0|           13071.0|           11529.0|           10836.0|           10407.0|            7877.0|            6810.0|            6008.0|            4762.0|\n",
            "|State of Palestine|               8.0|               8.0|               8.0|               8.0|              12.0|              12.0|              12.0|              12.0|              12.0|              12.0|              12.0|              12.0|              16.0|              16.0|              16.0|              12.0|               9.2|              19.2|               2.0|              30.8|              43.2|              70.4|              21.6|              70.0|              66.8|\n",
            "|           Senegal|  2829.39170538382| 2853.809105266236|2823.5790146961576| 2839.476414578573| 2897.413810460989| 2890.788425085663| 2835.458024615325|  2936.25511459748| 2956.867185484622|2990.0667548242577|4404.6113352589055| 4431.042049629505| 4408.452079819531| 4448.832635239999| 4625.354619712462| 4432.511025358646| 3680.511025358646|       4904.278085|        5768.12143| 5798.119150947256| 5967.029913517605| 6106.950284539114| 6454.781420618032| 5174.339027200373| 5371.253739267815|\n",
            "|            Sweden|          908073.0|          891081.0|          900364.0|          999849.0|          964573.0|         1071536.0|         1099498.0|         1220563.0|         1173335.0|         1022484.0|         1146765.0|         1041671.0|         1020832.0|         1049922.0|         1131570.0|         1177599.0|         1142552.0|         1179496.0|         1136321.0|         1063889.0|         1377212.0|         1244715.0|         1249081.0|         1265465.0|         1273689.0|\n",
            "|        Cabo Verde|              75.6|              78.6|            82.816|              87.0|              91.2|              95.4|              99.6|             104.4|             109.2|             114.0|             118.8|             123.0|             127.2|            10.426|             6.926|             8.326|             9.446|             10.65|            11.718|            12.418|10.755999999999997|             4.908| 9.771999999999998|7.3500000000000005|3.9130000000000003|\n",
            "|          Kiribati|             1.356|1.3860000000000001|1.3980000000000001|1.4339999999999997|1.4579999999999997|             1.488|1.5299999999999998|1.5299999999999998|             1.572|1.6019999999999999|1.6380000000000003|3.6739999999999995| 3.710000000000001|3.7459999999999996|3.7880000000000003| 5.829999999999998| 7.877999999999998| 5.925999999999998| 6.373999999999999|4.0280000000000005| 8.082000000000003| 7.944000000000001|             8.032| 8.113999999999999| 8.261999999999999|\n",
            "|            Guyana|            2622.0|3296.4000000000005| 4988.219999999999|            5124.1|5197.8734326423355| 5063.391972233578| 5631.984965226277| 5552.531678423358| 5162.931968846716| 5930.701167824819| 5655.685986832117|5940.8611674160575| 7010.478247416059|  6499.06977962044| 7204.850950218976| 5915.820000613139| 5981.284526423357|6006.9762036204365| 5628.766545021896| 5463.224526218979| 5287.185061021897|6447.8799708321185| 5378.586423357667| 4621.651897000001|4258.9288786728985|\n",
            "|            Jersey|              null|              null|              null|              null|              null|              null|              null|              null|              null|              null|              null|              null|              null|              null|              null|              null|              null|              null|              null|  45.4176072234764| 33.40857787810384|33.769751693002284| 36.93002257336344|33.318284424379236|28.623024830699762|\n",
            "|       Philippines|3389432.4000000004| 49674.36000000001|48842.791999999994|3387673.3159999996| 50372.10400000001|318319.78399999987|62238.268000000004|1101476.5639999995|63505.763999999996|         65774.452| 72837.80400000002| 70741.74399999998|         69357.388| 72651.39600000002| 73703.08776000002|      1145262.5992| 80533.57619199998| 375252.4298400001|387899.46060000005|106728.27399999995|132154.57400000002|139126.95799999998|148048.22600000008|165680.82280000005|       2319328.672|\n",
            "|           Eritrea|              null|              null|              null|              null|           28688.0|           29467.0|           30421.0|           31052.0|           20518.0|           21130.0|           21782.0|           24434.0|           25170.0|           25900.0|           13050.0|           13444.0|           13780.0|           14186.0|           14578.0|           14998.0|           15294.0|           15624.0|           15960.0|           16308.0|           16668.0|\n",
            "|          Djibouti|           168.244|176.54800000000003|           183.208|191.75800000000004|199.58800000000002|            208.03|           216.958|           225.072|231.01399999999998|           237.898|243.99200000000002|249.69400000000002|258.83599999999996|           264.092|           269.456|274.93399999999997|280.00399999999996|282.20200000000006|           285.002|           285.602|           291.402|295.40200000000004|           303.802|308.93600000000004|           317.058|\n",
            "|             Tonga| 7.314000000000002|7.3199999999999985|             1.762|             8.246|11.202000000000002| 5.814000000000001|2.1239999999999997|1.8579999999999997|             1.992| 2.603999999999999| 6.941999999999999|             1.608|             4.614|              3.54|1.8059999999999996| 4.871999999999999|             1.674|2.7840000000000007|2.1900000000000004|2.1900000000000004|             2.136|1.5660000000000003|             1.626|             1.626| 5.897999999999998|\n",
            "|          Malaysia|1428856.2000000002|          27217.38|          27597.28|        1428868.24|24994.300000000003|          24673.98|          23178.52|          27129.54|          31222.78|          31314.98|          36489.42|          40582.04|          36590.68|39468.880000000005|39404.490000000005|         38439.436|         36390.884|           30935.8|         29021.024|           29078.0|           27201.6|           23815.8|           25174.2|           22881.0|          966174.0|\n",
            "|         Singapore|           44965.8|           47060.4|          48834.86|          55172.78|          58821.28|           54952.2|           59412.0|           60385.4|           56486.8|           49019.8|           46046.8|           45780.2|           45975.8|           31682.1|           38383.8|           41884.8|42049.899999999994|           42481.0|           38689.1|53695.200000000004|          50343.42|           51260.2|          57319.42|         54108.332|           56291.3|\n",
            "|              Fiji|            6328.0|            8932.0|           8865.04| 8885.279999999995|10709.399999999998| 9073.640000000003| 9383.819999999996|7342.1799999999985| 5576.540000000001| 7524.620000000001| 7145.119999999999|           6517.16|            6581.6| 6490.239999999999|           6521.28|           6036.32|           6374.16| 4945.034280000003| 5500.025248950001| 3191.275278240003|2924.7943499999983| 3616.363007000001| 2941.401068000002| 4133.988589000002| 4680.950339000001|\n",
            "|            Turkey|        2.298909E7|          591169.0|          599723.0|       2.2968573E7|          589453.0|         7573364.0|          635039.0|       1.6200935E7|          694044.0|          670289.0|          698298.0|          655890.0|          626810.0|          612238.0|          606267.0|         7410784.0|          699926.0|         2584888.0|         2599385.0|          768243.0|          772017.0|          781582.0|          827777.0|          796931.0|       3.8972592E7|\n",
            "+------------------+------------------+------------------+------------------+------------------+------------------+------------------+------------------+------------------+------------------+------------------+------------------+------------------+------------------+------------------+------------------+------------------+------------------+------------------+------------------+------------------+------------------+------------------+------------------+------------------+------------------+\n",
            "only showing top 20 rows\n",
            "\n"
          ]
        }
      ]
    },
    {
      "cell_type": "markdown",
      "metadata": {
        "id": "Q3hDmhO9CFC_"
      },
      "source": [
        "## Практика 2. Выведите максимальную и минимальную (2 датафрейма) количество (Amount) по продукту"
      ]
    },
    {
      "cell_type": "code",
      "source": [],
      "metadata": {
        "id": "5CrVG3iqXZ_Y"
      },
      "execution_count": null,
      "outputs": []
    },
    {
      "cell_type": "code",
      "metadata": {
        "id": "KW-k4akCCEBH",
        "colab": {
          "base_uri": "https://localhost:8080/"
        },
        "outputId": "7da1cb41-dc4f-406a-b6c0-cece689d9b3d"
      },
      "source": [
        "df_pr_max = df_practice.groupBy('Product').max('Amount')\n",
        "df_pr_max.show()"
      ],
      "execution_count": 51,
      "outputs": [
        {
          "output_type": "stream",
          "name": "stdout",
          "text": [
            "+-------+-----------+\n",
            "|Product|max(Amount)|\n",
            "+-------+-----------+\n",
            "|     _5|          6|\n",
            "|     _2|          8|\n",
            "|     A2|          2|\n",
            "|     _8|         10|\n",
            "|     _3|          7|\n",
            "|     _4|          3|\n",
            "|     _6|          4|\n",
            "|     A4|          3|\n",
            "|     A5|          7|\n",
            "|     A1|          9|\n",
            "+-------+-----------+\n",
            "\n"
          ]
        }
      ]
    },
    {
      "cell_type": "code",
      "metadata": {
        "id": "0i1cCCNxCPQ8",
        "colab": {
          "base_uri": "https://localhost:8080/"
        },
        "outputId": "5c3a8eb8-43ff-468e-d3e4-dec0e93c4366"
      },
      "source": [
        "df_pr_min = df_practice.groupBy('Product').min('Amount')\n",
        "df_pr_min.show()"
      ],
      "execution_count": 52,
      "outputs": [
        {
          "output_type": "stream",
          "name": "stdout",
          "text": [
            "+-------+-----------+\n",
            "|Product|max(Amount)|\n",
            "+-------+-----------+\n",
            "|     _5|          6|\n",
            "|     _2|          8|\n",
            "|     A2|          2|\n",
            "|     _8|         10|\n",
            "|     _3|          7|\n",
            "|     _4|          3|\n",
            "|     _6|          4|\n",
            "|     A4|          3|\n",
            "|     A5|          7|\n",
            "|     A1|          9|\n",
            "+-------+-----------+\n",
            "\n"
          ]
        }
      ]
    },
    {
      "cell_type": "code",
      "source": [
        "df_pr_avg = df_practice.groupBy('Product').avg('Amount')\n",
        "df_pr_avg.show()"
      ],
      "metadata": {
        "colab": {
          "base_uri": "https://localhost:8080/"
        },
        "id": "kz12DAwOkZa4",
        "outputId": "6bec99e5-9418-45b4-d87e-a9fdf8018622"
      },
      "execution_count": 92,
      "outputs": [
        {
          "output_type": "stream",
          "name": "stdout",
          "text": [
            "+-------+------------------+\n",
            "|Product|       avg(Amount)|\n",
            "+-------+------------------+\n",
            "|     _5|3.5454545454545454|\n",
            "|     _2|              4.75|\n",
            "|     A2|               2.0|\n",
            "|     _8|               3.5|\n",
            "|     _3| 4.285714285714286|\n",
            "|     _4|               2.0|\n",
            "|     _6|               4.0|\n",
            "|     A4|               2.0|\n",
            "|     A5|               4.0|\n",
            "|     A1|               5.6|\n",
            "+-------+------------------+\n",
            "\n"
          ]
        }
      ]
    },
    {
      "cell_type": "code",
      "metadata": {
        "id": "ZNjDfZq5CRPB"
      },
      "source": [],
      "execution_count": null,
      "outputs": []
    },
    {
      "cell_type": "code",
      "metadata": {
        "id": "ebXiYWMl_UFY"
      },
      "source": [
        "## Подвыборки"
      ],
      "execution_count": null,
      "outputs": []
    },
    {
      "cell_type": "code",
      "metadata": {
        "id": "eVCYLZaI_Vkg",
        "colab": {
          "base_uri": "https://localhost:8080/"
        },
        "outputId": "d90678d3-ce02-48ac-a206-85b0de0accb2"
      },
      "source": [
        "df['quantity'] > 184264"
      ],
      "execution_count": 53,
      "outputs": [
        {
          "output_type": "execute_result",
          "data": {
            "text/plain": [
              "Column<'(quantity > 184264)'>"
            ]
          },
          "metadata": {},
          "execution_count": 53
        }
      ]
    },
    {
      "cell_type": "code",
      "metadata": {
        "id": "XOYzBPZT_fi8",
        "colab": {
          "base_uri": "https://localhost:8080/"
        },
        "outputId": "0357ac4c-530f-4394-dfd3-13dfcb58e014"
      },
      "source": [
        "df.where((df['quantity'] > 184264)).show()"
      ],
      "execution_count": 54,
      "outputs": [
        {
          "output_type": "stream",
          "name": "stdout",
          "text": [
            "+-------------+----+--------+--------+\n",
            "|      country|year|quantity|category|\n",
            "+-------------+----+--------+--------+\n",
            "|United States|2014|367987.0|       2|\n",
            "|United States|2013|384439.0|       2|\n",
            "|United States|2012|370625.0|       2|\n",
            "|United States|2011|310909.0|       2|\n",
            "|United States|2010|335418.0|       2|\n",
            "|United States|2009|230589.0|       2|\n",
            "|United States|2008|226570.0|       2|\n",
            "|United States|2007|221771.0|       2|\n",
            "|United States|2005|314655.0|       2|\n",
            "|United States|2004|243916.0|       2|\n",
            "|United States|1996|226319.0|       2|\n",
            "|United States|1995|292568.0|       2|\n",
            "|United States|1994|230254.0|       2|\n",
            "|United States|1993|247909.0|       2|\n",
            "|United States|2014|448216.0|       2|\n",
            "|United States|2013|458711.0|       2|\n",
            "|United States|2012|433505.0|       2|\n",
            "|United States|2011|382566.0|       2|\n",
            "|United States|2010|406606.0|       2|\n",
            "|United States|2009|296903.0|       2|\n",
            "+-------------+----+--------+--------+\n",
            "only showing top 20 rows\n",
            "\n"
          ]
        }
      ]
    },
    {
      "cell_type": "code",
      "metadata": {
        "id": "gRaXfT0G_Yv3",
        "colab": {
          "base_uri": "https://localhost:8080/",
          "height": 459
        },
        "outputId": "528690f5-6246-48d9-d58a-92127079824f"
      },
      "source": [
        "df_filter = df.where((df['quantity'] > 184264) & (df['country'] != 'United States'))\n",
        "df_filter.show()"
      ],
      "execution_count": null,
      "outputs": [
        {
          "output_type": "stream",
          "text": [
            "+-------+----+--------+--------+\n",
            "|country|year|quantity|category|\n",
            "+-------+----+--------+--------+\n",
            "|Germany|2014|311259.0|       7|\n",
            "|Germany|2013|287845.0|       7|\n",
            "|Germany|2012|268856.0|       7|\n",
            "|Germany|2011|216897.0|       7|\n",
            "|Germany|2014|311259.0|       7|\n",
            "|Germany|2013|287845.0|       7|\n",
            "|Germany|2012|268856.0|       7|\n",
            "|Germany|2011|216897.0|       7|\n",
            "|Germany|2014|232451.0|       7|\n",
            "|Germany|2013|217991.0|       7|\n",
            "|Germany|2012|192441.0|       7|\n",
            "|Germany|2014|232451.0|       7|\n",
            "|Germany|2013|217991.0|       7|\n",
            "|Germany|2012|192441.0|       7|\n",
            "| Canada|2013|191861.0|      10|\n",
            "| Canada|2007|202060.0|      10|\n",
            "| Canada|2006|203142.0|      10|\n",
            "| Canada|2005|224001.0|      10|\n",
            "| Canada|2004|236803.0|      10|\n",
            "| Canada|2003|226291.0|      10|\n",
            "+-------+----+--------+--------+\n",
            "only showing top 20 rows\n",
            "\n"
          ],
          "name": "stdout"
        }
      ]
    },
    {
      "cell_type": "markdown",
      "metadata": {
        "id": "eXa1U_hMCZiL"
      },
      "source": [
        "# Практика 3. Выведите список всех, товаров, которых хоть когда-то было больше 5-ти штук\n"
      ]
    },
    {
      "cell_type": "code",
      "metadata": {
        "id": "xkNPdiNuCYzR",
        "colab": {
          "base_uri": "https://localhost:8080/"
        },
        "outputId": "c3fa6e5f-da8c-4a77-8182-aaba47d2790b"
      },
      "source": [
        "df_pr_max.where(df_pr_max['max(Amount)']>5).orderBy('max(Amount)').limit(3).show()\n",
        "\n"
      ],
      "execution_count": 99,
      "outputs": [
        {
          "output_type": "stream",
          "name": "stdout",
          "text": [
            "+-------+-----------+\n",
            "|Product|max(Amount)|\n",
            "+-------+-----------+\n",
            "|     _5|          6|\n",
            "|     _3|          7|\n",
            "|     A5|          7|\n",
            "+-------+-----------+\n",
            "\n"
          ]
        }
      ]
    },
    {
      "cell_type": "markdown",
      "metadata": {
        "id": "SPtzrDNLARKa"
      },
      "source": [
        "## SQL"
      ]
    },
    {
      "cell_type": "code",
      "metadata": {
        "id": "6XBmRZQV_w0T",
        "colab": {
          "base_uri": "https://localhost:8080/",
          "height": 459
        },
        "outputId": "b96b6dda-8dd5-4b05-829c-8d6fbada5207"
      },
      "source": [
        "df.show()"
      ],
      "execution_count": null,
      "outputs": [
        {
          "output_type": "stream",
          "text": [
            "+-------+----+--------+--------+\n",
            "|country|year|quantity|category|\n",
            "+-------+----+--------+--------+\n",
            "|Austria|1996|     5.0|       1|\n",
            "|Austria|1995|    17.0|       1|\n",
            "|Belgium|2014|     0.0|       1|\n",
            "|Belgium|2013|     0.0|       1|\n",
            "|Belgium|2012|    35.0|       1|\n",
            "|Belgium|2011|    25.0|       1|\n",
            "|Belgium|2010|    22.0|       1|\n",
            "|Belgium|2009|    45.0|       1|\n",
            "|Czechia|1998|     1.0|       1|\n",
            "|Czechia|1995|     7.0|       1|\n",
            "|Finland|2010|     9.0|       1|\n",
            "|Finland|2009|    13.0|       1|\n",
            "|Finland|2008|    39.0|       1|\n",
            "|Finland|2007|    21.0|       1|\n",
            "|Finland|2006|     0.0|       1|\n",
            "|Finland|2005|     0.0|       1|\n",
            "|Finland|2004|     0.0|       1|\n",
            "|Finland|2003|     0.0|       1|\n",
            "|Finland|2002|     0.0|       1|\n",
            "|Finland|2001|     0.0|       1|\n",
            "+-------+----+--------+--------+\n",
            "only showing top 20 rows\n",
            "\n"
          ],
          "name": "stdout"
        }
      ]
    },
    {
      "cell_type": "code",
      "metadata": {
        "id": "Ty8lF2PMAUhb"
      },
      "source": [
        "df.createOrReplaceTempView('power')"
      ],
      "execution_count": 76,
      "outputs": []
    },
    {
      "cell_type": "code",
      "metadata": {
        "id": "QgqTlx1YAYU2",
        "colab": {
          "base_uri": "https://localhost:8080/"
        },
        "outputId": "bb74d7f1-5e28-4b9f-c25e-733072b523dd"
      },
      "source": [
        "spark.sql('SELECT * FROM power').show()"
      ],
      "execution_count": 77,
      "outputs": [
        {
          "output_type": "stream",
          "name": "stdout",
          "text": [
            "+-------+----+--------+--------+\n",
            "|country|year|quantity|category|\n",
            "+-------+----+--------+--------+\n",
            "|Austria|1996|     5.0|       1|\n",
            "|Austria|1995|    17.0|       1|\n",
            "|Belgium|2014|     0.0|       1|\n",
            "|Belgium|2013|     0.0|       1|\n",
            "|Belgium|2012|    35.0|       1|\n",
            "|Belgium|2011|    25.0|       1|\n",
            "|Belgium|2010|    22.0|       1|\n",
            "|Belgium|2009|    45.0|       1|\n",
            "|Czechia|1998|     1.0|       1|\n",
            "|Czechia|1995|     7.0|       1|\n",
            "|Finland|2010|     9.0|       1|\n",
            "|Finland|2009|    13.0|       1|\n",
            "|Finland|2008|    39.0|       1|\n",
            "|Finland|2007|    21.0|       1|\n",
            "|Finland|2006|     0.0|       1|\n",
            "|Finland|2005|     0.0|       1|\n",
            "|Finland|2004|     0.0|       1|\n",
            "|Finland|2003|     0.0|       1|\n",
            "|Finland|2002|     0.0|       1|\n",
            "|Finland|2001|     0.0|       1|\n",
            "+-------+----+--------+--------+\n",
            "only showing top 20 rows\n",
            "\n"
          ]
        }
      ]
    },
    {
      "cell_type": "code",
      "metadata": {
        "id": "jENpgOPmAjLy",
        "colab": {
          "base_uri": "https://localhost:8080/"
        },
        "outputId": "ac3642c3-76ad-48a5-b00d-558f8c12229f"
      },
      "source": [
        "spark.sql('SELECT country, sum(quantity) FROM power GROUP BY country').orderBy('sum(quantity)').show()"
      ],
      "execution_count": 94,
      "outputs": [
        {
          "output_type": "stream",
          "name": "stdout",
          "text": [
            "+--------------------+------------------+\n",
            "|             country|     sum(quantity)|\n",
            "+--------------------+------------------+\n",
            "|St. Helena and De...|               0.0|\n",
            "|Bonaire, St Eusta...|1.8000000000000005|\n",
            "|Sint Maarten (Dut...|1.8000000000000005|\n",
            "|                Niue|1.9139999999999928|\n",
            "|          Seychelles|3.6820000000000004|\n",
            "|Pacific Islands (...|               4.0|\n",
            "|             Andorra| 4.877999999999994|\n",
            "|           Gibraltar| 6.059999999999999|\n",
            "|British Virgin Is...| 8.945999999999993|\n",
            "|Turks and Caicos ...|            13.128|\n",
            "|             Bermuda| 18.25200000000004|\n",
            "|Falkland Is. (Mal...| 19.15799999999998|\n",
            "| St. Pierre-Miquelon|              22.0|\n",
            "|             Mayotte|28.467999999999986|\n",
            "|Micronesia (Fed. ...|30.899999999999995|\n",
            "|               Palau|              46.0|\n",
            "|            Dominica| 50.74399999999999|\n",
            "|             Vanuatu| 63.82199999999998|\n",
            "|           St. Lucia| 79.70400000000018|\n",
            "|               Tonga| 95.30799999999995|\n",
            "+--------------------+------------------+\n",
            "only showing top 20 rows\n",
            "\n"
          ]
        }
      ]
    },
    {
      "cell_type": "code",
      "metadata": {
        "id": "7Cj3YhNoCkzK"
      },
      "source": [
        "## Соединение\n",
        "from pyspark.sql import Row"
      ],
      "execution_count": 79,
      "outputs": []
    },
    {
      "cell_type": "code",
      "metadata": {
        "id": "qKHz1geoCtyb"
      },
      "source": [
        "row1 = Row(\"name\", \"pet\", \"count\")\n",
        "row2 = Row(\"name\", \"pet2\", \"count2\")"
      ],
      "execution_count": 80,
      "outputs": []
    },
    {
      "cell_type": "code",
      "source": [
        "type(row1) #объект pyspark.sql тип Row"
      ],
      "metadata": {
        "colab": {
          "base_uri": "https://localhost:8080/"
        },
        "id": "2sbLzQBSe0Xu",
        "outputId": "d684da7e-cb09-424f-ddfe-3ec3f784e84c"
      },
      "execution_count": 83,
      "outputs": [
        {
          "output_type": "execute_result",
          "data": {
            "text/plain": [
              "pyspark.sql.types.Row"
            ]
          },
          "metadata": {},
          "execution_count": 83
        }
      ]
    },
    {
      "cell_type": "markdown",
      "source": [
        "Создаем RDD из Row1 и Row2"
      ],
      "metadata": {
        "id": "L1VJ9ac4fRgo"
      }
    },
    {
      "cell_type": "code",
      "metadata": {
        "id": "54wmHoIkCxiA"
      },
      "source": [
        "df1 = sc.parallelize([\n",
        "    row1(\"Sue\", \"cat\", 16),\n",
        "    row1(\"Kim\", \"dog\", 1),    \n",
        "    row1(\"Bob\", \"fish\", 5),\n",
        "    row1(\"Libuse\", \"horse\", 1)\n",
        "    ]).toDF()\n",
        "\n",
        "df2 = sc.parallelize([\n",
        "    row2(\"Sue\", \"eagle\", 2),\n",
        "    row2(\"Kim\", \"ant\", 179),    \n",
        "    row2(\"Bob\", \"lizard\", 5),\n",
        "    row2(\"Ferdinand\", \"bees\", 23)\n",
        "    ]).toDF()"
      ],
      "execution_count": 85,
      "outputs": []
    },
    {
      "cell_type": "code",
      "metadata": {
        "id": "2XM0PeqvC1ks",
        "colab": {
          "base_uri": "https://localhost:8080/"
        },
        "outputId": "8fd046d6-f86d-4d6c-97f5-898d5ee73760"
      },
      "source": [
        "df1.show()"
      ],
      "execution_count": 86,
      "outputs": [
        {
          "output_type": "stream",
          "name": "stdout",
          "text": [
            "+------+-----+-----+\n",
            "|  name|  pet|count|\n",
            "+------+-----+-----+\n",
            "|   Sue|  cat|   16|\n",
            "|   Kim|  dog|    1|\n",
            "|   Bob| fish|    5|\n",
            "|Libuse|horse|    1|\n",
            "+------+-----+-----+\n",
            "\n"
          ]
        }
      ]
    },
    {
      "cell_type": "code",
      "metadata": {
        "id": "oGkBbkOpC3_h",
        "colab": {
          "base_uri": "https://localhost:8080/"
        },
        "outputId": "391c5a09-0b94-4e4f-93df-bdbd2e4925a5"
      },
      "source": [
        "df2.show()"
      ],
      "execution_count": 87,
      "outputs": [
        {
          "output_type": "stream",
          "name": "stdout",
          "text": [
            "+---------+------+------+\n",
            "|     name|  pet2|count2|\n",
            "+---------+------+------+\n",
            "|      Sue| eagle|     2|\n",
            "|      Kim|   ant|   179|\n",
            "|      Bob|lizard|     5|\n",
            "|Ferdinand|  bees|    23|\n",
            "+---------+------+------+\n",
            "\n"
          ]
        }
      ]
    },
    {
      "cell_type": "code",
      "metadata": {
        "id": "lMHYaIc3C5pT",
        "colab": {
          "base_uri": "https://localhost:8080/"
        },
        "outputId": "ad70059d-112e-4373-f96e-b0ffbd081df5"
      },
      "source": [
        "df1.join(df2, 'name', how='inner').show()"
      ],
      "execution_count": 89,
      "outputs": [
        {
          "output_type": "stream",
          "name": "stdout",
          "text": [
            "+----+----+-----+------+------+\n",
            "|name| pet|count|  pet2|count2|\n",
            "+----+----+-----+------+------+\n",
            "| Bob|fish|    5|lizard|     5|\n",
            "| Kim| dog|    1|   ant|   179|\n",
            "| Sue| cat|   16| eagle|     2|\n",
            "+----+----+-----+------+------+\n",
            "\n"
          ]
        }
      ]
    },
    {
      "cell_type": "code",
      "source": [
        "df1.join(df2, 'name', how='left').show()"
      ],
      "metadata": {
        "colab": {
          "base_uri": "https://localhost:8080/"
        },
        "id": "Jc-pE_fngRVi",
        "outputId": "e942c2ec-88e5-402d-97e8-f31abfab2a3d"
      },
      "execution_count": 88,
      "outputs": [
        {
          "output_type": "stream",
          "name": "stdout",
          "text": [
            "+------+-----+-----+------+------+\n",
            "|  name|  pet|count|  pet2|count2|\n",
            "+------+-----+-----+------+------+\n",
            "|   Sue|  cat|   16| eagle|     2|\n",
            "|   Kim|  dog|    1|   ant|   179|\n",
            "|   Bob| fish|    5|lizard|     5|\n",
            "|Libuse|horse|    1|  null|  null|\n",
            "+------+-----+-----+------+------+\n",
            "\n"
          ]
        }
      ]
    },
    {
      "cell_type": "code",
      "source": [
        "df1.join(df2, 'name', how='right').show()"
      ],
      "metadata": {
        "colab": {
          "base_uri": "https://localhost:8080/"
        },
        "id": "KByhTz9qgVq9",
        "outputId": "8b503d16-1b38-4afc-d0ba-322396fae401"
      },
      "execution_count": 90,
      "outputs": [
        {
          "output_type": "stream",
          "name": "stdout",
          "text": [
            "+---------+----+-----+------+------+\n",
            "|     name| pet|count|  pet2|count2|\n",
            "+---------+----+-----+------+------+\n",
            "|      Sue| cat|   16| eagle|     2|\n",
            "|      Kim| dog|    1|   ant|   179|\n",
            "|Ferdinand|null| null|  bees|    23|\n",
            "|      Bob|fish|    5|lizard|     5|\n",
            "+---------+----+-----+------+------+\n",
            "\n"
          ]
        }
      ]
    },
    {
      "cell_type": "code",
      "source": [
        "df1.join(df2, 'name', how='outer').show()"
      ],
      "metadata": {
        "colab": {
          "base_uri": "https://localhost:8080/"
        },
        "id": "19q0aY6CgYz3",
        "outputId": "30e0c07b-67de-4d82-99a5-034111394bac"
      },
      "execution_count": 91,
      "outputs": [
        {
          "output_type": "stream",
          "name": "stdout",
          "text": [
            "+---------+-----+-----+------+------+\n",
            "|     name|  pet|count|  pet2|count2|\n",
            "+---------+-----+-----+------+------+\n",
            "|      Bob| fish|    5|lizard|     5|\n",
            "|Ferdinand| null| null|  bees|    23|\n",
            "|      Kim|  dog|    1|   ant|   179|\n",
            "|   Libuse|horse|    1|  null|  null|\n",
            "|      Sue|  cat|   16| eagle|     2|\n",
            "+---------+-----+-----+------+------+\n",
            "\n"
          ]
        }
      ]
    },
    {
      "cell_type": "markdown",
      "metadata": {
        "id": "uLqwPLL_DBJP"
      },
      "source": [
        "## Практика 4. При помощи операции соединения выведите максимальное, минимальное и среднее (avg) количество (Amount) по продукту"
      ]
    },
    {
      "cell_type": "code",
      "metadata": {
        "id": "M1b6U2XYDAQe",
        "colab": {
          "base_uri": "https://localhost:8080/"
        },
        "outputId": "a3f6cec2-3930-48bc-f80f-f1ee17d4740e"
      },
      "source": [
        "df_pr_min.join(df_pr_max, 'Product', how ='inner').join(df_pr_avg, 'Product', how ='inner').show()"
      ],
      "execution_count": 93,
      "outputs": [
        {
          "output_type": "stream",
          "name": "stdout",
          "text": [
            "+-------+-----------+-----------+------------------+\n",
            "|Product|min(Amount)|max(Amount)|       avg(Amount)|\n",
            "+-------+-----------+-----------+------------------+\n",
            "|     _5|          1|          6|3.5454545454545454|\n",
            "|     _2|          1|          8|              4.75|\n",
            "|     A2|          2|          2|               2.0|\n",
            "|     _8|          1|         10|               3.5|\n",
            "|     _3|          2|          7| 4.285714285714286|\n",
            "|     _4|          1|          3|               2.0|\n",
            "|     _6|          4|          4|               4.0|\n",
            "|     A4|          1|          3|               2.0|\n",
            "|     A5|          2|          7|               4.0|\n",
            "|     A1|          2|          9|               5.6|\n",
            "+-------+-----------+-----------+------------------+\n",
            "\n"
          ]
        }
      ]
    },
    {
      "cell_type": "markdown",
      "metadata": {
        "id": "Nrz0MQafAuNE"
      },
      "source": [
        "## Визуализация"
      ]
    },
    {
      "cell_type": "code",
      "metadata": {
        "id": "Zr1qsEHkApOt"
      },
      "source": [
        "import pandas as pd\n",
        "import matplotlib.pyplot as plt\n",
        "%matplotlib inline"
      ],
      "execution_count": null,
      "outputs": []
    },
    {
      "cell_type": "code",
      "metadata": {
        "id": "O8d78LMDA4SY",
        "colab": {
          "base_uri": "https://localhost:8080/",
          "height": 459
        },
        "outputId": "9c8a8d09-70ed-4bf3-b447-ed5448fd21ef"
      },
      "source": [
        "to_show = df.groupby('year').sum('quantity').orderBy('year')\n",
        "to_show.show()"
      ],
      "execution_count": null,
      "outputs": [
        {
          "output_type": "stream",
          "text": [
            "+----+--------------------+\n",
            "|year|       sum(quantity)|\n",
            "+----+--------------------+\n",
            "|1990|2.781426135733307E10|\n",
            "|1991| 2.466541930678139E9|\n",
            "|1992|2.1419483655120907E9|\n",
            "|1993|1.818040678302332...|\n",
            "|1994| 2.286637409479232E9|\n",
            "|1995|1.8993733981039996E9|\n",
            "|1996| 1.276732195368936E9|\n",
            "|1997|2.368193080700125...|\n",
            "|1998| 8.729463830731297E9|\n",
            "|1999| 7.766232101772736E9|\n",
            "|2000| 7.004882006062636E9|\n",
            "|2001|4.0475256363267155E9|\n",
            "|2002| 3.812004491308077E9|\n",
            "|2003| 1.407111379702272E9|\n",
            "|2004|1.4498832309942997E9|\n",
            "|2005|1.623457574857694...|\n",
            "|2006|1.5714035023136258E9|\n",
            "|2007| 9.477595462966421E9|\n",
            "|2008|1.288885727194202...|\n",
            "|2009|1.6234129606657305E9|\n",
            "+----+--------------------+\n",
            "only showing top 20 rows\n",
            "\n"
          ],
          "name": "stdout"
        }
      ]
    },
    {
      "cell_type": "code",
      "metadata": {
        "id": "24dKhvwoAyP8"
      },
      "source": [
        "pd_df = to_show.toPandas()"
      ],
      "execution_count": null,
      "outputs": []
    },
    {
      "cell_type": "code",
      "metadata": {
        "id": "JsNS_OWxA0cS",
        "colab": {
          "base_uri": "https://localhost:8080/",
          "height": 293
        },
        "outputId": "459733d1-ab98-43d6-c172-651a60909fc2"
      },
      "source": [
        "pd_df['sum(quantity)'].plot()"
      ],
      "execution_count": null,
      "outputs": [
        {
          "output_type": "execute_result",
          "data": {
            "text/plain": [
              "<matplotlib.axes._subplots.AxesSubplot at 0x7fbe051c16d8>"
            ]
          },
          "metadata": {
            "tags": []
          },
          "execution_count": 97
        },
        {
          "output_type": "display_data",
          "data": {
            "image/png": "[encoded data removed]",
            "text/plain": [
              "<Figure size 432x288 with 1 Axes>"
            ]
          },
          "metadata": {
            "tags": [],
            "needs_background": "light"
          }
        }
      ]
    },
    {
      "cell_type": "code",
      "metadata": {
        "id": "l7-hNianA7Gb"
      },
      "source": [
        "years = to_show[['year']].collect()\n",
        "sums = to_show[['sum(quantity)']].collect()"
      ],
      "execution_count": null,
      "outputs": []
    },
    {
      "cell_type": "code",
      "metadata": {
        "id": "rz0NWYznA_nw",
        "colab": {
          "base_uri": "https://localhost:8080/",
          "height": 276
        },
        "outputId": "3ecbb3b2-820a-4704-ef77-4bc8b9e568a6"
      },
      "source": [
        "plt.figure()\n",
        "plt.plot(years, sums)\n",
        "plt.show()"
      ],
      "execution_count": null,
      "outputs": [
        {
          "output_type": "display_data",
          "data": {
            "image/png": "[encoded data removed]",
            "text/plain": [
              "<Figure size 432x288 with 1 Axes>"
            ]
          },
          "metadata": {
            "tags": [],
            "needs_background": "light"
          }
        }
      ]
    },
    {
      "cell_type": "markdown",
      "metadata": {
        "id": "OA44u9RCDO0W"
      },
      "source": [
        "# Домашнее задание\n",
        "- Скачайте dataset iris https://drive.google.com/file/d/18ksAxTxBkp15LToEg46BHhwp3sPIoeUU/view?usp=sharing\n",
        "- Решите домашнее задание - https://colab.research.google.com/drive/1bFOzJNdQzITORtur_m0utqfDJ0QbGe7D?usp=sharing"
      ]
    },
    {
      "cell_type": "code",
      "metadata": {
        "id": "lz0L_tE9Fvls"
      },
      "source": [],
      "execution_count": null,
      "outputs": []
    }
  ]
}